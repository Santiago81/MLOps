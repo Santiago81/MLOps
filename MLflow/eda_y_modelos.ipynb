{
 "cells": [
  {
   "cell_type": "code",
   "execution_count": 20,
   "metadata": {},
   "outputs": [],
   "source": [
    "import numpy as np\n",
    "import pandas as pd\n",
    "import matplotlib.pyplot as plt\n",
    "%matplotlib inline\n",
    "# Cargar el archivo CSV en un DataFrame\n",
    "df = pd.read_csv(\"airbnb-listings-extract.csv\", sep=\";\")"
   ]
  },
  {
   "cell_type": "code",
   "execution_count": 21,
   "metadata": {},
   "outputs": [],
   "source": [
    "pd.set_option('display.width', 1000)\n",
    "pd.set_option('display.max_columns', None)\n",
    "pd.set_option('display.max_colwidth', 100)"
   ]
  },
  {
   "cell_type": "code",
   "execution_count": 22,
   "metadata": {},
   "outputs": [
    {
     "data": {
      "text/html": [
       "<div>\n",
       "<style scoped>\n",
       "    .dataframe tbody tr th:only-of-type {\n",
       "        vertical-align: middle;\n",
       "    }\n",
       "\n",
       "    .dataframe tbody tr th {\n",
       "        vertical-align: top;\n",
       "    }\n",
       "\n",
       "    .dataframe thead th {\n",
       "        text-align: right;\n",
       "    }\n",
       "</style>\n",
       "<table border=\"1\" class=\"dataframe\">\n",
       "  <thead>\n",
       "    <tr style=\"text-align: right;\">\n",
       "      <th></th>\n",
       "      <th>Summary</th>\n",
       "      <th>Space</th>\n",
       "      <th>Description</th>\n",
       "      <th>Neighborhood Overview</th>\n",
       "      <th>Notes</th>\n",
       "      <th>Transit</th>\n",
       "      <th>Access</th>\n",
       "      <th>Interaction</th>\n",
       "      <th>House Rules</th>\n",
       "      <th>Host About</th>\n",
       "    </tr>\n",
       "  </thead>\n",
       "  <tbody>\n",
       "    <tr>\n",
       "      <th>0</th>\n",
       "      <td>Loft in the Hill country 12-15 minutes directly west of downtown Austin.  It has a private deck ...</td>\n",
       "      <td>This loft has a spectacular view of the hills in the West Austin Area.  It is located 12 minutes...</td>\n",
       "      <td>Loft in the Hill country 12-15 minutes directly west of downtown Austin.  It has a private deck ...</td>\n",
       "      <td>This neighborhood is located in the hills west of downtown Austin with spectacular views both on...</td>\n",
       "      <td>The loft is located on a gated property.  There is a button on the gate to open from the outside...</td>\n",
       "      <td>There is no public transportation from this location, but by car you're less then 15 minutes to ...</td>\n",
       "      <td>The loft is entirely private to the guest as is the Deck with the Hill Country view.</td>\n",
       "      <td>My wife and I live on the property so we would be happy to do what we can to make your stay more...</td>\n",
       "      <td>The loft is entirely private but is adjacent to the house my wife and I live in.   We ask that y...</td>\n",
       "      <td>I am a High Tech Professional with over 30 years in the industry.  I've been working at Dell for...</td>\n",
       "    </tr>\n",
       "    <tr>\n",
       "      <th>1</th>\n",
       "      <td>This apartment has: 1 double bed, 1 double sofa bed. Right next to Plaza Cataluña A spacious and...</td>\n",
       "      <td>This apartment has: 1 double bed, 1 double sofa bed. Licence number: HUTB-006721    This lovely ...</td>\n",
       "      <td>This apartment has: 1 double bed, 1 double sofa bed. Right next to Plaza Cataluña A spacious and...</td>\n",
       "      <td>Plaza   Cataluña Catalonia Square is the largest square in the centre with 30.000 meters square ...</td>\n",
       "      <td>NaN</td>\n",
       "      <td>Ideal to discover the city either on foot or by public transport.</td>\n",
       "      <td>Travellers will have access to the entire apartment.</td>\n",
       "      <td>We will be more than happy to help you with anything you need. We can organize a transfer from t...</td>\n",
       "      <td>CHECK-IN Week Days: The check-in and key collection takes place at: Friendly Rentals, Passatge S...</td>\n",
       "      <td>Hola a todos! Soy Claudia Castillo y soy parte del equipo de Friendly Rentals. \\r\\nSomos un equi...</td>\n",
       "    </tr>\n",
       "    <tr>\n",
       "      <th>2</th>\n",
       "      <td>This apartment has: 1 double bed, 1 double sofa bed. Excellent location and with terrace Ideally...</td>\n",
       "      <td>This apartment has: 1 double bed, 1 double sofa bed. Licence number: HUTB-00752(URL HIDDEN) This...</td>\n",
       "      <td>This apartment has: 1 double bed, 1 double sofa bed. Excellent location and with terrace Ideally...</td>\n",
       "      <td>Plaza   Cataluña Catalonia Square is the largest square in the centre with 30.000 meters square ...</td>\n",
       "      <td>NaN</td>\n",
       "      <td>Ideal to discover the city either on foot or by public transport.</td>\n",
       "      <td>Travellers will have access to the entire apartment.</td>\n",
       "      <td>We will be more than happy to help you with anything you need. We can organize a transfer from t...</td>\n",
       "      <td>CHECK-IN Week Days: The check-in and key collection takes place at: Friendly Rentals, Passatge S...</td>\n",
       "      <td>Hola a todos! Soy Claudia Castillo y soy parte del equipo de Friendly Rentals. \\r\\nSomos un equi...</td>\n",
       "    </tr>\n",
       "    <tr>\n",
       "      <th>3</th>\n",
       "      <td>Live like a local in Barcelona's most chic district when you rent this effortlessly luxurious th...</td>\n",
       "      <td>You wake up to the sun rising over Barcelona's most famous buildings, gently streaming in throug...</td>\n",
       "      <td>Live like a local in Barcelona's most chic district when you rent this effortlessly luxurious th...</td>\n",
       "      <td>We're right in the heart of the chic L'Eixample district, whose beautifully planned architecture...</td>\n",
       "      <td>Local permit: HUTB-006794</td>\n",
       "      <td>Whatever it is you came to see in Barcelona, I'll bet it's within easy walking distance of the h...</td>\n",
       "      <td>This property features keyless entry, making it easy to get in and out at your convenience. You'...</td>\n",
       "      <td>I'm an Aussie who's lived in Barcelona for almost two decades. I love making people feel at home...</td>\n",
       "      <td>Welcome to Barcelona! This will be your home not a hotel, make yourselves comfortable and relax....</td>\n",
       "      <td>Welcome home! You could call me a globetrotter - I’ve lived and travelled all over the world, fr...</td>\n",
       "    </tr>\n",
       "    <tr>\n",
       "      <th>4</th>\n",
       "      <td>Unique apartment in vibrant neighborhoods, carefully selected by expert to make sure you like th...</td>\n",
       "      <td>License: HUTB-005313 Charming apartment, located in one of the best areas of Barcelona, the Eixa...</td>\n",
       "      <td>Unique apartment in vibrant neighborhoods, carefully selected by expert to make sure you like th...</td>\n",
       "      <td>NaN</td>\n",
       "      <td>NaN</td>\n",
       "      <td>NaN</td>\n",
       "      <td>NaN</td>\n",
       "      <td>NaN</td>\n",
       "      <td>NaN</td>\n",
       "      <td>Be Mate offers the exclusive City Mate service, a local concierge that will welcome you to the a...</td>\n",
       "    </tr>\n",
       "    <tr>\n",
       "      <th>5</th>\n",
       "      <td>Unique apartment in vibrant neighborhoods, carefully selected by expert to make sure you like th...</td>\n",
       "      <td>This fully refurbished apartment has 2 bedrooms, one with double bed and one with two beds, bath...</td>\n",
       "      <td>Unique apartment in vibrant neighborhoods, carefully selected by expert to make sure you like th...</td>\n",
       "      <td>NaN</td>\n",
       "      <td>NaN</td>\n",
       "      <td>NaN</td>\n",
       "      <td>NaN</td>\n",
       "      <td>NaN</td>\n",
       "      <td>NaN</td>\n",
       "      <td>Be Mate offers the exclusive City Mate service, a local concierge that will welcome you to the a...</td>\n",
       "    </tr>\n",
       "    <tr>\n",
       "      <th>6</th>\n",
       "      <td>Spacious and quiet apartment that can accommodate up to 5 people very comfortably, because it ha...</td>\n",
       "      <td>Its size allows to accommodate up to 6 people (5 adults or 4 adults and 2 children), 2 people sl...</td>\n",
       "      <td>Spacious and quiet apartment that can accommodate up to 5 people very comfortably, because it ha...</td>\n",
       "      <td>This unique area is rich in history, architecture, culture, and cuisine. Probably one of the mos...</td>\n",
       "      <td>Ninguna. HUTB-(PHONE NUMBER HIDDEN) HUTB-(PHONE NUMBER HIDDEN)</td>\n",
       "      <td>The apartment is just at 3 minutes walking distance from the metro stations Marina or Glorias fr...</td>\n",
       "      <td>Services free of charge for guests are, Wi-Fi, full use of all equipment, 1 baby cot and 1 baby ...</td>\n",
       "      <td>From the beginning, we will be in touch with you, asking about the arrival time in order to give...</td>\n",
       "      <td>1. No smoking inside the apartment (do it at the balcony).  2. No parties are allowed (at any ti...</td>\n",
       "      <td>We are a young and fun pair of friends who have become great hosts - we like to give the same se...</td>\n",
       "    </tr>\n",
       "    <tr>\n",
       "      <th>7</th>\n",
       "      <td>FEBRUARY 6-10, entire apartment available - 2 double bedroom + 2 bathrooms. Spacious flat next t...</td>\n",
       "      <td>Our apartment has been recently renovated preserving the original modernist decoration from the ...</td>\n",
       "      <td>FEBRUARY 6-10, entire apartment available - 2 double bedroom + 2 bathrooms. Spacious flat next t...</td>\n",
       "      <td>I love arriving home from work and suddenly seeing La Sagrada Familia in front of my eyes - it n...</td>\n",
       "      <td>NaN</td>\n",
       "      <td>For the walkers, the old town (\"barrio Gótico) is 30min walking distance (towards the sea) and G...</td>\n",
       "      <td>You will be given a set of keys upon your arrival. Apart from your room and bathroom you can als...</td>\n",
       "      <td>We like meeting our guests and hearing their stories, sharing our common space with them, and ma...</td>\n",
       "      <td>Smoking on the balcony.  No pets.  No parties.</td>\n",
       "      <td>We are a Serbian-Canadian-Belgian couple in our 30s living and working in Barcelona. Kris was bo...</td>\n",
       "    </tr>\n",
       "    <tr>\n",
       "      <th>8</th>\n",
       "      <td>Unique apartment in vibrant neighborhoods, carefully selected by expert to make sure you like th...</td>\n",
       "      <td>Fantastic apartment located 7 minutes from the Basilica of the Sagrada Familia. Fantastic apartm...</td>\n",
       "      <td>Unique apartment in vibrant neighborhoods, carefully selected by expert to make sure you like th...</td>\n",
       "      <td>NaN</td>\n",
       "      <td>NaN</td>\n",
       "      <td>NaN</td>\n",
       "      <td>NaN</td>\n",
       "      <td>NaN</td>\n",
       "      <td>NaN</td>\n",
       "      <td>Be Mate offers the exclusive City Mate service, a local concierge that will welcome you to the a...</td>\n",
       "    </tr>\n",
       "    <tr>\n",
       "      <th>9</th>\n",
       "      <td>Get everywhere in minutes! Charming, traditional home in the heart of old Austin. 2500 square fo...</td>\n",
       "      <td>Located on a large tree-covered lot less than two miles from downtown in one of Austin's oldest ...</td>\n",
       "      <td>Get everywhere in minutes! Charming, traditional home in the heart of old Austin. 2500 square fo...</td>\n",
       "      <td>The Tarrytown neighborhood is best known for its elegant houses, churches, and quiet parks. It i...</td>\n",
       "      <td>Our cat normally lives in the house. He will not be present for your stay.</td>\n",
       "      <td>The location is exceptionally convenient, with easy access to Mopac, lakes, festivals, restauran...</td>\n",
       "      <td>Outdoor porch, hammock, Weber gas grill, large yard, parking in driveway.</td>\n",
       "      <td>Owners or their representative will be a phone call away and just around the corner if anything ...</td>\n",
       "      <td>1. Smoking is NOT allowed inside the residence. Your deposit will not be refunded if interior sm...</td>\n",
       "      <td>Malia is a native Austinite. She grew up in Tarrytown and spent many lazy afternoons at the lake...</td>\n",
       "    </tr>\n",
       "  </tbody>\n",
       "</table>\n",
       "</div>"
      ],
      "text/plain": [
       "                                                                                               Summary                                                                                                Space                                                                                          Description                                                                                Neighborhood Overview                                                                                                Notes                                                                                              Transit                                                                                               Access                                                                                          Interaction                                                                                          House Rules  \\\n",
       "0  Loft in the Hill country 12-15 minutes directly west of downtown Austin.  It has a private deck ...  This loft has a spectacular view of the hills in the West Austin Area.  It is located 12 minutes...  Loft in the Hill country 12-15 minutes directly west of downtown Austin.  It has a private deck ...  This neighborhood is located in the hills west of downtown Austin with spectacular views both on...  The loft is located on a gated property.  There is a button on the gate to open from the outside...  There is no public transportation from this location, but by car you're less then 15 minutes to ...                 The loft is entirely private to the guest as is the Deck with the Hill Country view.  My wife and I live on the property so we would be happy to do what we can to make your stay more...  The loft is entirely private but is adjacent to the house my wife and I live in.   We ask that y...   \n",
       "1  This apartment has: 1 double bed, 1 double sofa bed. Right next to Plaza Cataluña A spacious and...  This apartment has: 1 double bed, 1 double sofa bed. Licence number: HUTB-006721    This lovely ...  This apartment has: 1 double bed, 1 double sofa bed. Right next to Plaza Cataluña A spacious and...  Plaza   Cataluña Catalonia Square is the largest square in the centre with 30.000 meters square ...                                                                                                  NaN                                    Ideal to discover the city either on foot or by public transport.                                                 Travellers will have access to the entire apartment.  We will be more than happy to help you with anything you need. We can organize a transfer from t...  CHECK-IN Week Days: The check-in and key collection takes place at: Friendly Rentals, Passatge S...   \n",
       "2  This apartment has: 1 double bed, 1 double sofa bed. Excellent location and with terrace Ideally...  This apartment has: 1 double bed, 1 double sofa bed. Licence number: HUTB-00752(URL HIDDEN) This...  This apartment has: 1 double bed, 1 double sofa bed. Excellent location and with terrace Ideally...  Plaza   Cataluña Catalonia Square is the largest square in the centre with 30.000 meters square ...                                                                                                  NaN                                    Ideal to discover the city either on foot or by public transport.                                                 Travellers will have access to the entire apartment.  We will be more than happy to help you with anything you need. We can organize a transfer from t...  CHECK-IN Week Days: The check-in and key collection takes place at: Friendly Rentals, Passatge S...   \n",
       "3  Live like a local in Barcelona's most chic district when you rent this effortlessly luxurious th...  You wake up to the sun rising over Barcelona's most famous buildings, gently streaming in throug...  Live like a local in Barcelona's most chic district when you rent this effortlessly luxurious th...  We're right in the heart of the chic L'Eixample district, whose beautifully planned architecture...                                                                            Local permit: HUTB-006794  Whatever it is you came to see in Barcelona, I'll bet it's within easy walking distance of the h...  This property features keyless entry, making it easy to get in and out at your convenience. You'...  I'm an Aussie who's lived in Barcelona for almost two decades. I love making people feel at home...  Welcome to Barcelona! This will be your home not a hotel, make yourselves comfortable and relax....   \n",
       "4  Unique apartment in vibrant neighborhoods, carefully selected by expert to make sure you like th...  License: HUTB-005313 Charming apartment, located in one of the best areas of Barcelona, the Eixa...  Unique apartment in vibrant neighborhoods, carefully selected by expert to make sure you like th...                                                                                                  NaN                                                                                                  NaN                                                                                                  NaN                                                                                                  NaN                                                                                                  NaN                                                                                                  NaN   \n",
       "5  Unique apartment in vibrant neighborhoods, carefully selected by expert to make sure you like th...  This fully refurbished apartment has 2 bedrooms, one with double bed and one with two beds, bath...  Unique apartment in vibrant neighborhoods, carefully selected by expert to make sure you like th...                                                                                                  NaN                                                                                                  NaN                                                                                                  NaN                                                                                                  NaN                                                                                                  NaN                                                                                                  NaN   \n",
       "6  Spacious and quiet apartment that can accommodate up to 5 people very comfortably, because it ha...  Its size allows to accommodate up to 6 people (5 adults or 4 adults and 2 children), 2 people sl...  Spacious and quiet apartment that can accommodate up to 5 people very comfortably, because it ha...  This unique area is rich in history, architecture, culture, and cuisine. Probably one of the mos...                                       Ninguna. HUTB-(PHONE NUMBER HIDDEN) HUTB-(PHONE NUMBER HIDDEN)  The apartment is just at 3 minutes walking distance from the metro stations Marina or Glorias fr...  Services free of charge for guests are, Wi-Fi, full use of all equipment, 1 baby cot and 1 baby ...  From the beginning, we will be in touch with you, asking about the arrival time in order to give...  1. No smoking inside the apartment (do it at the balcony).  2. No parties are allowed (at any ti...   \n",
       "7  FEBRUARY 6-10, entire apartment available - 2 double bedroom + 2 bathrooms. Spacious flat next t...  Our apartment has been recently renovated preserving the original modernist decoration from the ...  FEBRUARY 6-10, entire apartment available - 2 double bedroom + 2 bathrooms. Spacious flat next t...  I love arriving home from work and suddenly seeing La Sagrada Familia in front of my eyes - it n...                                                                                                  NaN  For the walkers, the old town (\"barrio Gótico) is 30min walking distance (towards the sea) and G...  You will be given a set of keys upon your arrival. Apart from your room and bathroom you can als...  We like meeting our guests and hearing their stories, sharing our common space with them, and ma...                                                       Smoking on the balcony.  No pets.  No parties.   \n",
       "8  Unique apartment in vibrant neighborhoods, carefully selected by expert to make sure you like th...  Fantastic apartment located 7 minutes from the Basilica of the Sagrada Familia. Fantastic apartm...  Unique apartment in vibrant neighborhoods, carefully selected by expert to make sure you like th...                                                                                                  NaN                                                                                                  NaN                                                                                                  NaN                                                                                                  NaN                                                                                                  NaN                                                                                                  NaN   \n",
       "9  Get everywhere in minutes! Charming, traditional home in the heart of old Austin. 2500 square fo...  Located on a large tree-covered lot less than two miles from downtown in one of Austin's oldest ...  Get everywhere in minutes! Charming, traditional home in the heart of old Austin. 2500 square fo...  The Tarrytown neighborhood is best known for its elegant houses, churches, and quiet parks. It i...                           Our cat normally lives in the house. He will not be present for your stay.  The location is exceptionally convenient, with easy access to Mopac, lakes, festivals, restauran...                            Outdoor porch, hammock, Weber gas grill, large yard, parking in driveway.  Owners or their representative will be a phone call away and just around the corner if anything ...  1. Smoking is NOT allowed inside the residence. Your deposit will not be refunded if interior sm...   \n",
       "\n",
       "                                                                                            Host About  \n",
       "0  I am a High Tech Professional with over 30 years in the industry.  I've been working at Dell for...  \n",
       "1  Hola a todos! Soy Claudia Castillo y soy parte del equipo de Friendly Rentals. \\r\\nSomos un equi...  \n",
       "2  Hola a todos! Soy Claudia Castillo y soy parte del equipo de Friendly Rentals. \\r\\nSomos un equi...  \n",
       "3  Welcome home! You could call me a globetrotter - I’ve lived and travelled all over the world, fr...  \n",
       "4  Be Mate offers the exclusive City Mate service, a local concierge that will welcome you to the a...  \n",
       "5  Be Mate offers the exclusive City Mate service, a local concierge that will welcome you to the a...  \n",
       "6  We are a young and fun pair of friends who have become great hosts - we like to give the same se...  \n",
       "7  We are a Serbian-Canadian-Belgian couple in our 30s living and working in Barcelona. Kris was bo...  \n",
       "8  Be Mate offers the exclusive City Mate service, a local concierge that will welcome you to the a...  \n",
       "9  Malia is a native Austinite. She grew up in Tarrytown and spent many lazy afternoons at the lake...  "
      ]
     },
     "execution_count": 22,
     "metadata": {},
     "output_type": "execute_result"
    }
   ],
   "source": [
    "df[['Summary', 'Space', 'Description', 'Neighborhood Overview', 'Notes', 'Transit', 'Access', 'Interaction', 'House Rules', 'Host About']].head(10)"
   ]
  },
  {
   "cell_type": "code",
   "execution_count": 23,
   "metadata": {},
   "outputs": [
    {
     "data": {
      "text/html": [
       "<div>\n",
       "<style scoped>\n",
       "    .dataframe tbody tr th:only-of-type {\n",
       "        vertical-align: middle;\n",
       "    }\n",
       "\n",
       "    .dataframe tbody tr th {\n",
       "        vertical-align: top;\n",
       "    }\n",
       "\n",
       "    .dataframe thead th {\n",
       "        text-align: right;\n",
       "    }\n",
       "</style>\n",
       "<table border=\"1\" class=\"dataframe\">\n",
       "  <thead>\n",
       "    <tr style=\"text-align: right;\">\n",
       "      <th></th>\n",
       "      <th>ID</th>\n",
       "      <th>Listing Url</th>\n",
       "      <th>Scrape ID</th>\n",
       "      <th>Last Scraped</th>\n",
       "      <th>Name</th>\n",
       "      <th>Summary</th>\n",
       "      <th>Space</th>\n",
       "      <th>Description</th>\n",
       "      <th>Experiences Offered</th>\n",
       "      <th>Neighborhood Overview</th>\n",
       "      <th>Notes</th>\n",
       "      <th>Transit</th>\n",
       "      <th>Access</th>\n",
       "      <th>Interaction</th>\n",
       "      <th>House Rules</th>\n",
       "      <th>Thumbnail Url</th>\n",
       "      <th>Medium Url</th>\n",
       "      <th>Picture Url</th>\n",
       "      <th>XL Picture Url</th>\n",
       "      <th>Host ID</th>\n",
       "      <th>Host URL</th>\n",
       "      <th>Host Name</th>\n",
       "      <th>Host Since</th>\n",
       "      <th>Host Location</th>\n",
       "      <th>Host About</th>\n",
       "      <th>Host Response Time</th>\n",
       "      <th>Host Response Rate</th>\n",
       "      <th>Host Acceptance Rate</th>\n",
       "      <th>Host Thumbnail Url</th>\n",
       "      <th>Host Picture Url</th>\n",
       "      <th>Host Neighbourhood</th>\n",
       "      <th>Host Listings Count</th>\n",
       "      <th>Host Total Listings Count</th>\n",
       "      <th>Host Verifications</th>\n",
       "      <th>Street</th>\n",
       "      <th>Neighbourhood</th>\n",
       "      <th>Neighbourhood Cleansed</th>\n",
       "      <th>Neighbourhood Group Cleansed</th>\n",
       "      <th>City</th>\n",
       "      <th>State</th>\n",
       "      <th>Zipcode</th>\n",
       "      <th>Market</th>\n",
       "      <th>Smart Location</th>\n",
       "      <th>Country Code</th>\n",
       "      <th>Country</th>\n",
       "      <th>Latitude</th>\n",
       "      <th>Longitude</th>\n",
       "      <th>Property Type</th>\n",
       "      <th>Room Type</th>\n",
       "      <th>Accommodates</th>\n",
       "      <th>Bathrooms</th>\n",
       "      <th>Bedrooms</th>\n",
       "      <th>Beds</th>\n",
       "      <th>Bed Type</th>\n",
       "      <th>Amenities</th>\n",
       "      <th>Square Feet</th>\n",
       "      <th>Price</th>\n",
       "      <th>Weekly Price</th>\n",
       "      <th>Monthly Price</th>\n",
       "      <th>Security Deposit</th>\n",
       "      <th>Cleaning Fee</th>\n",
       "      <th>Guests Included</th>\n",
       "      <th>Extra People</th>\n",
       "      <th>Minimum Nights</th>\n",
       "      <th>Maximum Nights</th>\n",
       "      <th>Calendar Updated</th>\n",
       "      <th>Has Availability</th>\n",
       "      <th>Availability 30</th>\n",
       "      <th>Availability 60</th>\n",
       "      <th>Availability 90</th>\n",
       "      <th>Availability 365</th>\n",
       "      <th>Calendar last Scraped</th>\n",
       "      <th>Number of Reviews</th>\n",
       "      <th>First Review</th>\n",
       "      <th>Last Review</th>\n",
       "      <th>Review Scores Rating</th>\n",
       "      <th>Review Scores Accuracy</th>\n",
       "      <th>Review Scores Cleanliness</th>\n",
       "      <th>Review Scores Checkin</th>\n",
       "      <th>Review Scores Communication</th>\n",
       "      <th>Review Scores Location</th>\n",
       "      <th>Review Scores Value</th>\n",
       "      <th>License</th>\n",
       "      <th>Jurisdiction Names</th>\n",
       "      <th>Cancellation Policy</th>\n",
       "      <th>Calculated host listings count</th>\n",
       "      <th>Reviews per Month</th>\n",
       "      <th>Geolocation</th>\n",
       "      <th>Features</th>\n",
       "    </tr>\n",
       "  </thead>\n",
       "  <tbody>\n",
       "    <tr>\n",
       "      <th>0</th>\n",
       "      <td>11210388</td>\n",
       "      <td>https://www.airbnb.com/rooms/11210388</td>\n",
       "      <td>20170306202425</td>\n",
       "      <td>2017-03-07</td>\n",
       "      <td>The Loft-Full Bath-Deck w/View</td>\n",
       "      <td>Loft in the Hill country 12-15 minutes directly west of downtown Austin.  It has a private deck ...</td>\n",
       "      <td>This loft has a spectacular view of the hills in the West Austin Area.  It is located 12 minutes...</td>\n",
       "      <td>Loft in the Hill country 12-15 minutes directly west of downtown Austin.  It has a private deck ...</td>\n",
       "      <td>none</td>\n",
       "      <td>This neighborhood is located in the hills west of downtown Austin with spectacular views both on...</td>\n",
       "      <td>The loft is located on a gated property.  There is a button on the gate to open from the outside...</td>\n",
       "      <td>There is no public transportation from this location, but by car you're less then 15 minutes to ...</td>\n",
       "      <td>The loft is entirely private to the guest as is the Deck with the Hill Country view.</td>\n",
       "      <td>My wife and I live on the property so we would be happy to do what we can to make your stay more...</td>\n",
       "      <td>The loft is entirely private but is adjacent to the house my wife and I live in.   We ask that y...</td>\n",
       "      <td>https://a0.muscache.com/im/pictures/c351a9b5-5fcf-474d-9e0c-4cab24885d80.jpg?aki_policy=small</td>\n",
       "      <td>https://a0.muscache.com/im/pictures/c351a9b5-5fcf-474d-9e0c-4cab24885d80.jpg?aki_policy=medium</td>\n",
       "      <td>https://public.opendatasoft.com/api/v2/catalog/datasets/airbnb-listings/files/bace50215047ad508b...</td>\n",
       "      <td>https://a0.muscache.com/im/pictures/c351a9b5-5fcf-474d-9e0c-4cab24885d80.jpg?aki_policy=x_large</td>\n",
       "      <td>58386783</td>\n",
       "      <td>https://www.airbnb.com/users/show/58386783</td>\n",
       "      <td>John</td>\n",
       "      <td>2016-02-11</td>\n",
       "      <td>My father was USAF so I was born at Offutt AFB, Nebraska, but I grew up in Madrid, Spain most of...</td>\n",
       "      <td>I am a High Tech Professional with over 30 years in the industry.  I've been working at Dell for...</td>\n",
       "      <td>within an hour</td>\n",
       "      <td>100.0</td>\n",
       "      <td>NaN</td>\n",
       "      <td>https://a0.muscache.com/im/pictures/c5c78f08-faef-401c-b133-6ea74ad8efbb.jpg?aki_policy=profile_...</td>\n",
       "      <td>https://a0.muscache.com/im/pictures/c5c78f08-faef-401c-b133-6ea74ad8efbb.jpg?aki_policy=profile_...</td>\n",
       "      <td>NaN</td>\n",
       "      <td>1.0</td>\n",
       "      <td>1.0</td>\n",
       "      <td>email,phone,reviews,kba</td>\n",
       "      <td>Canyon Edge Drive, Austin, TX 78733, United States</td>\n",
       "      <td>NaN</td>\n",
       "      <td>78733</td>\n",
       "      <td>NaN</td>\n",
       "      <td>Austin</td>\n",
       "      <td>TX</td>\n",
       "      <td>78733</td>\n",
       "      <td>Austin</td>\n",
       "      <td>Austin, TX</td>\n",
       "      <td>US</td>\n",
       "      <td>United States</td>\n",
       "      <td>30.337361</td>\n",
       "      <td>-97.863277</td>\n",
       "      <td>Loft</td>\n",
       "      <td>Entire home/apt</td>\n",
       "      <td>2</td>\n",
       "      <td>1.0</td>\n",
       "      <td>1.0</td>\n",
       "      <td>1.0</td>\n",
       "      <td>Real Bed</td>\n",
       "      <td>TV,Cable TV,Internet,Wireless Internet,Air conditioning,Pool,Free parking on premises,Heating,Fa...</td>\n",
       "      <td>NaN</td>\n",
       "      <td>58.0</td>\n",
       "      <td>NaN</td>\n",
       "      <td>NaN</td>\n",
       "      <td>100.0</td>\n",
       "      <td>NaN</td>\n",
       "      <td>1</td>\n",
       "      <td>0</td>\n",
       "      <td>2</td>\n",
       "      <td>1125</td>\n",
       "      <td>today</td>\n",
       "      <td>NaN</td>\n",
       "      <td>10</td>\n",
       "      <td>34</td>\n",
       "      <td>64</td>\n",
       "      <td>281</td>\n",
       "      <td>2017-03-06</td>\n",
       "      <td>42</td>\n",
       "      <td>2016-03-13</td>\n",
       "      <td>2017-02-26</td>\n",
       "      <td>98.0</td>\n",
       "      <td>10.0</td>\n",
       "      <td>10.0</td>\n",
       "      <td>10.0</td>\n",
       "      <td>10.0</td>\n",
       "      <td>10.0</td>\n",
       "      <td>10.0</td>\n",
       "      <td>NaN</td>\n",
       "      <td>NaN</td>\n",
       "      <td>moderate</td>\n",
       "      <td>1.0</td>\n",
       "      <td>3.5</td>\n",
       "      <td>30.3373609355,-97.8632766782</td>\n",
       "      <td>Host Is Superhost,Host Has Profile Pic,Host Identity Verified,Is Location Exact</td>\n",
       "    </tr>\n",
       "  </tbody>\n",
       "</table>\n",
       "</div>"
      ],
      "text/plain": [
       "         ID                            Listing Url       Scrape ID Last Scraped                            Name                                                                                              Summary                                                                                                Space                                                                                          Description Experiences Offered                                                                                Neighborhood Overview                                                                                                Notes                                                                                              Transit                                                                                Access                                                                                          Interaction  \\\n",
       "0  11210388  https://www.airbnb.com/rooms/11210388  20170306202425   2017-03-07  The Loft-Full Bath-Deck w/View  Loft in the Hill country 12-15 minutes directly west of downtown Austin.  It has a private deck ...  This loft has a spectacular view of the hills in the West Austin Area.  It is located 12 minutes...  Loft in the Hill country 12-15 minutes directly west of downtown Austin.  It has a private deck ...                none  This neighborhood is located in the hills west of downtown Austin with spectacular views both on...  The loft is located on a gated property.  There is a button on the gate to open from the outside...  There is no public transportation from this location, but by car you're less then 15 minutes to ...  The loft is entirely private to the guest as is the Deck with the Hill Country view.  My wife and I live on the property so we would be happy to do what we can to make your stay more...   \n",
       "\n",
       "                                                                                           House Rules                                                                                  Thumbnail Url                                                                                      Medium Url                                                                                          Picture Url                                                                                   XL Picture Url   Host ID                                    Host URL Host Name  Host Since                                                                                        Host Location                                                                                           Host About Host Response Time  Host Response Rate Host Acceptance Rate                                                                                   Host Thumbnail Url  \\\n",
       "0  The loft is entirely private but is adjacent to the house my wife and I live in.   We ask that y...  https://a0.muscache.com/im/pictures/c351a9b5-5fcf-474d-9e0c-4cab24885d80.jpg?aki_policy=small  https://a0.muscache.com/im/pictures/c351a9b5-5fcf-474d-9e0c-4cab24885d80.jpg?aki_policy=medium  https://public.opendatasoft.com/api/v2/catalog/datasets/airbnb-listings/files/bace50215047ad508b...  https://a0.muscache.com/im/pictures/c351a9b5-5fcf-474d-9e0c-4cab24885d80.jpg?aki_policy=x_large  58386783  https://www.airbnb.com/users/show/58386783      John  2016-02-11  My father was USAF so I was born at Offutt AFB, Nebraska, but I grew up in Madrid, Spain most of...  I am a High Tech Professional with over 30 years in the industry.  I've been working at Dell for...     within an hour               100.0                  NaN  https://a0.muscache.com/im/pictures/c5c78f08-faef-401c-b133-6ea74ad8efbb.jpg?aki_policy=profile_...   \n",
       "\n",
       "                                                                                      Host Picture Url Host Neighbourhood  Host Listings Count  Host Total Listings Count       Host Verifications                                              Street Neighbourhood Neighbourhood Cleansed Neighbourhood Group Cleansed    City State Zipcode  Market Smart Location Country Code        Country   Latitude  Longitude Property Type        Room Type  Accommodates  Bathrooms  Bedrooms  Beds  Bed Type                                                                                            Amenities  Square Feet  Price  Weekly Price  Monthly Price  Security Deposit  Cleaning Fee  Guests Included  Extra People  Minimum Nights  Maximum Nights Calendar Updated Has Availability  Availability 30  Availability 60  Availability 90  Availability 365 Calendar last Scraped  Number of Reviews First Review Last Review  Review Scores Rating  Review Scores Accuracy  Review Scores Cleanliness  \\\n",
       "0  https://a0.muscache.com/im/pictures/c5c78f08-faef-401c-b133-6ea74ad8efbb.jpg?aki_policy=profile_...                NaN                  1.0                        1.0  email,phone,reviews,kba  Canyon Edge Drive, Austin, TX 78733, United States           NaN                  78733                          NaN  Austin    TX   78733  Austin     Austin, TX           US  United States  30.337361 -97.863277          Loft  Entire home/apt             2        1.0       1.0   1.0  Real Bed  TV,Cable TV,Internet,Wireless Internet,Air conditioning,Pool,Free parking on premises,Heating,Fa...          NaN   58.0           NaN            NaN             100.0           NaN                1             0               2            1125            today              NaN               10               34               64               281            2017-03-06                 42   2016-03-13  2017-02-26                  98.0                    10.0                       10.0   \n",
       "\n",
       "   Review Scores Checkin  Review Scores Communication  Review Scores Location  Review Scores Value License Jurisdiction Names Cancellation Policy  Calculated host listings count  Reviews per Month                   Geolocation                                                                         Features  \n",
       "0                   10.0                         10.0                    10.0                 10.0     NaN                NaN            moderate                             1.0                3.5  30.3373609355,-97.8632766782  Host Is Superhost,Host Has Profile Pic,Host Identity Verified,Is Location Exact  "
      ]
     },
     "execution_count": 23,
     "metadata": {},
     "output_type": "execute_result"
    }
   ],
   "source": [
    "df.head(1)"
   ]
  },
  {
   "cell_type": "markdown",
   "metadata": {},
   "source": [
    "Dado que el objetivo del modelo es predecir precios en Madrid, incluir observaciones de otras ciudades podría generar un problema de domain shift, afectando la generalización y precisión del modelo. Además, la inclusión de datos de diferentes mercados inmobiliarios introduce ruido y puede aumentar la varianza del modelo, reduciendo su capacidad de capturar patrones específicos del mercado madrileño. Por lo tanto, es recomendable filtrar el dataset y entrenar el modelo solo con datos de Madrid para garantizar su robustez y fiabilidad en este contexto específico."
   ]
  },
  {
   "cell_type": "code",
   "execution_count": 24,
   "metadata": {},
   "outputs": [],
   "source": [
    "# Filtrar filas donde la ciudad es \"Madrid\"\n",
    "madrid_df = df[df[\"City\"].str.lower() == \"madrid\"].copy()\n"
   ]
  },
  {
   "cell_type": "markdown",
   "metadata": {},
   "source": [
    "Comprobamos la naturaleza de las variables y su contenido en Na´s"
   ]
  },
  {
   "cell_type": "code",
   "execution_count": 25,
   "metadata": {},
   "outputs": [
    {
     "data": {
      "text/plain": [
       "count    14763.000000\n",
       "mean        73.561471\n",
       "std         72.062050\n",
       "min          9.000000\n",
       "25%         34.000000\n",
       "50%         55.000000\n",
       "75%         86.000000\n",
       "max        999.000000\n",
       "Name: Price, dtype: float64"
      ]
     },
     "execution_count": 25,
     "metadata": {},
     "output_type": "execute_result"
    }
   ],
   "source": [
    "df['Price'].describe()"
   ]
  },
  {
   "cell_type": "code",
   "execution_count": 26,
   "metadata": {},
   "outputs": [
    {
     "name": "stdout",
     "output_type": "stream",
     "text": [
      "<class 'pandas.core.frame.DataFrame'>\n",
      "Index: 13217 entries, 40 to 14757\n",
      "Data columns (total 89 columns):\n",
      " #   Column                          Non-Null Count  Dtype  \n",
      "---  ------                          --------------  -----  \n",
      " 0   ID                              13217 non-null  int64  \n",
      " 1   Listing Url                     13217 non-null  object \n",
      " 2   Scrape ID                       13217 non-null  int64  \n",
      " 3   Last Scraped                    13217 non-null  object \n",
      " 4   Name                            13217 non-null  object \n",
      " 5   Summary                         12729 non-null  object \n",
      " 6   Space                           9652 non-null   object \n",
      " 7   Description                     13211 non-null  object \n",
      " 8   Experiences Offered             13217 non-null  object \n",
      " 9   Neighborhood Overview           8275 non-null   object \n",
      " 10  Notes                           5010 non-null   object \n",
      " 11  Transit                         8226 non-null   object \n",
      " 12  Access                          7507 non-null   object \n",
      " 13  Interaction                     7489 non-null   object \n",
      " 14  House Rules                     8565 non-null   object \n",
      " 15  Thumbnail Url                   10737 non-null  object \n",
      " 16  Medium Url                      10737 non-null  object \n",
      " 17  Picture Url                     13198 non-null  object \n",
      " 18  XL Picture Url                  10737 non-null  object \n",
      " 19  Host ID                         13217 non-null  int64  \n",
      " 20  Host URL                        13217 non-null  object \n",
      " 21  Host Name                       13214 non-null  object \n",
      " 22  Host Since                      13214 non-null  object \n",
      " 23  Host Location                   13175 non-null  object \n",
      " 24  Host About                      8242 non-null   object \n",
      " 25  Host Response Time              11560 non-null  object \n",
      " 26  Host Response Rate              11560 non-null  float64\n",
      " 27  Host Acceptance Rate            0 non-null      object \n",
      " 28  Host Thumbnail Url              13214 non-null  object \n",
      " 29  Host Picture Url                13214 non-null  object \n",
      " 30  Host Neighbourhood              9964 non-null   object \n",
      " 31  Host Listings Count             13214 non-null  float64\n",
      " 32  Host Total Listings Count       13214 non-null  float64\n",
      " 33  Host Verifications              13208 non-null  object \n",
      " 34  Street                          13217 non-null  object \n",
      " 35  Neighbourhood                   8757 non-null   object \n",
      " 36  Neighbourhood Cleansed          13217 non-null  object \n",
      " 37  Neighbourhood Group Cleansed    13217 non-null  object \n",
      " 38  City                            13217 non-null  object \n",
      " 39  State                           13175 non-null  object \n",
      " 40  Zipcode                         12778 non-null  object \n",
      " 41  Market                          13167 non-null  object \n",
      " 42  Smart Location                  13217 non-null  object \n",
      " 43  Country Code                    13217 non-null  object \n",
      " 44  Country                         13217 non-null  object \n",
      " 45  Latitude                        13217 non-null  float64\n",
      " 46  Longitude                       13217 non-null  float64\n",
      " 47  Property Type                   13217 non-null  object \n",
      " 48  Room Type                       13217 non-null  object \n",
      " 49  Accommodates                    13217 non-null  int64  \n",
      " 50  Bathrooms                       13168 non-null  float64\n",
      " 51  Bedrooms                        13194 non-null  float64\n",
      " 52  Beds                            13168 non-null  float64\n",
      " 53  Bed Type                        13217 non-null  object \n",
      " 54  Amenities                       13110 non-null  object \n",
      " 55  Square Feet                     519 non-null    float64\n",
      " 56  Price                           13208 non-null  float64\n",
      " 57  Weekly Price                    3353 non-null   float64\n",
      " 58  Monthly Price                   3319 non-null   float64\n",
      " 59  Security Deposit                5636 non-null   float64\n",
      " 60  Cleaning Fee                    7824 non-null   float64\n",
      " 61  Guests Included                 13217 non-null  int64  \n",
      " 62  Extra People                    13217 non-null  int64  \n",
      " 63  Minimum Nights                  13217 non-null  int64  \n",
      " 64  Maximum Nights                  13217 non-null  int64  \n",
      " 65  Calendar Updated                13217 non-null  object \n",
      " 66  Has Availability                0 non-null      object \n",
      " 67  Availability 30                 13217 non-null  int64  \n",
      " 68  Availability 60                 13217 non-null  int64  \n",
      " 69  Availability 90                 13217 non-null  int64  \n",
      " 70  Availability 365                13217 non-null  int64  \n",
      " 71  Calendar last Scraped           13217 non-null  object \n",
      " 72  Number of Reviews               13217 non-null  int64  \n",
      " 73  First Review                    10500 non-null  object \n",
      " 74  Last Review                     10499 non-null  object \n",
      " 75  Review Scores Rating            10375 non-null  float64\n",
      " 76  Review Scores Accuracy          10357 non-null  float64\n",
      " 77  Review Scores Cleanliness       10363 non-null  float64\n",
      " 78  Review Scores Checkin           10347 non-null  float64\n",
      " 79  Review Scores Communication     10363 non-null  float64\n",
      " 80  Review Scores Location          10345 non-null  float64\n",
      " 81  Review Scores Value             10345 non-null  float64\n",
      " 82  License                         248 non-null    object \n",
      " 83  Jurisdiction Names              0 non-null      object \n",
      " 84  Cancellation Policy             13217 non-null  object \n",
      " 85  Calculated host listings count  13217 non-null  float64\n",
      " 86  Reviews per Month               10500 non-null  float64\n",
      " 87  Geolocation                     13217 non-null  object \n",
      " 88  Features                        13217 non-null  object \n",
      "dtypes: float64(23), int64(13), object(53)\n",
      "memory usage: 9.1+ MB\n"
     ]
    }
   ],
   "source": [
    "madrid_df.info()"
   ]
  },
  {
   "cell_type": "code",
   "execution_count": 27,
   "metadata": {},
   "outputs": [
    {
     "data": {
      "text/plain": [
       "Calendar last Scraped\n",
       "2017-04-08    9622\n",
       "2017-04-07    3595\n",
       "Name: count, dtype: int64"
      ]
     },
     "execution_count": 27,
     "metadata": {},
     "output_type": "execute_result"
    }
   ],
   "source": [
    "madrid_df['Calendar last Scraped'].value_counts()"
   ]
  },
  {
   "cell_type": "markdown",
   "metadata": {},
   "source": [
    "***Después de revisar el significado de cada una de las variables y atendiendo a la capacidad explicativa de las mismas y al número de valores nulos que contienen decidimos eliminar las siguientes variables***:\n",
    "\n",
    "**ID**: Es el identificador único del anuncio. Decido eliminarlo porque supone un valor único para cada observación, y no tiene ninguna relación con la variable objetivo, por lo que no aporta información útil para el modelo.  \n",
    "\n",
    "**Listing URL**: es la url del anuncio. Decido eliminarla porque no aporta información explicativa sobre las relaciones entre las variables.  \n",
    "\n",
    "**Scrape ID**: es la ID asociada al proceso de scraping. Decido eliminarla porque no aporta información explicativa sobre las relaciones entre las variables.  \n",
    "\n",
    "**Last Scraped**: Es la fecha en que se realizo el scraping. En todas las observaciones el scraping se produce el 2017-04-08, por tanto, me dicido por eliminarla.\n",
    "\n",
    "**Name**: nombre del alojamiento. Decido eliminarla porque no aporta información explicativa sobre las relaciones entre las variables.  \n",
    "\n",
    "**Experiences Offered**: Indica si el host ofrece experiencias adicionales. Decido eliminar esta variable porque  toma valor \"none\" en casi toda las observaciones.  \n",
    "\n",
    "**Thumbnail Url**: Es la url de la imagen en miniatura del alojamiento. Decido eliminar la variable ya que no voy a introducir ninguna herramienta para trabajar con imágenes.  \n",
    "\n",
    "**Medium Url**: Es la url de la imagen en tamaño mediano del alojamiento. Decido eliminar la variable ya que no voy a introducir ninguna herramienta para trabajar con imágenes.  \n",
    "\n",
    "**Picture Url**: Es la url de la imagen principal del alojamiento. Decido eliminar la variable ya que no voy a introducir ninguna herramienta para trabajar con imágenes.  \n",
    "\n",
    "**XL Picture Url**: Es la url de la imagen principal del alojamiento en alta resolución. Decido eliminar la variable ya que no voy a introducir ninguna herramienta para trabajar con imágenes.  \n",
    "\n",
    "**Host URL**: Es la url del perfil del anfitrión en Airbnb. Decido eliminarla porque no aporta información explicativa sobre las relaciones entre las variables.  \n",
    "\n",
    "**Host Name**: Es el nombre del anfitrión. Decido eliminarla porque no aporta información explicativa sobre las relaciones entre las variables.  \n",
    "\n",
    "**Host Location**: Es la ubicación del anfitrión. Decido eliminarla porque no aporta información explicativa sobre las relaciones entre las variables. \n",
    "\n",
    "**Host Acceptance Rate**: Porcentaje de solicitudes de reserva aceptadas. Descarto la variable porque no tiene valores disponibles (100% NaN).\n",
    "\n",
    "**Host Thumbnail Url**: Es la url de la imagen de perfil del anfitrión en miniatura. Decido eliminar la variable ya que no voy a introducir ninguna herramienta para trabajar con imágenes.  \n",
    "\n",
    "**Host Picture Url**: Es la url de la imagen de perfil del anfitrión. Decido eliminar la variable ya que no voy a introducir ninguna herramienta para trabajar con imágenes.  \n",
    "\n",
    "**Host Neighbourhood**: Es el vecindario donde vive el anfitrión. Decido eliminarla porque no aporta información explicativa sobre las relaciones entre las variables.  \n",
    "\n",
    "**Host Total Listings Count**: Número de total anuncios que ha mantenido el anfitrión. Decido eliminar la variable **Host Total Listings Count**, ya que no aporta información adicional significativa que no esté ya reflejada en **Host Listings Count**. Además, considerando que el modelo ya cuenta con una cantidad considerable de variables, esta eliminación contribuirá a reducir la complejidad del modelo y minimizar el riesgo de sobreajuste.\n",
    "\n",
    "**Street**: Es la dirección del alojamiento. Contamos con otras variables que nos proporcionan esta información y decido eliminar esta variable.\n",
    "\n",
    "**Neighbourhood**: Nombre del barrio según el anfitrión. Elimino esta variable porque cuento con la variable **Neighbourhood Clensed** es decir, el nombre del vecindario \n",
    "estandarizado por Airbnb.\n",
    "\n",
    "**Neighbourhood Group Cleansed**: Hemos decidido emplear la variable  **‘Neighbourhood Clensed’** porque pese a tener más de 120 valores únicos, vamos a agruparlos por el preio medio de cda vencindario por tanto evitamos la posibilidad de alta cardinalidad y que pueda causar problemas como la explosión de dimensiones y el sobreajuste en el modelo. la variable **Neighbourhood Group Cleansed** no aporta información adicional y decidimos eliminarla.\n",
    "\n",
    "**City**: Es la ciudad donde se encuentra el alojamiento. Al tratarse de un modelo de predicción de precios en la ciudad de Madrid y habiendo hecho un subset del dataframe original que solo contenga a Madrid, no tiene sentido mantener esta variable. \n",
    "\n",
    "**State**: Estado o provincia del alojamiento. Al igual que en el caso de la variable City no tiene sentido mantener esta variable.\n",
    "\n",
    "**Zipcode**: El código postal donde se ubica el alojamiento. Es el mismo caso que la variable **Neighbourhood Group Clensed**, no aporta información adicional  a la variable **‘Neighbourhood Clensed’** y decidimos eliminarla.\n",
    "\n",
    "**Market**: Mercado en el que opera el alojamiento. En el 99% de las observaciones el mercado en el que opera el alojamiento es Madrid, por tanto, no tiene sentido mantener esta variable. \n",
    "\n",
    "**Smart Location**: Ubicación inteligente asegurada por Airbnb. Es una variable que no aporta información adicional al de otras variables que utilizaremos en el modelo. La leiminamos.\n",
    "\n",
    "**Country Code**: Es el código del país donde se encuentra el alojamiento. Al igual que en el caso de la variable City no tiene sentido mantener esta variable.  \n",
    "\n",
    "**Country**: Es el país donde se encuentra el alojamiento. Al igual que en el caso de la variable City y Country Code, no tiene sentido mantener esta variable.  \n",
    "\n",
    "**Latitude**: Coordenada geográfica de latitud del alojamiento. Elimino esta variable, porque ya existe la variable *Geolocation* que aporta esta información.  \n",
    "\n",
    "**Longitude**: Coordenada geográfica de longitud del alojamiento. Elimino esta variable, porque ya existe la variable *Geolocation* que aporta esta información.  \n",
    "\n",
    "**Square Feet**: Indica los pies cuadrados del alojamiento. En más del 90 % de los casos se trata de NAs, por tanto, elimino esta variable. \n",
    "\n",
    "**Calendar Updated**: Última vez que el calendario fue actualizado. Decido eliminar la variable **Calendar Updated** ya que no parece tener una relación significativa con la variable dependiente.\n",
    "\n",
    "**Has Availability**: indica si el alojamiento tiene disponibilidad. En el 100 % se trata de NAs, por tanto, elimino esta variable.\n",
    "\n",
    "**Availability 30**: Días disponibles en los póximos 30 días. Elimino esta variable porque  información de la misma, está  contenida en  **Availability 60*\n",
    "\n",
    "**Availability 90**: Días disponibles en los póximos 90 días. En el contexto del análisis del precio de un alojamiento, la variable ‘Availability 90’ presenta una anticipación poco habitual en la organización de estancias, dado que los usuarios tienden a planificar viajes con un margen de tiempo mucho más corto. Debido a esta baja frecuencia y relevancia en la toma de decisiones para la mayoría de los huéspedes, se considera que esta variable no aporta información significativa al modelo y su inclusión podría generar ruido sin proporcionar un valor sustancial para la predicción del precio.\n",
    "\n",
    "**Availability 365**: Días disponibles en los póximos 365 días. Elimino esta variable apelo a la explicación que di para eliminar la variable **Availability 90**.\n",
    "\n",
    "**Calendar last Scraped**: última vez que se extrajo la información del calendario. Dado que Calendar Last Scraped no tiene un impacto en el precio, es redundante con otras variables de disponibilidad y no aporta variabilidad útil, eliminarla es una decisión razonable para simplificar y mejorar el modelo.\n",
    "\n",
    "**Number of Reviews**: Número total de reseñas recibidas. Elimino esta variable ya que cuento con la variable **Reviews per Month** que puede aportar prácticamente la misma información.\n",
    "\n",
    "**First Review**: Fecha de la primera reseña recibida. La elimino ya que no considero relevante esta variable.\n",
    "\n",
    "**Last Review**: Fecha de la última reseña recibida. La elimino ya que no considero relevante esta variable.\n",
    "\n",
    "**License**: Indica la licencia del alojamiento. En más del 90 % de los casos se trata de NAs, por tanto, elimino esta variable.  \n",
    "\n",
    "**Jurisdiction Names**: Indica el nombre de jurisdicción reguladora. En el 100 % se trata de NAs, por tanto, elimino esta variable.\n",
    "\n",
    "**Geolocation**: Coordenadas geográficas del alojamiento.  tiene tantos valores únicos como observaciones, lo que genera una alta cardinalidad y puede causar problemas como la explosión de dimensiones y el sobreajuste en el modelo.\n",
    "\n",
    "**Reviews per Month**: Número de reseñas recibidas por mes. Elimino esta variable porque considero que introduce mas ruido que la información que aporta.\n",
    "\n",
    "**calculated_host_listings_count**: Número de publicaciones que el anfitrión tiene en la misma ciudad o área donde se encuentra el anuncio actual. LA elimino ya que este tipo de variable (junto con **Host Total Listings Count** y **Host listings count**) las he utilizado para inferir la experiencia del anfitrión y ya he obtenido dicha información de Host listings count**.\n",
    "\n",
    "\n"
   ]
  },
  {
   "cell_type": "code",
   "execution_count": 28,
   "metadata": {},
   "outputs": [],
   "source": [
    "madrid_df.drop(columns = ['ID', 'Listing Url', 'Scrape ID', 'Last Scraped', 'Name', 'Experiences Offered', 'Thumbnail Url', 'Medium Url', 'Picture Url',\n",
    "                            'XL Picture Url', 'Host URL', 'Host Name', 'Host Location', 'Host Acceptance Rate', 'Host Thumbnail Url', 'Host Picture Url',\n",
    "                            'Host Neighbourhood', 'Host Total Listings Count', 'Street', 'Neighbourhood', 'Neighbourhood Group Cleansed', 'City', 'State',\n",
    "                            'Zipcode', 'Market', 'Smart Location', 'Country Code', 'Country', 'Latitude', 'Longitude', 'Square Feet', 'Has Availability',\n",
    "                            'Calendar Updated', 'Availability 30', 'Availability 90', 'Availability 365', 'Calendar last Scraped', 'Number of Reviews', 'First Review', 'Last Review',\n",
    "                            'License', 'Jurisdiction Names', 'Reviews per Month', 'Geolocation', 'Calculated host listings count'], inplace = True)"
   ]
  },
  {
   "cell_type": "markdown",
   "metadata": {},
   "source": [
    " Una vez eliminadas todas estas columnas, dividimos en train/test para evitar Data Leakage y mantener consistencia en la distribución de datos."
   ]
  },
  {
   "cell_type": "code",
   "execution_count": 29,
   "metadata": {},
   "outputs": [],
   "source": [
    "from sklearn.model_selection import train_test_split\n",
    "# Dividimos el dataset en train y test\n",
    "train, test = train_test_split(madrid_df, test_size = 0.2, shuffle = True, random_state = 0)"
   ]
  },
  {
   "cell_type": "code",
   "execution_count": 30,
   "metadata": {},
   "outputs": [],
   "source": [
    "df_madrid = train.copy()"
   ]
  },
  {
   "cell_type": "markdown",
   "metadata": {},
   "source": [
    "En una primera fase, omitiremos las variables ***Summary***, ***Space***, ***Description***, ***Neighborhood Overview***, ***Notes***, ***Transit***, ***Access***, ***Interaction***, ***House Rules*** y ***Host About***, que contienen descripciones en formato string,\n",
    "ya que no son necesarias para las transformaciones iniciales del modelo. En esta etapa, nos enfocaremos\n",
    "en entrenar el modelo sin esas variables, pero una vez que el modelo esté entrenado, regresaremos al punto\n",
    "de partida y reintroduciremos estas variables omitidas. Esto se hace con el fin de obtener información adicional\n",
    "de las descripciones para mejorar el rendimiento del modelo en caso de que la precisión inicial no sea óptima.\n",
    "\n",
    "Por una parte generamos un subset con estas variables que en una segunada vuelta añadiremos y a continuación las eliminamos del dataframe."
   ]
  },
  {
   "cell_type": "code",
   "execution_count": 31,
   "metadata": {},
   "outputs": [],
   "source": [
    "var_descriptivas_train = df_madrid[['Summary', 'Space', 'Description', 'Neighborhood Overview', 'Notes',\n",
    "                                        'Transit', 'Access', 'Interaction', 'House Rules', 'Host About']].copy()\n",
    "\n",
    "df_madrid.drop(columns = ['Summary', 'Space', 'Description', 'Neighborhood Overview', 'Notes',\n",
    "                                        'Transit', 'Access', 'Interaction', 'House Rules', 'Host About'], inplace = True)"
   ]
  },
  {
   "cell_type": "markdown",
   "metadata": {},
   "source": [
    "Vamos a examinar la estructura fundamental del conjunto de datos utilizando ***describe*** y ***dtypes***."
   ]
  },
  {
   "cell_type": "code",
   "execution_count": 32,
   "metadata": {},
   "outputs": [
    {
     "data": {
      "text/html": [
       "<div>\n",
       "<style scoped>\n",
       "    .dataframe tbody tr th:only-of-type {\n",
       "        vertical-align: middle;\n",
       "    }\n",
       "\n",
       "    .dataframe tbody tr th {\n",
       "        vertical-align: top;\n",
       "    }\n",
       "\n",
       "    .dataframe thead th {\n",
       "        text-align: right;\n",
       "    }\n",
       "</style>\n",
       "<table border=\"1\" class=\"dataframe\">\n",
       "  <thead>\n",
       "    <tr style=\"text-align: right;\">\n",
       "      <th></th>\n",
       "      <th>Host ID</th>\n",
       "      <th>Host Response Rate</th>\n",
       "      <th>Host Listings Count</th>\n",
       "      <th>Accommodates</th>\n",
       "      <th>Bathrooms</th>\n",
       "      <th>Bedrooms</th>\n",
       "      <th>Beds</th>\n",
       "      <th>Price</th>\n",
       "      <th>Weekly Price</th>\n",
       "      <th>Monthly Price</th>\n",
       "      <th>Security Deposit</th>\n",
       "      <th>Cleaning Fee</th>\n",
       "      <th>Guests Included</th>\n",
       "      <th>Extra People</th>\n",
       "      <th>Minimum Nights</th>\n",
       "      <th>Maximum Nights</th>\n",
       "      <th>Availability 60</th>\n",
       "      <th>Review Scores Rating</th>\n",
       "      <th>Review Scores Accuracy</th>\n",
       "      <th>Review Scores Cleanliness</th>\n",
       "      <th>Review Scores Checkin</th>\n",
       "      <th>Review Scores Communication</th>\n",
       "      <th>Review Scores Location</th>\n",
       "      <th>Review Scores Value</th>\n",
       "    </tr>\n",
       "  </thead>\n",
       "  <tbody>\n",
       "    <tr>\n",
       "      <th>count</th>\n",
       "      <td>1.057300e+04</td>\n",
       "      <td>9257.000000</td>\n",
       "      <td>10570.000000</td>\n",
       "      <td>10573.000000</td>\n",
       "      <td>10528.000000</td>\n",
       "      <td>10552.000000</td>\n",
       "      <td>10529.000000</td>\n",
       "      <td>10568.000000</td>\n",
       "      <td>2677.000000</td>\n",
       "      <td>2641.000000</td>\n",
       "      <td>4515.000000</td>\n",
       "      <td>6235.000000</td>\n",
       "      <td>10573.000000</td>\n",
       "      <td>10573.000000</td>\n",
       "      <td>10573.000000</td>\n",
       "      <td>10573.000000</td>\n",
       "      <td>10573.000000</td>\n",
       "      <td>8304.000000</td>\n",
       "      <td>8288.000000</td>\n",
       "      <td>8293.000000</td>\n",
       "      <td>8279.000000</td>\n",
       "      <td>8293.000000</td>\n",
       "      <td>8278.000000</td>\n",
       "      <td>8279.000000</td>\n",
       "    </tr>\n",
       "    <tr>\n",
       "      <th>mean</th>\n",
       "      <td>3.733544e+07</td>\n",
       "      <td>94.761694</td>\n",
       "      <td>9.825260</td>\n",
       "      <td>3.191242</td>\n",
       "      <td>1.258264</td>\n",
       "      <td>1.295015</td>\n",
       "      <td>1.991547</td>\n",
       "      <td>66.126419</td>\n",
       "      <td>371.750093</td>\n",
       "      <td>1353.084816</td>\n",
       "      <td>183.367885</td>\n",
       "      <td>29.701363</td>\n",
       "      <td>1.565781</td>\n",
       "      <td>7.385132</td>\n",
       "      <td>3.064693</td>\n",
       "      <td>877.291119</td>\n",
       "      <td>22.765062</td>\n",
       "      <td>91.565149</td>\n",
       "      <td>9.402872</td>\n",
       "      <td>9.316532</td>\n",
       "      <td>9.619157</td>\n",
       "      <td>9.641625</td>\n",
       "      <td>9.539986</td>\n",
       "      <td>9.209566</td>\n",
       "    </tr>\n",
       "    <tr>\n",
       "      <th>std</th>\n",
       "      <td>3.420805e+07</td>\n",
       "      <td>15.368086</td>\n",
       "      <td>27.423644</td>\n",
       "      <td>2.000457</td>\n",
       "      <td>0.611919</td>\n",
       "      <td>0.827257</td>\n",
       "      <td>1.542097</td>\n",
       "      <td>56.955232</td>\n",
       "      <td>192.325515</td>\n",
       "      <td>1011.006174</td>\n",
       "      <td>108.246742</td>\n",
       "      <td>26.079079</td>\n",
       "      <td>1.078173</td>\n",
       "      <td>11.049050</td>\n",
       "      <td>14.117607</td>\n",
       "      <td>1780.336580</td>\n",
       "      <td>19.475390</td>\n",
       "      <td>9.028604</td>\n",
       "      <td>0.938678</td>\n",
       "      <td>1.010921</td>\n",
       "      <td>0.786621</td>\n",
       "      <td>0.760115</td>\n",
       "      <td>0.772571</td>\n",
       "      <td>0.966046</td>\n",
       "    </tr>\n",
       "    <tr>\n",
       "      <th>min</th>\n",
       "      <td>1.745300e+04</td>\n",
       "      <td>0.000000</td>\n",
       "      <td>0.000000</td>\n",
       "      <td>1.000000</td>\n",
       "      <td>0.000000</td>\n",
       "      <td>0.000000</td>\n",
       "      <td>1.000000</td>\n",
       "      <td>9.000000</td>\n",
       "      <td>70.000000</td>\n",
       "      <td>250.000000</td>\n",
       "      <td>70.000000</td>\n",
       "      <td>4.000000</td>\n",
       "      <td>1.000000</td>\n",
       "      <td>0.000000</td>\n",
       "      <td>1.000000</td>\n",
       "      <td>1.000000</td>\n",
       "      <td>0.000000</td>\n",
       "      <td>20.000000</td>\n",
       "      <td>2.000000</td>\n",
       "      <td>2.000000</td>\n",
       "      <td>2.000000</td>\n",
       "      <td>2.000000</td>\n",
       "      <td>2.000000</td>\n",
       "      <td>2.000000</td>\n",
       "    </tr>\n",
       "    <tr>\n",
       "      <th>25%</th>\n",
       "      <td>7.656049e+06</td>\n",
       "      <td>100.000000</td>\n",
       "      <td>1.000000</td>\n",
       "      <td>2.000000</td>\n",
       "      <td>1.000000</td>\n",
       "      <td>1.000000</td>\n",
       "      <td>1.000000</td>\n",
       "      <td>31.000000</td>\n",
       "      <td>210.000000</td>\n",
       "      <td>700.000000</td>\n",
       "      <td>100.000000</td>\n",
       "      <td>15.000000</td>\n",
       "      <td>1.000000</td>\n",
       "      <td>0.000000</td>\n",
       "      <td>1.000000</td>\n",
       "      <td>365.000000</td>\n",
       "      <td>5.000000</td>\n",
       "      <td>88.000000</td>\n",
       "      <td>9.000000</td>\n",
       "      <td>9.000000</td>\n",
       "      <td>9.000000</td>\n",
       "      <td>9.000000</td>\n",
       "      <td>9.000000</td>\n",
       "      <td>9.000000</td>\n",
       "    </tr>\n",
       "    <tr>\n",
       "      <th>50%</th>\n",
       "      <td>2.752699e+07</td>\n",
       "      <td>100.000000</td>\n",
       "      <td>2.000000</td>\n",
       "      <td>2.000000</td>\n",
       "      <td>1.000000</td>\n",
       "      <td>1.000000</td>\n",
       "      <td>1.000000</td>\n",
       "      <td>52.000000</td>\n",
       "      <td>350.000000</td>\n",
       "      <td>1200.000000</td>\n",
       "      <td>150.000000</td>\n",
       "      <td>25.000000</td>\n",
       "      <td>1.000000</td>\n",
       "      <td>0.000000</td>\n",
       "      <td>2.000000</td>\n",
       "      <td>1125.000000</td>\n",
       "      <td>20.000000</td>\n",
       "      <td>94.000000</td>\n",
       "      <td>10.000000</td>\n",
       "      <td>10.000000</td>\n",
       "      <td>10.000000</td>\n",
       "      <td>10.000000</td>\n",
       "      <td>10.000000</td>\n",
       "      <td>9.000000</td>\n",
       "    </tr>\n",
       "    <tr>\n",
       "      <th>75%</th>\n",
       "      <td>5.753683e+07</td>\n",
       "      <td>100.000000</td>\n",
       "      <td>5.000000</td>\n",
       "      <td>4.000000</td>\n",
       "      <td>1.000000</td>\n",
       "      <td>2.000000</td>\n",
       "      <td>2.000000</td>\n",
       "      <td>80.000000</td>\n",
       "      <td>495.000000</td>\n",
       "      <td>1680.000000</td>\n",
       "      <td>200.000000</td>\n",
       "      <td>35.000000</td>\n",
       "      <td>2.000000</td>\n",
       "      <td>14.000000</td>\n",
       "      <td>3.000000</td>\n",
       "      <td>1125.000000</td>\n",
       "      <td>38.000000</td>\n",
       "      <td>98.000000</td>\n",
       "      <td>10.000000</td>\n",
       "      <td>10.000000</td>\n",
       "      <td>10.000000</td>\n",
       "      <td>10.000000</td>\n",
       "      <td>10.000000</td>\n",
       "      <td>10.000000</td>\n",
       "    </tr>\n",
       "    <tr>\n",
       "      <th>max</th>\n",
       "      <td>1.247534e+08</td>\n",
       "      <td>100.000000</td>\n",
       "      <td>207.000000</td>\n",
       "      <td>16.000000</td>\n",
       "      <td>8.000000</td>\n",
       "      <td>10.000000</td>\n",
       "      <td>16.000000</td>\n",
       "      <td>875.000000</td>\n",
       "      <td>999.000000</td>\n",
       "      <td>25000.000000</td>\n",
       "      <td>950.000000</td>\n",
       "      <td>500.000000</td>\n",
       "      <td>16.000000</td>\n",
       "      <td>276.000000</td>\n",
       "      <td>1125.000000</td>\n",
       "      <td>100000.000000</td>\n",
       "      <td>60.000000</td>\n",
       "      <td>100.000000</td>\n",
       "      <td>10.000000</td>\n",
       "      <td>10.000000</td>\n",
       "      <td>10.000000</td>\n",
       "      <td>10.000000</td>\n",
       "      <td>10.000000</td>\n",
       "      <td>10.000000</td>\n",
       "    </tr>\n",
       "  </tbody>\n",
       "</table>\n",
       "</div>"
      ],
      "text/plain": [
       "            Host ID  Host Response Rate  Host Listings Count  Accommodates     Bathrooms      Bedrooms          Beds         Price  Weekly Price  Monthly Price  Security Deposit  Cleaning Fee  Guests Included  Extra People  Minimum Nights  Maximum Nights  Availability 60  Review Scores Rating  Review Scores Accuracy  Review Scores Cleanliness  Review Scores Checkin  Review Scores Communication  Review Scores Location  Review Scores Value\n",
       "count  1.057300e+04         9257.000000         10570.000000  10573.000000  10528.000000  10552.000000  10529.000000  10568.000000   2677.000000    2641.000000       4515.000000   6235.000000     10573.000000  10573.000000    10573.000000    10573.000000     10573.000000           8304.000000             8288.000000                8293.000000            8279.000000                  8293.000000             8278.000000          8279.000000\n",
       "mean   3.733544e+07           94.761694             9.825260      3.191242      1.258264      1.295015      1.991547     66.126419    371.750093    1353.084816        183.367885     29.701363         1.565781      7.385132        3.064693      877.291119        22.765062             91.565149                9.402872                   9.316532               9.619157                     9.641625                9.539986             9.209566\n",
       "std    3.420805e+07           15.368086            27.423644      2.000457      0.611919      0.827257      1.542097     56.955232    192.325515    1011.006174        108.246742     26.079079         1.078173     11.049050       14.117607     1780.336580        19.475390              9.028604                0.938678                   1.010921               0.786621                     0.760115                0.772571             0.966046\n",
       "min    1.745300e+04            0.000000             0.000000      1.000000      0.000000      0.000000      1.000000      9.000000     70.000000     250.000000         70.000000      4.000000         1.000000      0.000000        1.000000        1.000000         0.000000             20.000000                2.000000                   2.000000               2.000000                     2.000000                2.000000             2.000000\n",
       "25%    7.656049e+06          100.000000             1.000000      2.000000      1.000000      1.000000      1.000000     31.000000    210.000000     700.000000        100.000000     15.000000         1.000000      0.000000        1.000000      365.000000         5.000000             88.000000                9.000000                   9.000000               9.000000                     9.000000                9.000000             9.000000\n",
       "50%    2.752699e+07          100.000000             2.000000      2.000000      1.000000      1.000000      1.000000     52.000000    350.000000    1200.000000        150.000000     25.000000         1.000000      0.000000        2.000000     1125.000000        20.000000             94.000000               10.000000                  10.000000              10.000000                    10.000000               10.000000             9.000000\n",
       "75%    5.753683e+07          100.000000             5.000000      4.000000      1.000000      2.000000      2.000000     80.000000    495.000000    1680.000000        200.000000     35.000000         2.000000     14.000000        3.000000     1125.000000        38.000000             98.000000               10.000000                  10.000000              10.000000                    10.000000               10.000000            10.000000\n",
       "max    1.247534e+08          100.000000           207.000000     16.000000      8.000000     10.000000     16.000000    875.000000    999.000000   25000.000000        950.000000    500.000000        16.000000    276.000000     1125.000000   100000.000000        60.000000            100.000000               10.000000                  10.000000              10.000000                    10.000000               10.000000            10.000000"
      ]
     },
     "execution_count": 32,
     "metadata": {},
     "output_type": "execute_result"
    }
   ],
   "source": [
    "df_madrid.describe()"
   ]
  },
  {
   "cell_type": "code",
   "execution_count": 33,
   "metadata": {},
   "outputs": [
    {
     "name": "stdout",
     "output_type": "stream",
     "text": [
      "<class 'pandas.core.frame.DataFrame'>\n",
      "Index: 10573 entries, 2050 to 3247\n",
      "Data columns (total 34 columns):\n",
      " #   Column                       Non-Null Count  Dtype  \n",
      "---  ------                       --------------  -----  \n",
      " 0   Host ID                      10573 non-null  int64  \n",
      " 1   Host Since                   10570 non-null  object \n",
      " 2   Host Response Time           9257 non-null   object \n",
      " 3   Host Response Rate           9257 non-null   float64\n",
      " 4   Host Listings Count          10570 non-null  float64\n",
      " 5   Host Verifications           10565 non-null  object \n",
      " 6   Neighbourhood Cleansed       10573 non-null  object \n",
      " 7   Property Type                10573 non-null  object \n",
      " 8   Room Type                    10573 non-null  object \n",
      " 9   Accommodates                 10573 non-null  int64  \n",
      " 10  Bathrooms                    10528 non-null  float64\n",
      " 11  Bedrooms                     10552 non-null  float64\n",
      " 12  Beds                         10529 non-null  float64\n",
      " 13  Bed Type                     10573 non-null  object \n",
      " 14  Amenities                    10483 non-null  object \n",
      " 15  Price                        10568 non-null  float64\n",
      " 16  Weekly Price                 2677 non-null   float64\n",
      " 17  Monthly Price                2641 non-null   float64\n",
      " 18  Security Deposit             4515 non-null   float64\n",
      " 19  Cleaning Fee                 6235 non-null   float64\n",
      " 20  Guests Included              10573 non-null  int64  \n",
      " 21  Extra People                 10573 non-null  int64  \n",
      " 22  Minimum Nights               10573 non-null  int64  \n",
      " 23  Maximum Nights               10573 non-null  int64  \n",
      " 24  Availability 60              10573 non-null  int64  \n",
      " 25  Review Scores Rating         8304 non-null   float64\n",
      " 26  Review Scores Accuracy       8288 non-null   float64\n",
      " 27  Review Scores Cleanliness    8293 non-null   float64\n",
      " 28  Review Scores Checkin        8279 non-null   float64\n",
      " 29  Review Scores Communication  8293 non-null   float64\n",
      " 30  Review Scores Location       8278 non-null   float64\n",
      " 31  Review Scores Value          8279 non-null   float64\n",
      " 32  Cancellation Policy          10573 non-null  object \n",
      " 33  Features                     10573 non-null  object \n",
      "dtypes: float64(17), int64(7), object(10)\n",
      "memory usage: 2.8+ MB\n"
     ]
    }
   ],
   "source": [
    "df_madrid.info()"
   ]
  },
  {
   "cell_type": "code",
   "execution_count": 34,
   "metadata": {},
   "outputs": [
    {
     "name": "stdout",
     "output_type": "stream",
     "text": [
      "Host ID                         0.000000\n",
      "Host Since                      0.028374\n",
      "Host Response Time             12.446798\n",
      "Host Response Rate             12.446798\n",
      "Host Listings Count             0.028374\n",
      "Host Verifications              0.075664\n",
      "Neighbourhood Cleansed          0.000000\n",
      "Property Type                   0.000000\n",
      "Room Type                       0.000000\n",
      "Accommodates                    0.000000\n",
      "Bathrooms                       0.425612\n",
      "Bedrooms                        0.198619\n",
      "Beds                            0.416154\n",
      "Bed Type                        0.000000\n",
      "Amenities                       0.851225\n",
      "Price                           0.047290\n",
      "Weekly Price                   74.680791\n",
      "Monthly Price                  75.021281\n",
      "Security Deposit               57.296888\n",
      "Cleaning Fee                   41.029036\n",
      "Guests Included                 0.000000\n",
      "Extra People                    0.000000\n",
      "Minimum Nights                  0.000000\n",
      "Maximum Nights                  0.000000\n",
      "Availability 60                 0.000000\n",
      "Review Scores Rating           21.460323\n",
      "Review Scores Accuracy         21.611652\n",
      "Review Scores Cleanliness      21.564362\n",
      "Review Scores Checkin          21.696775\n",
      "Review Scores Communication    21.564362\n",
      "Review Scores Location         21.706233\n",
      "Review Scores Value            21.696775\n",
      "Cancellation Policy             0.000000\n",
      "Features                        0.000000\n",
      "dtype: float64\n"
     ]
    }
   ],
   "source": [
    "na_percentage = df_madrid.isnull().mean() * 100\n",
    "print(na_percentage)"
   ]
  },
  {
   "cell_type": "markdown",
   "metadata": {},
   "source": [
    "A continuación haremos uso de un profiler para el analisis exploratorio de los datos"
   ]
  },
  {
   "cell_type": "markdown",
   "metadata": {},
   "source": [
    "Voy a crear un grágico para poder estudiar las correlaciones entre las variables numéricas del dataset."
   ]
  },
  {
   "cell_type": "code",
   "execution_count": 37,
   "metadata": {},
   "outputs": [
    {
     "data": {
      "image/png": "[encoded data removed]",
      "text/plain": [
       "<Figure size 1200x1000 with 2 Axes>"
      ]
     },
     "metadata": {},
     "output_type": "display_data"
    }
   ],
   "source": [
    "import seaborn as sns\n",
    "\n",
    "# Seleccionar solo las columnas numéricas\n",
    "df_numeric = df_madrid.select_dtypes(include=['number'])\n",
    "\n",
    "# Compute the correlation matrix\n",
    "corr = np.abs(df_numeric.drop(['Price'], axis=1).corr())\n",
    "\n",
    "# Generate a mask for the upper triangle\n",
    "mask = np.zeros_like(corr, dtype=bool)\n",
    "mask[np.triu_indices_from(mask)] = True\n",
    "\n",
    "# Set up the matplotlib figure\n",
    "f, ax = plt.subplots(figsize=(12, 10))\n",
    "\n",
    "# Draw the heatmap with the mask and correct aspect ratio\n",
    "sns.heatmap(corr, mask=mask,vmin = 0.0, vmax=1.0, center=0.5,\n",
    "            linewidths=.1, cmap=\"YlGnBu\", cbar_kws={\"shrink\": .8})\n",
    "\n",
    "plt.show()"
   ]
  },
  {
   "cell_type": "markdown",
   "metadata": {},
   "source": [
    "A continuación voy a analizar las variables una a una, en el caso de las númericas para tratar problemas ocasionados con los ***valores nulos*** y los ***outliers*** ey en el caso de las categóricas para detectar ***valores nulos*** y ver si es necesario transformarlas con el fin de mejorar la precisión del modelo posteriormente se procederá a tratarlos."
   ]
  },
  {
   "cell_type": "markdown",
   "metadata": {},
   "source": [
    "### Price"
   ]
  },
  {
   "cell_type": "code",
   "execution_count": 38,
   "metadata": {},
   "outputs": [
    {
     "data": {
      "text/plain": [
       "Price\n",
       "50.0     484\n",
       "60.0     427\n",
       "25.0     414\n",
       "30.0     413\n",
       "35.0     363\n",
       "        ... \n",
       "579.0      1\n",
       "399.0      1\n",
       "192.0      1\n",
       "455.0      1\n",
       "177.0      1\n",
       "Name: count, Length: 263, dtype: int64"
      ]
     },
     "execution_count": 38,
     "metadata": {},
     "output_type": "execute_result"
    }
   ],
   "source": [
    "df_madrid[\"Price\"].value_counts()"
   ]
  },
  {
   "cell_type": "markdown",
   "metadata": {},
   "source": [
    "Aplico una transformación logarítmica a la variable Price para que se ajuste mejor a una distribución normal."
   ]
  },
  {
   "cell_type": "code",
   "execution_count": 39,
   "metadata": {},
   "outputs": [],
   "source": [
    "df_madrid['Price'] = np.log1p(df_madrid['Price'])\n",
    "\n"
   ]
  },
  {
   "cell_type": "markdown",
   "metadata": {},
   "source": [
    "### Host ID \n",
    "\n",
    "cuento con la variable **Host Id** que es el identificador único para cada host pero en el dataframe se puede dar el caso que varios alojamientos correspondan a un mismo Host Id por lo tanto lo que qeuremos es crear una variable nueva que tomara el valor de 'Empresa' en caso de los Host con más de 2 propiedades y prpietario particular en caso de tener 2 o menos propiedades. "
   ]
  },
  {
   "cell_type": "code",
   "execution_count": 40,
   "metadata": {},
   "outputs": [],
   "source": [
    "df_madrid['Host Type'] = df_madrid.groupby('Host ID')['Host ID'].transform(lambda x: 'Empresa' if len(x) > 2 else 'Propietario Particular')"
   ]
  },
  {
   "cell_type": "markdown",
   "metadata": {},
   "source": [
    "Crearemos una nueva variable categórica ordinal a partir de la variable Host Listings Count. Para ello, agruparemos los valores en 2 categorías:\n",
    "\n",
    "- **Emepresa**: si el anfitrión tiene más de 2 alojamientos.\n",
    "- **Particular**: si el anfitrión tiene 1 o 2 alojamientos."
   ]
  },
  {
   "cell_type": "code",
   "execution_count": 41,
   "metadata": {},
   "outputs": [
    {
     "data": {
      "text/plain": [
       "Host Type\n",
       "Propietario Particular    6980\n",
       "Empresa                   3593\n",
       "Name: count, dtype: int64"
      ]
     },
     "execution_count": 41,
     "metadata": {},
     "output_type": "execute_result"
    }
   ],
   "source": [
    "df_madrid['Host Type'].value_counts()"
   ]
  },
  {
   "cell_type": "markdown",
   "metadata": {},
   "source": [
    "Posteriormente se procede a codificar la variable Host Type con el  metodo one_hot_encode_features ya que es una variable categórica nominal."
   ]
  },
  {
   "cell_type": "code",
   "execution_count": 42,
   "metadata": {},
   "outputs": [],
   "source": [
    "df_madrid = pd.get_dummies(df_madrid, columns=['Host Type'], drop_first=True)"
   ]
  },
  {
   "cell_type": "code",
   "execution_count": 43,
   "metadata": {},
   "outputs": [
    {
     "data": {
      "text/plain": [
       "Host Type_Propietario Particular\n",
       "True     6980\n",
       "False    3593\n",
       "Name: count, dtype: int64"
      ]
     },
     "execution_count": 43,
     "metadata": {},
     "output_type": "execute_result"
    }
   ],
   "source": [
    "df_madrid['Host Type_Propietario Particular'].value_counts()"
   ]
  },
  {
   "cell_type": "code",
   "execution_count": 44,
   "metadata": {},
   "outputs": [],
   "source": [
    "df_madrid.drop(columns = ['Host ID'], inplace = True)"
   ]
  },
  {
   "cell_type": "markdown",
   "metadata": {},
   "source": [
    "### Host Since"
   ]
  },
  {
   "cell_type": "code",
   "execution_count": 45,
   "metadata": {},
   "outputs": [
    {
     "data": {
      "text/plain": [
       "Host Since\n",
       "2014-09-19    111\n",
       "2014-05-08     91\n",
       "2016-01-12     73\n",
       "2012-09-14     64\n",
       "2015-04-07     50\n",
       "             ... \n",
       "2013-08-11      1\n",
       "2013-04-07      1\n",
       "2012-07-15      1\n",
       "2013-07-11      1\n",
       "2016-10-22      1\n",
       "Name: count, Length: 1989, dtype: int64"
      ]
     },
     "execution_count": 45,
     "metadata": {},
     "output_type": "execute_result"
    }
   ],
   "source": [
    "df_madrid[\"Host Since\"].value_counts()"
   ]
  },
  {
   "cell_type": "markdown",
   "metadata": {},
   "source": [
    "La información que podemos obtener de esta variable es la antigüedad del propietario en la plataforma, por tanto voy a convertir a formato fecha restarselo al año en que se realizo el último scraping y de este modo optengo el numero de años de antigúedad."
   ]
  },
  {
   "cell_type": "code",
   "execution_count": 46,
   "metadata": {},
   "outputs": [],
   "source": [
    "from datetime import datetime\n",
    "fecha_fija = datetime.strptime('2017-04-08', '%Y-%m-%d')\n",
    "df_madrid['Host Since'] = pd.to_datetime(df_madrid['Host Since'])  # Convertir a formato fecha\n",
    "df_madrid['host_years_active'] = fecha_fija.year - df_madrid['Host Since'].dt.year"
   ]
  },
  {
   "cell_type": "code",
   "execution_count": 47,
   "metadata": {},
   "outputs": [
    {
     "data": {
      "text/plain": [
       "host_years_active\n",
       "2.0    2528\n",
       "1.0    2431\n",
       "3.0    1893\n",
       "4.0    1375\n",
       "5.0    1308\n",
       "0.0     509\n",
       "6.0     432\n",
       "7.0      88\n",
       "8.0       6\n",
       "Name: count, dtype: int64"
      ]
     },
     "execution_count": 47,
     "metadata": {},
     "output_type": "execute_result"
    }
   ],
   "source": [
    "df_madrid[\"host_years_active\"].value_counts()"
   ]
  },
  {
   "cell_type": "code",
   "execution_count": 48,
   "metadata": {},
   "outputs": [
    {
     "data": {
      "image/png": "[encoded data removed]",
      "text/plain": [
       "<Figure size 640x480 with 1 Axes>"
      ]
     },
     "metadata": {},
     "output_type": "display_data"
    }
   ],
   "source": [
    "# Configurar el estilo de Seaborn\n",
    "sns.set(style='whitegrid')\n",
    "\n",
    "# Dibujar el histograma con KDE\n",
    "sns.histplot(df_madrid['host_years_active'], bins=10, kde=True, color='teal')\n",
    "\n",
    "# Añadir etiquetas y título\n",
    "plt.xlabel('host_years_active')\n",
    "plt.ylabel('Frecuencia')\n",
    "plt.title('Distribución de Edades')\n",
    " \n",
    "# Mostrar el gráfico\n",
    "plt.show()"
   ]
  },
  {
   "cell_type": "markdown",
   "metadata": {},
   "source": [
    "Una vez vista la distribución de la variable ***host_years_active***, y con el fin de reducir la dimensionalidad del modelo y evitar la alta cardinalidad de la variable categórica, es necesario agrupar algunas de sus categorías en grupos más generales. Esto ayudará a mejorar la eficiencia del modelo y evitar el riesgo de sobreajuste.\n",
    "\n",
    "Señalar que estamos interpretando los años de antigüedad en la plataforma como experiencia. \n",
    "\n",
    "Las categorías serian:\n",
    "\n",
    "- Nuevo (0-1 años)\n",
    "- Principiante (2-3 años)\n",
    "- Intermedio (4-5 años)\n",
    "- Experimentado (6+ años)"
   ]
  },
  {
   "cell_type": "code",
   "execution_count": 49,
   "metadata": {},
   "outputs": [],
   "source": [
    "df_madrid['host_years_grouped'] = pd.cut(df_madrid['host_years_active'], \n",
    "                                  bins=[-1, 1, 3, 5, 8], \n",
    "                                  labels=['Nuevo', \n",
    "                                          'Principiante', \n",
    "                                          'Intermedio', \n",
    "                                          'Experimentado'])"
   ]
  },
  {
   "cell_type": "code",
   "execution_count": 50,
   "metadata": {},
   "outputs": [
    {
     "data": {
      "text/plain": [
       "host_years_grouped\n",
       "Principiante     4421\n",
       "Nuevo            2940\n",
       "Intermedio       2683\n",
       "Experimentado     526\n",
       "Name: count, dtype: int64"
      ]
     },
     "execution_count": 50,
     "metadata": {},
     "output_type": "execute_result"
    }
   ],
   "source": [
    "df_madrid[\"host_years_grouped\"].value_counts()"
   ]
  },
  {
   "cell_type": "markdown",
   "metadata": {},
   "source": [
    "Una vez que agrupada la variable, la codificamos para usarla en el modelo. Dado que es una variable ordinal, debo preservar el orden entre las categorías."
   ]
  },
  {
   "cell_type": "code",
   "execution_count": 51,
   "metadata": {},
   "outputs": [],
   "source": [
    "from sklearn.preprocessing import LabelEncoder\n",
    "\n",
    "# Crear un diccionario para mapear las categorías a números\n",
    "ordinal_mapping = {\n",
    "    \"Nuevo\": 0,\n",
    "    \"Principiante\": 1,\n",
    "    \"Intermedio\": 2,\n",
    "    \"Experimentado\": 3\n",
    "}\n",
    "\n",
    "# Aplicar el mapeo\n",
    "df_madrid['host_years_grouped_Encoded'] = df_madrid['host_years_grouped'].map(ordinal_mapping)"
   ]
  },
  {
   "cell_type": "code",
   "execution_count": 52,
   "metadata": {},
   "outputs": [
    {
     "data": {
      "text/plain": [
       "host_years_grouped_Encoded\n",
       "1    4421\n",
       "0    2940\n",
       "2    2683\n",
       "3     526\n",
       "Name: count, dtype: int64"
      ]
     },
     "execution_count": 52,
     "metadata": {},
     "output_type": "execute_result"
    }
   ],
   "source": [
    "df_madrid[\"host_years_grouped_Encoded\"].value_counts()"
   ]
  },
  {
   "cell_type": "code",
   "execution_count": 53,
   "metadata": {},
   "outputs": [],
   "source": [
    "df_madrid.drop(columns = ['Host Since', 'host_years_active', 'host_years_grouped'], inplace = True)"
   ]
  },
  {
   "cell_type": "markdown",
   "metadata": {},
   "source": [
    "### Host Response Time"
   ]
  },
  {
   "cell_type": "code",
   "execution_count": 54,
   "metadata": {},
   "outputs": [
    {
     "data": {
      "text/plain": [
       "Host Response Time\n",
       "within an hour        5690\n",
       "within a few hours    2128\n",
       "within a day          1217\n",
       "a few days or more     222\n",
       "Name: count, dtype: int64"
      ]
     },
     "execution_count": 54,
     "metadata": {},
     "output_type": "execute_result"
    }
   ],
   "source": [
    "df_madrid[\"Host Response Time\"].value_counts()"
   ]
  },
  {
   "cell_type": "markdown",
   "metadata": {},
   "source": [
    "Codificamos la variable para usarla en el modelo. Dado que es una variable ordinal, debo preservar el orden entre las categorías,  \n",
    "ya que es preferible que conteste el el intervalo de una hora a en unos cuantos días."
   ]
  },
  {
   "cell_type": "code",
   "execution_count": 55,
   "metadata": {},
   "outputs": [],
   "source": [
    "# Crear un diccionario para mapear las categorías a números\n",
    "ordinal_mapping = {\n",
    "    \"a few days or more\": 0,\n",
    "    \"within a day\": 1,\n",
    "    \"within a few hours\": 2,\n",
    "    \"within an hour\": 3\n",
    "}\n",
    "\n",
    "# Aplicar el mapeo\n",
    "df_madrid['Host Response Time Encoded'] = df_madrid['Host Response Time'].map(ordinal_mapping)"
   ]
  },
  {
   "cell_type": "code",
   "execution_count": 56,
   "metadata": {},
   "outputs": [
    {
     "data": {
      "text/plain": [
       "Host Response Time Encoded\n",
       "3.0    5690\n",
       "2.0    2128\n",
       "1.0    1217\n",
       "0.0     222\n",
       "Name: count, dtype: int64"
      ]
     },
     "execution_count": 56,
     "metadata": {},
     "output_type": "execute_result"
    }
   ],
   "source": [
    "df_madrid[\"Host Response Time Encoded\"].value_counts()"
   ]
  },
  {
   "cell_type": "code",
   "execution_count": 57,
   "metadata": {},
   "outputs": [],
   "source": [
    "df_madrid.drop(columns = ['Host Response Time'], inplace = True)"
   ]
  },
  {
   "cell_type": "markdown",
   "metadata": {},
   "source": [
    "### Host Response Rate"
   ]
  },
  {
   "cell_type": "code",
   "execution_count": 58,
   "metadata": {},
   "outputs": [
    {
     "data": {
      "text/plain": [
       "Host Response Rate\n",
       "100.0    7086\n",
       "90.0      245\n",
       "75.0      172\n",
       "98.0      148\n",
       "96.0      133\n",
       "         ... \n",
       "26.0        1\n",
       "59.0        1\n",
       "62.0        1\n",
       "27.0        1\n",
       "42.0        1\n",
       "Name: count, Length: 68, dtype: int64"
      ]
     },
     "execution_count": 58,
     "metadata": {},
     "output_type": "execute_result"
    }
   ],
   "source": [
    "df_madrid[\"Host Response Rate\"].value_counts()"
   ]
  },
  {
   "cell_type": "code",
   "execution_count": 59,
   "metadata": {},
   "outputs": [],
   "source": [
    "# Definir los bins y las etiquetas\n",
    "bins = [-1, 0, 50, 75, 90, 100]\n",
    "labels = [\"No response\", \"Low\", \"Medium\", \"High\", \"Very high\"]\n",
    "\n",
    "# Crear la nueva variable categórica ordinal\n",
    "df_madrid['Host Response Rate Grouped'] = pd.cut(df_madrid['Host Response Rate'], bins=bins, labels=labels, include_lowest=True)"
   ]
  },
  {
   "cell_type": "code",
   "execution_count": 60,
   "metadata": {},
   "outputs": [
    {
     "name": "stdout",
     "output_type": "stream",
     "text": [
      "Host Response Rate Grouped\n",
      "Very high      7865\n",
      "High            670\n",
      "Medium          386\n",
      "Low             220\n",
      "No response     116\n",
      "Name: count, dtype: int64\n"
     ]
    }
   ],
   "source": [
    "print(df_madrid['Host Response Rate Grouped'].value_counts())"
   ]
  },
  {
   "cell_type": "markdown",
   "metadata": {},
   "source": [
    "Una vez que agrupada la variable, la codificamos para usarla en el modelo. Dado que es una variable ordinal, debo preservar el orden entre las categorías."
   ]
  },
  {
   "cell_type": "code",
   "execution_count": 61,
   "metadata": {},
   "outputs": [],
   "source": [
    "# Crear un diccionario para mapear las categorías a números\n",
    "ordinal_mapping = {\n",
    "    \"No response\": 0,\n",
    "    \"Low\": 1,\n",
    "    \"Medium\": 2,\n",
    "    \"High\": 3,\n",
    "    \"Very high\": 4\n",
    "}\n",
    "\n",
    "# Aplicar el mapeo\n",
    "df_madrid['Host Response Rate Encoded'] = df_madrid['Host Response Rate Grouped'].map(ordinal_mapping)"
   ]
  },
  {
   "cell_type": "code",
   "execution_count": 62,
   "metadata": {},
   "outputs": [
    {
     "name": "stdout",
     "output_type": "stream",
     "text": [
      "Host Response Rate Encoded\n",
      "4    7865\n",
      "3     670\n",
      "2     386\n",
      "1     220\n",
      "0     116\n",
      "Name: count, dtype: int64\n"
     ]
    }
   ],
   "source": [
    "print(df_madrid['Host Response Rate Encoded'].value_counts())"
   ]
  },
  {
   "cell_type": "code",
   "execution_count": 63,
   "metadata": {},
   "outputs": [],
   "source": [
    "df_madrid.drop(columns = ['Host Response Rate', 'Host Response Rate Grouped'], inplace = True)"
   ]
  },
  {
   "cell_type": "markdown",
   "metadata": {},
   "source": [
    "### Host Listings Count"
   ]
  },
  {
   "cell_type": "code",
   "execution_count": 64,
   "metadata": {},
   "outputs": [
    {
     "data": {
      "text/plain": [
       "Host Listings Count\n",
       "1.0      4524\n",
       "2.0      1679\n",
       "3.0       891\n",
       "4.0       581\n",
       "5.0       326\n",
       "6.0       256\n",
       "8.0       195\n",
       "9.0       185\n",
       "10.0      184\n",
       "7.0       138\n",
       "11.0      125\n",
       "15.0      117\n",
       "164.0     110\n",
       "114.0      85\n",
       "12.0       82\n",
       "14.0       78\n",
       "46.0       76\n",
       "13.0       76\n",
       "142.0      62\n",
       "40.0       61\n",
       "38.0       59\n",
       "207.0      55\n",
       "16.0       52\n",
       "32.0       48\n",
       "17.0       45\n",
       "39.0       44\n",
       "24.0       42\n",
       "20.0       42\n",
       "51.0       41\n",
       "57.0       39\n",
       "18.0       38\n",
       "26.0       37\n",
       "68.0       31\n",
       "34.0       26\n",
       "30.0       25\n",
       "36.0       19\n",
       "28.0       19\n",
       "23.0       18\n",
       "0.0        15\n",
       "21.0       12\n",
       "25.0       10\n",
       "22.0        8\n",
       "45.0        5\n",
       "27.0        3\n",
       "35.0        2\n",
       "136.0       2\n",
       "50.0        1\n",
       "81.0        1\n",
       "Name: count, dtype: int64"
      ]
     },
     "execution_count": 64,
     "metadata": {},
     "output_type": "execute_result"
    }
   ],
   "source": [
    "df_madrid[\"Host Listings Count\"].value_counts()"
   ]
  },
  {
   "cell_type": "code",
   "execution_count": 65,
   "metadata": {},
   "outputs": [
    {
     "name": "stdout",
     "output_type": "stream",
     "text": [
      "count    10570.000000\n",
      "mean         9.825260\n",
      "std         27.423644\n",
      "min          0.000000\n",
      "25%          1.000000\n",
      "50%          2.000000\n",
      "75%          5.000000\n",
      "max        207.000000\n",
      "Name: Host Listings Count, dtype: float64\n",
      "Outliers identificados por IQR: 1471\n"
     ]
    }
   ],
   "source": [
    "print(df_madrid['Host Listings Count'].describe())\n",
    "\n",
    "# Paso 2: Análisis con IQR\n",
    "Q1 = df_madrid['Host Listings Count'].quantile(0.25)\n",
    "Q3 = df_madrid['Host Listings Count'].quantile(0.75)\n",
    "IQR = Q3 - Q1\n",
    "\n",
    "upper_limit = Q3 + 1.5 * IQR\n",
    "\n",
    "outliers_iqr = df_madrid[(df_madrid['Host Listings Count'] > upper_limit)]\n",
    "\n",
    "print(f\"Outliers identificados por IQR: {outliers_iqr.shape[0]}\")"
   ]
  },
  {
   "cell_type": "markdown",
   "metadata": {},
   "source": [
    "Creo que es preferible no eliminar los outliers y crear un nuevo grupo para estos valores."
   ]
  },
  {
   "cell_type": "code",
   "execution_count": 66,
   "metadata": {},
   "outputs": [],
   "source": [
    "percentiles = df_madrid['Host Listings Count'].quantile([0.5, 0.9])  # Mediana (50%) y percentil 90\n",
    "\n",
    "# Definir los límites de los grupos\n",
    "bins = [df_madrid['Host Listings Count'].min(),  # Valor mínimo\n",
    "        percentiles[0.5],  # Mediana (punto de corte para \"Principiante\")\n",
    "        percentiles[0.9],  # Percentil 90 (punto de corte para \"Intermedio\")\n",
    "        70,  #Umbral para \"Experimentado\" (más de 70 propiedades)\n",
    "        df_madrid['Host Listings Count'].max()]  # Valor máximo\n",
    "\n",
    "# Etiquetas para los grupos\n",
    "labels = ['Principiante', 'Intermedio', 'Experimentado', 'Empresas grandes']\n",
    "\n",
    "# Crear la nueva variable agrupada\n",
    "df_madrid['Host_Experience_Level'] = pd.cut(df_madrid['Host Listings Count'], bins=bins, labels=labels, include_lowest=True)\n"
   ]
  },
  {
   "cell_type": "code",
   "execution_count": 67,
   "metadata": {},
   "outputs": [
    {
     "data": {
      "text/plain": [
       "Host_Experience_Level\n",
       "Principiante        6218\n",
       "Intermedio          3331\n",
       "Experimentado        706\n",
       "Empresas grandes     315\n",
       "Name: count, dtype: int64"
      ]
     },
     "execution_count": 67,
     "metadata": {},
     "output_type": "execute_result"
    }
   ],
   "source": [
    "df_madrid['Host_Experience_Level'].value_counts()"
   ]
  },
  {
   "cell_type": "markdown",
   "metadata": {},
   "source": [
    "La variable **Host_Experience_Level** no parece ser ordinal porque, no tiene un orden inherente asociado con los precios o con algún tipo de jerarquía que sugiera que un grupo tenga valores “más altos” o “más bajos” que otro.\n",
    "Por este motivo, utilizaremos One Hot encoder para codificar la variable."
   ]
  },
  {
   "cell_type": "code",
   "execution_count": 68,
   "metadata": {},
   "outputs": [],
   "source": [
    "df_madrid = pd.get_dummies(df_madrid, columns=['Host_Experience_Level'])"
   ]
  },
  {
   "cell_type": "code",
   "execution_count": 69,
   "metadata": {},
   "outputs": [],
   "source": [
    "df_madrid.drop(columns = ['Host Listings Count'], inplace = True)"
   ]
  },
  {
   "cell_type": "markdown",
   "metadata": {},
   "source": [
    "### Host Verifications"
   ]
  },
  {
   "cell_type": "code",
   "execution_count": 70,
   "metadata": {},
   "outputs": [
    {
     "data": {
      "text/plain": [
       "Host Verifications\n",
       "email,phone,reviews                                                        2593\n",
       "email,phone,reviews,jumio                                                  2457\n",
       "email,phone,reviews,jumio,government_id                                     677\n",
       "email,phone,facebook,reviews,jumio                                          586\n",
       "email,phone,facebook,reviews                                                571\n",
       "                                                                           ... \n",
       "email,phone,manual_online,facebook,reviews,manual_offline,jumio               1\n",
       "email,phone,google,jumio,offline_government_id,government_id,work_email       1\n",
       "email,phone,google,amex,reviews,jumio,government_id                           1\n",
       "reviews,jumio                                                                 1\n",
       "phone,facebook,jumio,government_id                                            1\n",
       "Name: count, Length: 180, dtype: int64"
      ]
     },
     "execution_count": 70,
     "metadata": {},
     "output_type": "execute_result"
    }
   ],
   "source": [
    "df_madrid[\"Host Verifications\"].value_counts()"
   ]
  },
  {
   "cell_type": "markdown",
   "metadata": {},
   "source": [
    "Primero creamos un diccionario con los metodos se verificación unicos recogidos en las combinaciones de cada una de las observaciones y asignamos una puntuación de seguridad entre 0 y 10 a cada tipo de verificación basada en su fiabilidad.  \n",
    "Luego, para cada observación en el conjunto de datos, tomamos el valor máximo de las puntuaciones de las verificaciones presentes en esa combinación.  \n",
    "Posteriormente, clasificamos la seguridad en tres categorías: Alta seguridad (puntuaciones entre 8 y 10), Seguridad media (puntuaciones entre 5 y 7) y Baja seguridad (puntuaciones entre 0 y 4).  \n",
    "Posteriormente esta clasificación se añade como una nueva variable que refleja el nivel de seguridad asociado a cada observación, permitiendo utilizarla en modelos de predicción o análisis.  \n",
    "Por último, y dado que la variable es categórica ordinal la codificamos teninedolo en cuenta.\n"
   ]
  },
  {
   "cell_type": "code",
   "execution_count": 71,
   "metadata": {},
   "outputs": [],
   "source": [
    "# Paso 1: Extraer todas las características únicas\n",
    "all_host_verifications = madrid_df['Host Verifications'].fillna('').apply(lambda x: x.split(','))\n",
    "# Paso 2: Aplanar todas las listas en una sola lista\n",
    "flattened_features = [item for sublist in all_host_verifications for item in sublist]\n",
    "# Paso 3: Obtener características únicas\n",
    "host_verifications = list(set(flattened_features))"
   ]
  },
  {
   "cell_type": "code",
   "execution_count": 72,
   "metadata": {},
   "outputs": [
    {
     "name": "stdout",
     "output_type": "stream",
     "text": [
      "['identity_manual', '', 'offline_government_id', 'email', 'linkedin', 'work_email', 'amex', 'selfie', 'manual_online', 'google', 'manual_offline', 'government_id', 'kba', 'facebook', 'weibo', 'jumio', 'phone', 'photographer', 'reviews', 'sent_id']\n"
     ]
    }
   ],
   "source": [
    "print(host_verifications)"
   ]
  },
  {
   "cell_type": "code",
   "execution_count": 73,
   "metadata": {},
   "outputs": [],
   "source": [
    "security_dict = {\n",
    "    'amex': 8,  # Método de pago, Alta seguridad\n",
    "    'google': 7,  # Verificación de Google, Moderada\n",
    "    'kba': 5,  # Preguntas de seguridad (Baja seguridad)\n",
    "    'government_id': 10,  # Alta seguridad\n",
    "    'manual_online': 3,  # Baja seguridad\n",
    "    'sent_id': 2,  # Baja seguridad\n",
    "    'work_email': 7,  # Moderada\n",
    "    'selfie': 6,  # Moderada\n",
    "    'weibo': 1,  # Baja seguridad\n",
    "    'offline_government_id': 10,  # Alta seguridad\n",
    "    'identity_manual': 10,  # Alta seguridad\n",
    "    'jumio': 9,  # Alta seguridad\n",
    "    'linkedin': 7,  # Moderada\n",
    "    'facebook': 6,  # Moderada\n",
    "    'manual_offline': 4,  # Baja seguridad\n",
    "    'phone': 5,  # Moderada\n",
    "    'email': 6,  # Moderada\n",
    "    'photographer': 3,  # Baja seguridad\n",
    "    'reviews': 4  # Moderada\n",
    "}"
   ]
  },
  {
   "cell_type": "code",
   "execution_count": 74,
   "metadata": {},
   "outputs": [],
   "source": [
    "def calculate_security_level(row, security_dict):\n",
    "    # Verificar si el valor es una cadena y no está vacío\n",
    "    if isinstance(row, str) and row.strip():\n",
    "        # Obtener las verificaciones presentes en la observación\n",
    "        verifications = row.split(',')\n",
    "        \n",
    "        # Obtener las puntuaciones de seguridad para cada verificación presente\n",
    "        scores = [security_dict.get(verification.strip(), 0) for verification in verifications]\n",
    "        \n",
    "        # Tomar el máximo valor de las puntuaciones (no promedio)\n",
    "        return max(scores) if scores else 0\n",
    "    else:\n",
    "        # Si la fila es nula o no es una cadena, asignar 0\n",
    "        return 0\n",
    "\n",
    "# Aplicar la función a la columna 'Host Verifications'\n",
    "df_madrid['Security_Level'] = df_madrid['Host Verifications'].apply(calculate_security_level, args=(security_dict,))"
   ]
  },
  {
   "cell_type": "code",
   "execution_count": 75,
   "metadata": {},
   "outputs": [],
   "source": [
    "# Crear una variable de seguridad agrupada (Alta, Media, Baja)\n",
    "def categorize_security_level(score):\n",
    "    if score >= 8:\n",
    "        return 'Alta seguridad'\n",
    "    elif score >= 5:\n",
    "        return 'Seguridad media'\n",
    "    else:\n",
    "        return 'Baja seguridad'\n",
    "\n",
    "# Aplicar la categorización\n",
    "df_madrid['Security_Category'] = df_madrid['Security_Level'].apply(categorize_security_level)"
   ]
  },
  {
   "cell_type": "code",
   "execution_count": 76,
   "metadata": {},
   "outputs": [
    {
     "data": {
      "text/plain": [
       "Security_Category\n",
       "Alta seguridad     5988\n",
       "Seguridad media    4570\n",
       "Baja seguridad       15\n",
       "Name: count, dtype: int64"
      ]
     },
     "execution_count": 76,
     "metadata": {},
     "output_type": "execute_result"
    }
   ],
   "source": [
    "df_madrid['Security_Category'].value_counts()"
   ]
  },
  {
   "cell_type": "code",
   "execution_count": 77,
   "metadata": {},
   "outputs": [],
   "source": [
    "# Crear un diccionario para mapear las categorías a números\n",
    "ordinal_mapping = {\n",
    "    \"Alta seguridad\": 2,\n",
    "    \"Seguridad media\": 1,\n",
    "    \"Baja seguridad\": 0\n",
    "}\n",
    "\n",
    "# Aplicar el mapeo\n",
    "df_madrid['Security Level'] = df_madrid['Security_Category'].map(ordinal_mapping)"
   ]
  },
  {
   "cell_type": "code",
   "execution_count": 78,
   "metadata": {},
   "outputs": [
    {
     "data": {
      "text/plain": [
       "Security Level\n",
       "2    5988\n",
       "1    4570\n",
       "0      15\n",
       "Name: count, dtype: int64"
      ]
     },
     "execution_count": 78,
     "metadata": {},
     "output_type": "execute_result"
    }
   ],
   "source": [
    "df_madrid['Security Level'].value_counts()"
   ]
  },
  {
   "cell_type": "code",
   "execution_count": 79,
   "metadata": {},
   "outputs": [],
   "source": [
    "df_madrid.drop(columns = ['Host Verifications', 'Security_Level', 'Security_Category'], inplace = True)"
   ]
  },
  {
   "cell_type": "markdown",
   "metadata": {},
   "source": [
    "### Neighbourhood Cleansed"
   ]
  },
  {
   "cell_type": "code",
   "execution_count": 80,
   "metadata": {},
   "outputs": [
    {
     "data": {
      "text/plain": [
       "Neighbourhood Cleansed\n",
       "Embajadores       1454\n",
       "Universidad       1084\n",
       "Palacio            863\n",
       "Sol                749\n",
       "Justicia           644\n",
       "                  ... \n",
       "Cuatro Vientos       3\n",
       "Amposta              2\n",
       "El Goloso            2\n",
       "Fuentelareina        2\n",
       "Orcasitas            1\n",
       "Name: count, Length: 125, dtype: int64"
      ]
     },
     "execution_count": 80,
     "metadata": {},
     "output_type": "execute_result"
    }
   ],
   "source": [
    "df_madrid[\"Neighbourhood Cleansed\"].value_counts()"
   ]
  },
  {
   "cell_type": "markdown",
   "metadata": {},
   "source": [
    "Primero, calculamos el precio medio de cada barrio utilizando la variable objetivo (precio). Luego, aplicamos K-means para segmentar los barrios en tres grupos según su precio medio, lo que nos permite obtener una nueva variable llamada Price_Category. A continuación, asignamos cada barrio a uno de estos grupos y mapeamos los clusters a etiquetas más interpretables, como “Barato”, “Medio”, “Caro” y “Muy caro”. Posteriormente, reemplazamos los valores numéricos en la columna Price_Category por sus respectivas etiquetas. Si algún barrio no se mapeó correctamente, podemos optar por eliminar esas filas en lugar de asignarlas a una categoría por defecto. Finalmente, verificamos la distribución de las categorías para asegurarnos de que la segmentación sea coherente y, una vez validada, integramos esta nueva variable categórica en el dataset para su uso en modelos de regresión."
   ]
  },
  {
   "cell_type": "code",
   "execution_count": 81,
   "metadata": {},
   "outputs": [
    {
     "data": {
      "image/png": "[encoded data removed]",
      "text/plain": [
       "<Figure size 640x480 with 1 Axes>"
      ]
     },
     "metadata": {},
     "output_type": "display_data"
    }
   ],
   "source": [
    "from sklearn.cluster import KMeans\n",
    "# Supongamos que df tiene las columnas 'Neighbourhood Cleansed' y 'Price'\n",
    "# Calcular el precio medio por barrio\n",
    "barrio_precios = df_madrid.groupby('Neighbourhood Cleansed')['Price'].mean().reset_index()\n",
    "barrio_precios.columns = ['Neighbourhood', 'Avg_Price']\n",
    "\n",
    "# Encontrar el número óptimo de clusters usando el método de codo\n",
    "wcss = []  # Within-cluster sum of squares\n",
    "K_range = range(1, 10)  # Probamos entre 1 y 10 clusters\n",
    "for k in K_range:\n",
    "    kmeans = KMeans(n_clusters=k, random_state=42, n_init=10)\n",
    "    kmeans.fit(barrio_precios[['Avg_Price']])\n",
    "    wcss.append(kmeans.inertia_)\n",
    "\n",
    "# Graficar el método del codo\n",
    "plt.plot(K_range, wcss, marker='o')\n",
    "plt.xlabel('Número de clusters')\n",
    "plt.ylabel('WCSS')\n",
    "plt.title('Método del Codo para elegir K')\n",
    "plt.show()"
   ]
  },
  {
   "cell_type": "code",
   "execution_count": 82,
   "metadata": {},
   "outputs": [],
   "source": [
    "# Asignar cada barrio a un grupo óptimo de precios\n",
    "optimal_k = 3  # Elegimos el número adecuado según la gráfica\n",
    "kmeans = KMeans(n_clusters=optimal_k, random_state=42, n_init=10)\n",
    "barrio_precios['Price_Category'] = kmeans.fit_predict(barrio_precios[['Avg_Price']])"
   ]
  },
  {
   "cell_type": "markdown",
   "metadata": {},
   "source": [
    "En el proceso me encuentro NAN y decido eliminar las filas"
   ]
  },
  {
   "cell_type": "code",
   "execution_count": 83,
   "metadata": {},
   "outputs": [],
   "source": [
    "# Mapear los clusters a etiquetas más interpretables con 4 grupos\n",
    "quantiles = barrio_precios['Price_Category'].quantile([0.25, 0.50, 0.75])\n",
    "\n",
    "mapping = {\n",
    "    barrio_precios['Price_Category'].min(): 'Barato',\n",
    "    barrio_precios['Price_Category'].median(): 'Precio Medio',\n",
    "    barrio_precios['Price_Category'].max(): 'caro'\n",
    "}\n",
    "barrio_precios['Price_Category'] = barrio_precios['Price_Category'].map(mapping)\n",
    "barrio_precios = barrio_precios.dropna(subset=['Price_Category'])"
   ]
  },
  {
   "cell_type": "code",
   "execution_count": 84,
   "metadata": {},
   "outputs": [],
   "source": [
    "df_madrid = df_madrid.merge(barrio_precios[['Neighbourhood', 'Price_Category']], left_on='Neighbourhood Cleansed', right_on='Neighbourhood', how='left')\n"
   ]
  },
  {
   "cell_type": "code",
   "execution_count": 85,
   "metadata": {},
   "outputs": [
    {
     "data": {
      "text/plain": [
       "Price_Category\n",
       "caro            5303\n",
       "Barato          3922\n",
       "Precio Medio    1348\n",
       "Name: count, dtype: int64"
      ]
     },
     "execution_count": 85,
     "metadata": {},
     "output_type": "execute_result"
    }
   ],
   "source": [
    "df_madrid[\"Price_Category\"].value_counts()"
   ]
  },
  {
   "cell_type": "markdown",
   "metadata": {},
   "source": [
    "Para preservar el orden de una variable ordinal, se debe codificarla de tal manera que los valores asignados reflejen el orden de las categorías, manteniendo la secuencia lógica entre ellas."
   ]
  },
  {
   "cell_type": "code",
   "execution_count": 86,
   "metadata": {},
   "outputs": [],
   "source": [
    "# Crear un diccionario para mapear las categorías a números\n",
    "ordinal_mapping = {\n",
    "    \"caro\": 2,\n",
    "    \"Precio Medio\": 1\n",
    "}\n",
    "\n",
    "# Aplicar el mapeo\n",
    "df_madrid['Price Level'] = df_madrid['Price_Category'].map(ordinal_mapping)"
   ]
  },
  {
   "cell_type": "code",
   "execution_count": 87,
   "metadata": {},
   "outputs": [
    {
     "data": {
      "text/plain": [
       "Price Level\n",
       "2.0    5303\n",
       "1.0    1348\n",
       "Name: count, dtype: int64"
      ]
     },
     "execution_count": 87,
     "metadata": {},
     "output_type": "execute_result"
    }
   ],
   "source": [
    "df_madrid['Price Level'].value_counts()"
   ]
  },
  {
   "cell_type": "code",
   "execution_count": 88,
   "metadata": {},
   "outputs": [],
   "source": [
    "df_madrid.drop(columns = ['Neighbourhood Cleansed','Neighbourhood','Price_Category'], inplace = True)"
   ]
  },
  {
   "cell_type": "markdown",
   "metadata": {},
   "source": [
    "### Property Type"
   ]
  },
  {
   "cell_type": "code",
   "execution_count": 89,
   "metadata": {},
   "outputs": [
    {
     "data": {
      "text/plain": [
       "Property Type\n",
       "Apartment             8715\n",
       "House                  781\n",
       "Bed & Breakfast        286\n",
       "Condominium            267\n",
       "Loft                   212\n",
       "Other                  171\n",
       "Dorm                    38\n",
       "Guesthouse              31\n",
       "Chalet                  19\n",
       "Hostel                  13\n",
       "Serviced apartment      11\n",
       "Townhouse                6\n",
       "Boutique hotel           6\n",
       "Earth House              3\n",
       "Villa                    3\n",
       "Guest suite              3\n",
       "Camper/RV                2\n",
       "Casa particular          2\n",
       "Timeshare                1\n",
       "Boat                     1\n",
       "Bungalow                 1\n",
       "Tent                     1\n",
       "Name: count, dtype: int64"
      ]
     },
     "execution_count": 89,
     "metadata": {},
     "output_type": "execute_result"
    }
   ],
   "source": [
    "df_madrid[\"Property Type\"].value_counts()"
   ]
  },
  {
   "cell_type": "markdown",
   "metadata": {},
   "source": [
    "He agrupado los tipos de propiedades de la columna ‘Property Type’ en categorías más generales como ‘Apartamentos’, ‘Casas’, ‘Alojamientos compartidos’, etc., mediante un diccionario. Luego, he asignado cada propiedad a su respectivo grupo usando una función personalizada. Finalmente, he convertido estos grupos en variables dummy, lo que permite representar de manera binaria la pertenencia de cada propiedad a un grupo determinado. De este modo consigo simplificar las categorias iniciales y mitigar los problemas que se derivan del hecho de que muchas de las categorias principales eran muy poco frecuentes como problemas de sesgo, problemas de representatividad, menor capacidad de generalizar del modelo, overfitting...."
   ]
  },
  {
   "cell_type": "code",
   "execution_count": 90,
   "metadata": {},
   "outputs": [],
   "source": [
    "agrupaciones = {\n",
    "    'Apartamentos': ['Apartment', 'Condominium', 'Loft', 'Serviced apartment'],\n",
    "    'Casas': ['House', 'Villa', 'Townhouse', 'Earth House', 'Bungalow', 'Chalet', 'Guest suite', 'Casa particular'],\n",
    "    'Alojamientos compartidos': ['Bed & Breakfast', 'Hostel', 'Dorm', 'Guesthouse', 'Boutique hotel'],\n",
    "    'Alojamientos poco convencionales': ['Camper/RV', 'Boat', 'Tent', 'Timeshare', 'Other']\n",
    "}\n",
    "\n",
    "# Función para asignar grupo\n",
    "def asignar_grupo(propiedad):\n",
    "    for grupo, tipos in agrupaciones.items():\n",
    "        if propiedad in tipos:\n",
    "            return grupo\n",
    "    return 'Otros'  # Si no encuentra coincidencia\n",
    "\n",
    "# Aplicar la función\n",
    "df_madrid['Property Type Group'] = df_madrid['Property Type'].apply(asignar_grupo)\n",
    "\n",
    "# Convertir a variables dummy\n",
    "df_madrid = pd.get_dummies(df_madrid, columns=['Property Type Group'], drop_first=True)"
   ]
  },
  {
   "cell_type": "code",
   "execution_count": 91,
   "metadata": {},
   "outputs": [],
   "source": [
    "df_madrid.drop(columns = ['Property Type'], inplace = True)"
   ]
  },
  {
   "cell_type": "markdown",
   "metadata": {},
   "source": [
    "### Room Type"
   ]
  },
  {
   "cell_type": "code",
   "execution_count": 92,
   "metadata": {},
   "outputs": [
    {
     "data": {
      "text/plain": [
       "Room Type\n",
       "Entire home/apt    6331\n",
       "Private room       4085\n",
       "Shared room         157\n",
       "Name: count, dtype: int64"
      ]
     },
     "execution_count": 92,
     "metadata": {},
     "output_type": "execute_result"
    }
   ],
   "source": [
    "df_madrid[\"Room Type\"].value_counts()"
   ]
  },
  {
   "cell_type": "markdown",
   "metadata": {},
   "source": [
    "Dado que ‘Room Type’ es una variable categórica nominal con tres niveles, y no presenta un orden implícito, es conveniente aplicar One-Hot Encoding para transformar esta variable en variables binarias. Esta técnica permite representar cada categoría de forma independiente, evitando cualquier relación jerárquica errónea que podría surgir si se utilizara codificación numérica."
   ]
  },
  {
   "cell_type": "code",
   "execution_count": 93,
   "metadata": {},
   "outputs": [],
   "source": [
    "# Aplicar One-Hot Encoding a la columna 'Room Type'\n",
    "room_type_dummies = pd.get_dummies(df_madrid['Room Type'], prefix='Room Type')\n",
    "\n",
    "# Concatenar las columnas de One-Hot Encoding al DataFrame original (opcional)\n",
    "df_madrid = pd.concat([df_madrid, room_type_dummies], axis=1)\n"
   ]
  },
  {
   "cell_type": "code",
   "execution_count": 94,
   "metadata": {},
   "outputs": [],
   "source": [
    "df_madrid.drop(columns = ['Room Type'], inplace = True)"
   ]
  },
  {
   "cell_type": "markdown",
   "metadata": {},
   "source": [
    "### Accommodates"
   ]
  },
  {
   "cell_type": "code",
   "execution_count": 95,
   "metadata": {},
   "outputs": [
    {
     "data": {
      "text/plain": [
       "Accommodates\n",
       "1     1544\n",
       "2     3774\n",
       "3     1053\n",
       "4     2374\n",
       "5      500\n",
       "6      810\n",
       "7      136\n",
       "8      191\n",
       "9       39\n",
       "10      71\n",
       "11      13\n",
       "12      29\n",
       "13       1\n",
       "14       9\n",
       "15       1\n",
       "16      28\n",
       "Name: count, dtype: int64"
      ]
     },
     "execution_count": 95,
     "metadata": {},
     "output_type": "execute_result"
    }
   ],
   "source": [
    "df_madrid[\"Accommodates\"].value_counts().sort_index()"
   ]
  },
  {
   "cell_type": "markdown",
   "metadata": {},
   "source": [
    "Primero decido realizar un análisis de rango intercuartilico para identificar los outliers en la variable **Accommodates**."
   ]
  },
  {
   "cell_type": "code",
   "execution_count": 96,
   "metadata": {},
   "outputs": [
    {
     "name": "stdout",
     "output_type": "stream",
     "text": [
      "count    10573.000000\n",
      "mean         3.191242\n",
      "std          2.000457\n",
      "min          1.000000\n",
      "25%          2.000000\n",
      "50%          2.000000\n",
      "75%          4.000000\n",
      "max         16.000000\n",
      "Name: Accommodates, dtype: float64\n",
      "Outliers identificados por IQR: 382\n"
     ]
    }
   ],
   "source": [
    "print(df_madrid['Accommodates'].describe())\n",
    "\n",
    "# Paso 2: Análisis con IQR\n",
    "Q1 = df_madrid['Accommodates'].quantile(0.25)\n",
    "Q3 = df_madrid['Accommodates'].quantile(0.75)\n",
    "IQR = Q3 - Q1\n",
    "\n",
    "upper_limit = Q3 + 1.5 * IQR\n",
    "\n",
    "outliers_iqr = df_madrid[(df_madrid['Accommodates'] > upper_limit)]\n",
    "\n",
    "print(f\"Outliers identificados por IQR: {outliers_iqr.shape[0]}\")"
   ]
  },
  {
   "cell_type": "markdown",
   "metadata": {},
   "source": [
    "Posteriormente, y teniendo en cuenta el análisis IQR, agruparé los datos en tres grupos: ‘Bajo’, ‘Medio’ y ‘Alto’. Este enfoque me permite manejar los valores atípicos sin necesidad de eliminarlos, preservando así toda la información relevante. Los valores que se encuentren dentro del rango intercuartílico serán clasificados como ‘Bajo’ o ‘Medio’, mientras que los valores por encima del límite superior del IQR se asignarán al grupo ‘Alto’. De esta manera, los outliers no distorsionan el análisis, pero aún se incluyen de forma separada para que no afecten la interpretación de los datos principales."
   ]
  },
  {
   "cell_type": "code",
   "execution_count": 97,
   "metadata": {},
   "outputs": [],
   "source": [
    "df_madrid['Accommodates Category'] = pd.cut(df_madrid['Accommodates'],\n",
    "                                             bins=[0, 4, 7, float('inf')],\n",
    "                                             labels=['Bajo', 'Medio', 'Alto'],\n",
    "                                             right=False)"
   ]
  },
  {
   "cell_type": "markdown",
   "metadata": {},
   "source": [
    "Al tratar la variable como categórica nominal, aplicaremos One-Hot Encoding para convertirla en variables dummy."
   ]
  },
  {
   "cell_type": "code",
   "execution_count": 98,
   "metadata": {},
   "outputs": [],
   "source": [
    "df_madrid = pd.get_dummies(df_madrid, columns=['Accommodates Category'], drop_first=True)"
   ]
  },
  {
   "cell_type": "code",
   "execution_count": 99,
   "metadata": {},
   "outputs": [],
   "source": [
    "df_madrid.drop(columns = ['Accommodates'], inplace = True)"
   ]
  },
  {
   "cell_type": "markdown",
   "metadata": {},
   "source": [
    "### Bathrooms"
   ]
  },
  {
   "cell_type": "markdown",
   "metadata": {},
   "source": []
  },
  {
   "cell_type": "code",
   "execution_count": 100,
   "metadata": {},
   "outputs": [
    {
     "data": {
      "text/plain": [
       "Bathrooms\n",
       "0.0      48\n",
       "0.5      50\n",
       "1.0    8034\n",
       "1.5     377\n",
       "2.0    1627\n",
       "2.5      70\n",
       "3.0     194\n",
       "3.5      12\n",
       "4.0      32\n",
       "4.5      19\n",
       "5.0      38\n",
       "5.5       3\n",
       "6.0      20\n",
       "6.5       1\n",
       "7.0       1\n",
       "8.0       2\n",
       "Name: count, dtype: int64"
      ]
     },
     "execution_count": 100,
     "metadata": {},
     "output_type": "execute_result"
    }
   ],
   "source": [
    "df_madrid[\"Bathrooms\"].value_counts().sort_index()"
   ]
  },
  {
   "cell_type": "markdown",
   "metadata": {},
   "source": [
    "Primero decido realizar un análisis de rango intercuartilico para identificar los outliers en la variable **Bathrooms**."
   ]
  },
  {
   "cell_type": "code",
   "execution_count": 101,
   "metadata": {},
   "outputs": [
    {
     "name": "stdout",
     "output_type": "stream",
     "text": [
      "count    10528.000000\n",
      "mean         1.258264\n",
      "std          0.611919\n",
      "min          0.000000\n",
      "25%          1.000000\n",
      "50%          1.000000\n",
      "75%          1.000000\n",
      "max          8.000000\n",
      "Name: Bathrooms, dtype: float64\n",
      "1.0\n",
      "Outliers identificados por IQR: 2396\n"
     ]
    }
   ],
   "source": [
    "print(df_madrid['Bathrooms'].describe())\n",
    "\n",
    "# Paso 2: Análisis con IQR\n",
    "Q1 = df_madrid['Bathrooms'].quantile(0.25)\n",
    "Q3 = df_madrid['Bathrooms'].quantile(0.75)\n",
    "IQR = Q3 - Q1\n",
    "\n",
    "upper_limit = Q3 + 1.5 * IQR\n",
    "\n",
    "outliers_iqr = df_madrid[(df_madrid['Bathrooms'] > upper_limit)]\n",
    "print(upper_limit)\n",
    "print(f\"Outliers identificados por IQR: {outliers_iqr.shape[0]}\")"
   ]
  },
  {
   "cell_type": "markdown",
   "metadata": {},
   "source": [
    "Si la mayoría de los datos están muy concentrados alrededor de 1.0 (como parece ser el caso), un análisis basado en IQR puede no ser el más adecuado. agruparé los datos en tres grupos: ‘Bajo’, ‘Medio’ y ‘Alto’. Este enfoque me permite manejar los valores atípicos sin necesidad de eliminarlos, preservando así toda la información relevante. Los valores que se encuentren dentro del rango intercuartílico serán clasificados como ‘Bajo’ o ‘Medio’, mientras que los valores por encima del límite superior del IQR se asignarán al grupo ‘Alto’. De esta manera, los outliers no distorsionan el análisis, pero aún se incluyen de forma separada para que no afecten la interpretación de los datos principales."
   ]
  },
  {
   "cell_type": "markdown",
   "metadata": {},
   "source": [
    "Posteriormente, y teniendo en cuenta el análisis IQR, agruparé los datos en tres grupos: ‘Bajo’, ‘Medio’ y ‘Alto’. Este enfoque me permite manejar los valores atípicos sin necesidad de eliminarlos, preservando así toda la información relevante. Los valores que se encuentren dentro del rango intercuartílico serán clasificados como ‘Bajo’ o ‘Medio’, mientras que los valores por encima del límite superior del IQR se asignarán al grupo ‘Alto’. De esta manera, los outliers no distorsionan el análisis, pero aún se incluyen de forma separada para que no afecten la interpretación de los datos principales."
   ]
  },
  {
   "cell_type": "code",
   "execution_count": 102,
   "metadata": {},
   "outputs": [],
   "source": [
    "df_madrid['N Bathrooms'] = pd.cut(df_madrid['Bathrooms'],\n",
    "                                             bins=[0, 1, 2, 4, float('inf')],\n",
    "                                             labels=['Bajo', 'Medio', 'Alto', 'Muy elevado'],\n",
    "                                             right=False)"
   ]
  },
  {
   "cell_type": "code",
   "execution_count": 103,
   "metadata": {},
   "outputs": [
    {
     "data": {
      "text/plain": [
       "N Bathrooms\n",
       "Medio          8411\n",
       "Alto           1903\n",
       "Muy elevado     116\n",
       "Bajo             98\n",
       "Name: count, dtype: int64"
      ]
     },
     "execution_count": 103,
     "metadata": {},
     "output_type": "execute_result"
    }
   ],
   "source": [
    "df_madrid[\"N Bathrooms\"].value_counts()"
   ]
  },
  {
   "cell_type": "markdown",
   "metadata": {},
   "source": [
    "Es tentador eliminar los outliers que representan observaciones con menos de 1 baño, pero estas corresponden a casos en los que se comparte una habitación, lo cual es una práctica válida en el contexto de Airbnb. Por lo tanto, opto por mantenerlas. De manera similar, aunque los alojamientos con más de 4 baños pueden considerarse outliers, eliminarlos podría ser un error, ya que generalmente representan propiedades grandes que, aunque poco comunes, forman parte del mercado de Airbnb en Madrid. Por esta razón, prefiero no eliminarlas."
   ]
  },
  {
   "cell_type": "markdown",
   "metadata": {},
   "source": [
    "Al tratar la variable como categórica nominal, aplicaremos One-Hot Encoding para convertirla en variables dummy."
   ]
  },
  {
   "cell_type": "code",
   "execution_count": 104,
   "metadata": {},
   "outputs": [],
   "source": [
    "df_madrid = pd.get_dummies(df_madrid, columns=['N Bathrooms'], drop_first= True)"
   ]
  },
  {
   "cell_type": "code",
   "execution_count": 105,
   "metadata": {},
   "outputs": [],
   "source": [
    "df_madrid.drop(columns = ['Bathrooms'], inplace = True)"
   ]
  },
  {
   "cell_type": "markdown",
   "metadata": {},
   "source": [
    "### Bedrooms"
   ]
  },
  {
   "cell_type": "code",
   "execution_count": 106,
   "metadata": {},
   "outputs": [
    {
     "data": {
      "text/plain": [
       "Bedrooms\n",
       "0.0      733\n",
       "1.0     7136\n",
       "2.0     1877\n",
       "3.0      583\n",
       "4.0      148\n",
       "5.0       49\n",
       "6.0       12\n",
       "7.0        5\n",
       "8.0        4\n",
       "10.0       5\n",
       "Name: count, dtype: int64"
      ]
     },
     "execution_count": 106,
     "metadata": {},
     "output_type": "execute_result"
    }
   ],
   "source": [
    "df_madrid[\"Bedrooms\"].value_counts().sort_index()"
   ]
  },
  {
   "cell_type": "markdown",
   "metadata": {},
   "source": [
    "Primero decido realizar un análisis de rango intercuartilico para identificar los outliers en la variable **Bedrooms**."
   ]
  },
  {
   "cell_type": "code",
   "execution_count": 107,
   "metadata": {},
   "outputs": [
    {
     "name": "stdout",
     "output_type": "stream",
     "text": [
      "count    10552.000000\n",
      "mean         1.295015\n",
      "std          0.827257\n",
      "min          0.000000\n",
      "25%          1.000000\n",
      "50%          1.000000\n",
      "75%          2.000000\n",
      "max         10.000000\n",
      "Name: Bedrooms, dtype: float64\n",
      "3.5\n",
      "Outliers identificados por IQR: 223\n"
     ]
    }
   ],
   "source": [
    "print(df_madrid['Bedrooms'].describe())\n",
    "\n",
    "# Paso 2: Análisis con IQR\n",
    "Q1 = df_madrid['Bedrooms'].quantile(0.25)\n",
    "Q3 = df_madrid['Bedrooms'].quantile(0.75)\n",
    "IQR = Q3 - Q1\n",
    "\n",
    "upper_limit = Q3 + 1.5 * IQR\n",
    "\n",
    "outliers_iqr = df_madrid[(df_madrid['Bedrooms'] > upper_limit)]\n",
    "print(upper_limit)\n",
    "print(f\"Outliers identificados por IQR: {outliers_iqr.shape[0]}\")"
   ]
  },
  {
   "cell_type": "markdown",
   "metadata": {},
   "source": [
    "Posteriormente, y teniendo en cuenta el análisis IQR, agruparé los datos en tres grupos: ‘Bajo’, ‘Medio’, ‘Alto’ y 'Muy elevado. Este enfoque me permite manejar los valores atípicos sin necesidad de eliminarlos, preservando así toda la información relevante. Los valores que se encuentren dentro del rango intercuartílico serán clasificados como ‘Bajo’ o ‘Medio’, mientras que los valores por encima del límite superior del IQR se asignarán al grupo ‘Alto’. De esta manera, los outliers no distorsionan el análisis, pero aún se incluyen de forma separada para que no afecten la interpretación de los datos principales."
   ]
  },
  {
   "cell_type": "code",
   "execution_count": 108,
   "metadata": {},
   "outputs": [],
   "source": [
    "df_madrid['N Bedrooms'] = pd.cut(df_madrid['Bedrooms'],\n",
    "                                             bins=[0, 1, 3, 4, float('inf')],\n",
    "                                             labels=['Bajo', 'Medio', 'Alto', 'Muy elevado'],\n",
    "                                             right=False)"
   ]
  },
  {
   "cell_type": "code",
   "execution_count": 109,
   "metadata": {},
   "outputs": [
    {
     "data": {
      "text/plain": [
       "N Bedrooms\n",
       "Medio          9013\n",
       "Bajo            733\n",
       "Alto            583\n",
       "Muy elevado     223\n",
       "Name: count, dtype: int64"
      ]
     },
     "execution_count": 109,
     "metadata": {},
     "output_type": "execute_result"
    }
   ],
   "source": [
    "df_madrid[\"N Bedrooms\"].value_counts()"
   ]
  },
  {
   "cell_type": "markdown",
   "metadata": {},
   "source": [
    "Es tentador eliminar los outliers que representan observaciones con menos de 1 habitación , pero estas corresponden a casos en los que se comparte una tienda de campaña, sofa futon... que queda en el epigrafe otros, lo cual es una práctica válida en el contexto de Airbnb. Por lo tanto, opto por mantenerlas. De manera similar, aunque los alojamientos con más de 4 habitaciones pueden considerarse outliers, eliminarlos podría ser un error, ya que generalmente representan propiedades grandes que, aunque poco comunes, forman parte del mercado de Airbnb en Madrid. Por esta razón, prefiero no eliminarlas."
   ]
  },
  {
   "cell_type": "code",
   "execution_count": 110,
   "metadata": {},
   "outputs": [],
   "source": [
    "ordinal_mapping = {\n",
    "    \"Bajo\": 0,\n",
    "    \"Medio\": 1,\n",
    "    \"Alto\": 2,\n",
    "    \"Muy elevado\": 3\n",
    "}\n",
    "\n",
    "df_madrid['N_Bedrooms_Ordinal'] = df_madrid['N Bedrooms'].map(ordinal_mapping)"
   ]
  },
  {
   "cell_type": "code",
   "execution_count": 111,
   "metadata": {},
   "outputs": [],
   "source": [
    "df_madrid.drop(columns = ['N Bedrooms'], inplace = True)"
   ]
  },
  {
   "cell_type": "markdown",
   "metadata": {},
   "source": [
    "### Relación Bedrooms-Beds"
   ]
  },
  {
   "cell_type": "markdown",
   "metadata": {},
   "source": [
    "En lugar de emplear directamente la variable **Beds** decido crear una nueva variable **Relación Bedrooms-Beds** que mida la relación entre dormitorios y camas, ya que es crucial para reflejar la capacidad real del alojamiento.  \n",
    "\n",
    "La relación sería:\n",
    "\n",
    "$$\n",
    "\\text{Beds per Bedroom} = \\frac{\\text{Beds}}{\\text{Bedrooms}}\n",
    "$$\n",
    "\n",
    "Esta proporción puede indicar si los dormitorios están optimizados para grupos grandes o pequeños."
   ]
  },
  {
   "cell_type": "code",
   "execution_count": 112,
   "metadata": {},
   "outputs": [],
   "source": [
    "df_madrid['beds_per_bedroom'] = df_madrid['Beds'] / df_madrid['Bedrooms']"
   ]
  },
  {
   "cell_type": "code",
   "execution_count": 113,
   "metadata": {},
   "outputs": [
    {
     "data": {
      "text/plain": [
       "beds_per_bedroom\n",
       "0.200000        1\n",
       "0.250000        4\n",
       "0.333333        3\n",
       "0.500000       41\n",
       "0.666667        9\n",
       "0.750000        2\n",
       "1.000000     5687\n",
       "1.200000        7\n",
       "1.250000       28\n",
       "1.285714        1\n",
       "1.333333      188\n",
       "1.400000        4\n",
       "1.500000      753\n",
       "1.600000       15\n",
       "1.625000        1\n",
       "1.666667      130\n",
       "1.750000       18\n",
       "1.800000        5\n",
       "2.000000     2292\n",
       "2.142857        2\n",
       "2.200000        1\n",
       "2.250000        5\n",
       "2.285714        1\n",
       "2.333333       17\n",
       "2.400000        1\n",
       "2.500000       66\n",
       "2.600000        1\n",
       "2.666667       11\n",
       "2.750000        2\n",
       "2.800000        1\n",
       "3.000000      296\n",
       "3.200000        2\n",
       "3.333333        4\n",
       "3.500000        6\n",
       "4.000000       95\n",
       "4.500000        1\n",
       "4.666667        1\n",
       "5.000000       16\n",
       "6.000000        9\n",
       "7.000000        9\n",
       "8.000000       22\n",
       "10.000000      24\n",
       "12.000000       1\n",
       "14.000000       1\n",
       "16.000000       3\n",
       "inf           733\n",
       "Name: count, dtype: int64"
      ]
     },
     "execution_count": 113,
     "metadata": {},
     "output_type": "execute_result"
    }
   ],
   "source": [
    "df_madrid[\"beds_per_bedroom\"].value_counts().sort_index()"
   ]
  },
  {
   "cell_type": "code",
   "execution_count": 114,
   "metadata": {},
   "outputs": [],
   "source": [
    "bins = [0, 1.5, 2.5, 5.0, float('inf')]\n",
    "labels = ['Bajo', 'Medio', 'Alto', 'Muy elevado']\n",
    "\n",
    "# Agrupar la variable \"beds_per_bedroom\"\n",
    "df_madrid['Beds per Bedroom Group'] = pd.cut(df_madrid['beds_per_bedroom'], bins=bins, labels=labels, right=False)"
   ]
  },
  {
   "cell_type": "code",
   "execution_count": 115,
   "metadata": {},
   "outputs": [
    {
     "data": {
      "text/plain": [
       "Beds per Bedroom Group\n",
       "Bajo           5975\n",
       "Medio          3241\n",
       "Alto            486\n",
       "Muy elevado      85\n",
       "Name: count, dtype: int64"
      ]
     },
     "execution_count": 115,
     "metadata": {},
     "output_type": "execute_result"
    }
   ],
   "source": [
    "df_madrid['Beds per Bedroom Group'].value_counts()"
   ]
  },
  {
   "cell_type": "markdown",
   "metadata": {},
   "source": [
    "No creo que la proporción de camas por dormitorio tenga una relación de orden consistente en términos de “mejor” o “peor” (y más bien depende del tipo de alojamiento o preferencia personal), voy a tratarla como categórica nominal."
   ]
  },
  {
   "cell_type": "code",
   "execution_count": 116,
   "metadata": {},
   "outputs": [],
   "source": [
    "ordinal_mapping = {\n",
    "    \"Bajo\": 0,\n",
    "    \"Medio\": 1,\n",
    "    \"Alto\": 2,\n",
    "    \"Muy elevado\": 3\n",
    "}\n",
    "\n",
    "df_madrid['Beds per Bedrooms'] = df_madrid['Beds per Bedroom Group'].map(ordinal_mapping)"
   ]
  },
  {
   "cell_type": "code",
   "execution_count": 117,
   "metadata": {},
   "outputs": [],
   "source": [
    "df_madrid.drop(columns = ['Bedrooms', 'Beds', 'Beds per Bedroom Group', 'beds_per_bedroom'], inplace = True)"
   ]
  },
  {
   "cell_type": "markdown",
   "metadata": {},
   "source": [
    "### Bed Type"
   ]
  },
  {
   "cell_type": "code",
   "execution_count": 118,
   "metadata": {},
   "outputs": [
    {
     "data": {
      "text/plain": [
       "Bed Type\n",
       "Real Bed         10336\n",
       "Pull-out Sofa      192\n",
       "Futon               26\n",
       "Couch               14\n",
       "Airbed               5\n",
       "Name: count, dtype: int64"
      ]
     },
     "execution_count": 118,
     "metadata": {},
     "output_type": "execute_result"
    }
   ],
   "source": [
    "df_madrid[\"Bed Type\"].value_counts()"
   ]
  },
  {
   "cell_type": "markdown",
   "metadata": {},
   "source": [
    "Voy a diferenciar entre \"Real Bed\" y \"Otro\" (que incluye sofás cama,colchones, hinchables, etc.)"
   ]
  },
  {
   "cell_type": "code",
   "execution_count": 119,
   "metadata": {},
   "outputs": [],
   "source": [
    "df_madrid['Real_Bed'] = madrid_df['Bed Type'].apply(lambda x: 'Real Bed' if x == 'Real Bed' else 'Other')"
   ]
  },
  {
   "cell_type": "code",
   "execution_count": 120,
   "metadata": {},
   "outputs": [
    {
     "data": {
      "text/plain": [
       "Real_Bed\n",
       "Real Bed    9173\n",
       "Other        202\n",
       "Name: count, dtype: int64"
      ]
     },
     "execution_count": 120,
     "metadata": {},
     "output_type": "execute_result"
    }
   ],
   "source": [
    "df_madrid['Real_Bed'].value_counts()"
   ]
  },
  {
   "cell_type": "markdown",
   "metadata": {},
   "source": [
    "Voy a convertir la variable **Real_Bed** en una variable categórica binaria."
   ]
  },
  {
   "cell_type": "code",
   "execution_count": 121,
   "metadata": {},
   "outputs": [],
   "source": [
    "# Crear un diccionario para mapear las categorías a números\n",
    "ordinal_mapping = {\n",
    "    \"Real Bed\": 1,\n",
    "    \"Other\": 0\n",
    "}\n",
    "\n",
    "# Aplicar el mapeo\n",
    "df_madrid['Bed_type'] = df_madrid['Real_Bed'].map(ordinal_mapping)"
   ]
  },
  {
   "cell_type": "code",
   "execution_count": 122,
   "metadata": {},
   "outputs": [
    {
     "data": {
      "text/plain": [
       "Bed_type\n",
       "1.0    9173\n",
       "0.0     202\n",
       "Name: count, dtype: int64"
      ]
     },
     "execution_count": 122,
     "metadata": {},
     "output_type": "execute_result"
    }
   ],
   "source": [
    "df_madrid['Bed_type'].value_counts()"
   ]
  },
  {
   "cell_type": "code",
   "execution_count": 123,
   "metadata": {},
   "outputs": [],
   "source": [
    "df_madrid.drop(columns = ['Bed Type','Real_Bed'], inplace = True)"
   ]
  },
  {
   "cell_type": "markdown",
   "metadata": {},
   "source": [
    "### Amenities"
   ]
  },
  {
   "cell_type": "code",
   "execution_count": 124,
   "metadata": {},
   "outputs": [
    {
     "data": {
      "text/plain": [
       "Amenities\n",
       "TV,Internet,Wireless Internet,Air conditioning,Kitchen,Elevator in building,Buzzer/wireless intercom,Heating,Family/kid friendly,Washer,Essentials,Hangers,Hair dryer,Iron,Laptop friendly workspace                             33\n",
       "TV,Wireless Internet,Air conditioning,Kitchen,Elevator in building,Heating,Family/kid friendly,Washer,Dryer,Essentials,Shampoo,Hangers,Hair dryer,Iron                                                                           29\n",
       "translation missing: en.hosting_amenity_49,translation missing: en.hosting_amenity_50                                                                                                                                            23\n",
       "Wireless Internet,Heating,Fire extinguisher,Lock on bedroom door,translation missing: en.hosting_amenity_49,translation missing: en.hosting_amenity_50                                                                           21\n",
       "TV,Internet,Wireless Internet,Air conditioning,Kitchen,Elevator in building,Buzzer/wireless intercom,Heating,Family/kid friendly,Washer,Essentials,Shampoo,24-hour check-in,Hangers,Hair dryer,Iron,Laptop friendly workspace    20\n",
       "                                                                                                                                                                                                                                 ..\n",
       "TV,Wireless Internet,Air conditioning,Kitchen,Smoking allowed,Elevator in building,Heating,Family/kid friendly,Washer,Essentials,Shampoo,Hangers,Laptop friendly workspace                                                        1\n",
       "TV,Internet,Wireless Internet,Kitchen,Elevator in building,Buzzer/wireless intercom,Heating,Washer,Essentials,Shampoo,24-hour check-in,Hangers,Hair dryer,Iron,Laptop friendly workspace                                          1\n",
       "TV,Wireless Internet,Air conditioning,Kitchen,Heating,Washer,translation missing: en.hosting_amenity_49,translation missing: en.hosting_amenity_50                                                                                1\n",
       "TV,Internet,Wireless Internet,Air conditioning,Kitchen,Heating,Family/kid friendly,Washer,Essentials,Hangers,Hair dryer,Laptop friendly workspace,translation missing: en.hosting_amenity_50                                      1\n",
       "TV,Internet,Wireless Internet,Pool,Kitchen,Free parking on premises,Elevator in building,Heating,Family/kid friendly,Washer,Essentials,24-hour check-in,Hangers,Iron,Laptop friendly workspace                                    1\n",
       "Name: count, Length: 9042, dtype: int64"
      ]
     },
     "execution_count": 124,
     "metadata": {},
     "output_type": "execute_result"
    }
   ],
   "source": [
    "df_madrid[\"Amenities\"].value_counts()"
   ]
  },
  {
   "cell_type": "markdown",
   "metadata": {},
   "source": [
    "Primero creamos un diccionario con los amanities unicos recogidos en las combinaciones de cada una de las observaciones y asignamos una puntuación de importancia entre 0 y 10 a cada uno de los a,menities en base a la utilidad percibida.    \n",
    "\n",
    "Luego, para cada observación en el conjunto de datos, tomamos la suma de las puntuaciones de los  amenities presentes en esa combinación.   \n",
    "\n",
    "Posteriormente, clasificamos la utilidad / satisfaccion aportada por los amenities en tres categorías: Alta utilidad (puntuaciones entre 8 y 10), Utilidad media (puntuaciones entre 5 y 7) y Baja utilidad (puntuaciones entre 0 y 4).  \n",
    "\n",
    "Posteriormente esta clasificación se añade como una nueva variable que refleja utilidad / satisfaccion asociado a cada observación, permitiendo utilizarla en modelos de predicción o análisis.  \n",
    "\n",
    "Por último, y dado que la variable es categórica ordinal la codificamos teninedolo en cuenta."
   ]
  },
  {
   "cell_type": "code",
   "execution_count": 125,
   "metadata": {},
   "outputs": [],
   "source": [
    "# Paso 1: Extraer todas las características únicas\n",
    "Amenities = madrid_df['Amenities'].fillna('').apply(lambda x: x.split(','))\n",
    "# Paso 2: Aplanar todas las listas en una sola lista\n",
    "flattened_features = [item for sublist in Amenities for item in sublist]\n",
    "# Paso 3: Obtener características únicas\n",
    "Amenities = list(set(flattened_features))"
   ]
  },
  {
   "cell_type": "code",
   "execution_count": 126,
   "metadata": {},
   "outputs": [
    {
     "name": "stdout",
     "output_type": "stream",
     "text": [
      "['', 'Other pet(s)', 'Private living room', 'Laptop friendly workspace', 'Lockbox', 'Pack ’n Play/travel crib', 'Cable TV', 'Wheelchair accessible', 'Baby bath', 'Safety card', 'Carbon monoxide detector', 'Lock on bedroom door', 'Smoking allowed', 'Cat(s)', 'Indoor fireplace', 'translation missing: en.hosting_amenity_49', 'Hot tub', 'Paid parking off premises', 'Heating', 'Pets allowed', 'Room-darkening shades', 'Washer', 'Free parking on premises', 'Smartlock', 'Kitchen', 'Essentials', 'Family/kid friendly', 'Game console', 'Doorman', 'Private entrance', 'Doorman Entry', 'Keypad', 'Babysitter recommendations', 'translation missing: en.hosting_amenity_50', 'Shampoo', 'Dog(s)', 'Suitable for events', 'Hair dryer', 'Hangers', 'Table corner guards', 'Elevator in building', 'Pets live on this property', 'First aid kit', 'Air conditioning', 'Window guards', 'Fire extinguisher', 'Crib', 'Internet', 'Smoke detector', 'Outlet covers', 'Wireless Internet', 'TV', '24-hour check-in', 'Breakfast', 'Children’s dinnerware', 'Changing table', 'Dryer', 'Children’s books and toys', 'Bathtub', 'Gym', 'Self Check-In', 'Washer / Dryer', 'Buzzer/wireless intercom', 'Pool', 'Stair gates', 'High chair', 'Iron', 'Free parking on street']\n"
     ]
    }
   ],
   "source": [
    "print(Amenities)"
   ]
  },
  {
   "cell_type": "code",
   "execution_count": 127,
   "metadata": {},
   "outputs": [],
   "source": [
    "amenities_dict = {\n",
    "    'Hair dryer': 7,\n",
    "    'Stair gates': 4,\n",
    "    'Babysitter recommendations': 6,\n",
    "    'translation missing: en.hosting_amenity_49': 2,\n",
    "    '24-hour check-in': 8,\n",
    "    'Pool': 9,\n",
    "    'Safety card': 3,\n",
    "    'Changing table': 5,\n",
    "    'Lockbox': 7,\n",
    "    'Laptop friendly workspace': 8,\n",
    "    \"Children’s dinnerware\": 5,\n",
    "    'Hangers': 6,\n",
    "    'Lock on bedroom door': 6,\n",
    "    'Room-darkening shades': 7,\n",
    "    'Baby bath': 5,\n",
    "    'Private living room': 8,\n",
    "    'Shampoo': 7,\n",
    "    'Kitchen': 10,\n",
    "    'Smoking allowed': 3,\n",
    "    'Smartlock': 7,\n",
    "    'Dog(s)': 6,\n",
    "    'Hot tub': 9,\n",
    "    'Crib': 5,\n",
    "    'Pets allowed': 7,\n",
    "    'Suitable for events': 6,\n",
    "    'High chair': 5,\n",
    "    'Smoke detector': 9,\n",
    "    'Outlet covers': 4,\n",
    "    \"Children’s books and toys\": 4,\n",
    "    'Wireless Internet': 10,\n",
    "    'Air conditioning': 9,\n",
    "    'Wheelchair accessible': 7,\n",
    "    'Window guards': 5,\n",
    "    'Indoor fireplace': 8,\n",
    "    'Breakfast': 7,\n",
    "    'Washer': 8,\n",
    "    'Other pet(s)': 6,\n",
    "    'Heating': 8,\n",
    "    'Free parking on premises': 9,\n",
    "    'Washer / Dryer': 8,\n",
    "    'Essentials': 9,\n",
    "    'Elevator in building': 7,\n",
    "    'Bathtub': 7,\n",
    "    'Game console': 6,\n",
    "    'Pets live on this property': 6,\n",
    "    'Iron': 7,\n",
    "    'Free parking on street': 8,\n",
    "    'First aid kit': 7,\n",
    "    'Keypad': 7,\n",
    "    'Gym': 8,\n",
    "    'Private entrance': 8,\n",
    "    'Self Check-In': 8,\n",
    "    'translation missing: en.hosting_amenity_50': 2,\n",
    "    'Cable TV': 7,\n",
    "    'Carbon monoxide detector': 9,\n",
    "    'TV': 7,\n",
    "    'Doorman Entry': 6,\n",
    "    'Dryer': 8,\n",
    "    'Family/kid friendly': 8,\n",
    "    'Fire extinguisher': 9,\n",
    "    'Cat(s)': 6,\n",
    "    'Table corner guards': 4,\n",
    "    \"Pack ’n Play/travel crib\": 5,\n",
    "    'Buzzer/wireless intercom': 6,\n",
    "    'Doorman': 7,\n",
    "    'Paid parking off premises': 6,\n",
    "    'Internet': 10\n",
    "}"
   ]
  },
  {
   "cell_type": "code",
   "execution_count": 128,
   "metadata": {},
   "outputs": [],
   "source": [
    "def calculate_amenity_utility(row, amenities_dict):\n",
    "    # Verificar si el valor es una cadena y no está vacío\n",
    "    if isinstance(row, str) and row.strip():\n",
    "        # Obtener los amenities presentes en la observación\n",
    "        verifications = row.split(',')\n",
    "        \n",
    "        # Obtener las puntuaciones de utilidad para cada amenitie presente\n",
    "        scores = [amenities_dict.get(verification.strip(), 0) for verification in verifications]\n",
    "        \n",
    "        # sumar las puntuaciones de los distintos amaneities\n",
    "        return sum(scores) if scores else 0\n",
    "    else:\n",
    "        # Si la fila es nula o no es una cadena, asignar 0\n",
    "        return 0\n",
    "\n",
    "# Aplicar la función a la columna 'Amenities'\n",
    "df_madrid['Amenity Utility'] = df_madrid['Amenities'].apply(calculate_amenity_utility, args=(security_dict,))"
   ]
  },
  {
   "cell_type": "code",
   "execution_count": 129,
   "metadata": {},
   "outputs": [],
   "source": [
    "# Calcular los percentiles de la distribución\n",
    "percentiles = df_madrid['Amenity Utility'].value_counts().quantile([0.33, 0.66])\n",
    "\n",
    "# Agrupar según los percentiles\n",
    "def asignar_comodidad(valor):\n",
    "    if valor <= percentiles[0.33]:\n",
    "        return 'Baja comodidad'\n",
    "    elif valor <= percentiles[0.66]:\n",
    "        return 'Comodidad media'\n",
    "    else:\n",
    "        return 'Alta comodidad'\n",
    "\n",
    "# Aplicar la función\n",
    "df_madrid['Comodidad'] = df_madrid['Amenity Utility'].map(lambda x: asignar_comodidad(x))\n"
   ]
  },
  {
   "cell_type": "code",
   "execution_count": 130,
   "metadata": {},
   "outputs": [
    {
     "data": {
      "text/plain": [
       "Comodidad\n",
       "Baja comodidad    10573\n",
       "Name: count, dtype: int64"
      ]
     },
     "execution_count": 130,
     "metadata": {},
     "output_type": "execute_result"
    }
   ],
   "source": [
    "# Ver la distribución resultante\n",
    "df_madrid['Comodidad'].value_counts()"
   ]
  },
  {
   "cell_type": "code",
   "execution_count": 131,
   "metadata": {},
   "outputs": [],
   "source": [
    "# Crear un diccionario para mapear las categorías a números\n",
    "ordinal_mapping = {\n",
    "    \"Alta comodidad\": 2,\n",
    "    \"Comodidad media\": 1,\n",
    "    \"Baja comodidad\": 0\n",
    "}\n",
    "\n",
    "# Aplicar el mapeo\n",
    "df_madrid['comfort Level'] = df_madrid['Comodidad'].map(ordinal_mapping)"
   ]
  },
  {
   "cell_type": "code",
   "execution_count": 132,
   "metadata": {},
   "outputs": [
    {
     "data": {
      "text/plain": [
       "comfort Level\n",
       "0    10573\n",
       "Name: count, dtype: int64"
      ]
     },
     "execution_count": 132,
     "metadata": {},
     "output_type": "execute_result"
    }
   ],
   "source": [
    "df_madrid['comfort Level'].value_counts()"
   ]
  },
  {
   "cell_type": "code",
   "execution_count": 133,
   "metadata": {},
   "outputs": [],
   "source": [
    "df_madrid.drop(columns = ['Amenity Utility','Comodidad','Amenities'], inplace = True)"
   ]
  },
  {
   "cell_type": "markdown",
   "metadata": {},
   "source": [
    "### Weekly Price y Monthly Price"
   ]
  },
  {
   "cell_type": "markdown",
   "metadata": {},
   "source": [
    "Tras analizar las variables disponibles, se ha decidido prescindir de weekly_price y monthly_price en el modelo, dado que ambas presentan una alta correlación con la variable objetivo price, al derivarse directamente de esta (con o sin aplicación de descuentos). Su inclusión podría introducir problemas de multicolinealidad y comprometer la capacidad de generalización del modelo. Además, al estar estrechamente ligadas al valor que se desea predecir, su uso podría suponer una fuga de información que distorsione los resultados del entrenamiento. Por estos motivos, se opta por excluirlas del conjunto de variables predictoras."
   ]
  },
  {
   "cell_type": "code",
   "execution_count": 134,
   "metadata": {},
   "outputs": [],
   "source": [
    "df_madrid.drop(columns=['Weekly Price', 'Monthly Price'], inplace = True)"
   ]
  },
  {
   "cell_type": "markdown",
   "metadata": {},
   "source": [
    "### Security Deposit"
   ]
  },
  {
   "cell_type": "code",
   "execution_count": 135,
   "metadata": {},
   "outputs": [
    {
     "data": {
      "text/plain": [
       "Security Deposit\n",
       "70.0      7\n",
       "75.0      3\n",
       "80.0     21\n",
       "84.0      3\n",
       "85.0     38\n",
       "         ..\n",
       "800.0     6\n",
       "840.0     1\n",
       "850.0     2\n",
       "900.0     6\n",
       "950.0     1\n",
       "Name: count, Length: 94, dtype: int64"
      ]
     },
     "execution_count": 135,
     "metadata": {},
     "output_type": "execute_result"
    }
   ],
   "source": [
    "df_madrid[\"Security Deposit\"].value_counts().sort_index()"
   ]
  },
  {
   "cell_type": "markdown",
   "metadata": {},
   "source": [
    "Atendiendo al Boxplot, se observa que hay valores atípicos en la variable **Security Deposit**. Por lo tanto, se procederá a eliminar los valores atípicos consideran estos aquellos por encima de 600$."
   ]
  },
  {
   "cell_type": "code",
   "execution_count": 136,
   "metadata": {},
   "outputs": [],
   "source": [
    "df_madrid = df_madrid.drop(df_madrid[df_madrid['Security Deposit'] > 600 ].index)"
   ]
  },
  {
   "cell_type": "markdown",
   "metadata": {},
   "source": [
    "Como la distribución de **Security** Deposit muestra concentraciones en valores específicos (100, 150, 200, 250, 300, etc.), podemos clasificarla en tres grupos según su magnitud. Esto nos permitirá simplificar el análisis y facilitar la interpretación de los datos."
   ]
  },
  {
   "cell_type": "code",
   "execution_count": 137,
   "metadata": {},
   "outputs": [
    {
     "name": "stdout",
     "output_type": "stream",
     "text": [
      "Security Deposit Category\n",
      "High Deposit      6328\n",
      "Medium Deposit    2678\n",
      "Low Deposit       1528\n",
      "Name: count, dtype: int64\n"
     ]
    }
   ],
   "source": [
    "def categorize_security_deposit(value):\n",
    "    if value <= 100:\n",
    "        return \"Low Deposit\"\n",
    "    elif 101 <= value <= 300:\n",
    "        return \"Medium Deposit\"\n",
    "    else:\n",
    "        return \"High Deposit\"\n",
    "\n",
    "# Aplicar la función a la columna 'Security Deposit'\n",
    "df_madrid['Security Deposit Category'] = df_madrid['Security Deposit'].apply(categorize_security_deposit)\n",
    "\n",
    "# Ver la distribución de las categorías\n",
    "print(df_madrid['Security Deposit Category'].value_counts())"
   ]
  },
  {
   "cell_type": "markdown",
   "metadata": {},
   "source": [
    "La variable Security Deposit Category' es ordinal y se puede codificar de la siguiente manera:"
   ]
  },
  {
   "cell_type": "code",
   "execution_count": 138,
   "metadata": {},
   "outputs": [],
   "source": [
    "# Crear un diccionario para mapear las categorías a números\n",
    "ordinal_mapping = {\n",
    "    \"Low Deposit\": 1,\n",
    "    \"Medium Deposit\": 2,\n",
    "    \"High Deposit\": 3\n",
    "}\n",
    "# Aplicar el mapeo\n",
    "df_madrid['Security_Deposit'] = df_madrid['Security Deposit Category'].map(ordinal_mapping)"
   ]
  },
  {
   "cell_type": "code",
   "execution_count": 139,
   "metadata": {},
   "outputs": [
    {
     "data": {
      "text/plain": [
       "Security_Deposit\n",
       "3    6328\n",
       "2    2678\n",
       "1    1528\n",
       "Name: count, dtype: int64"
      ]
     },
     "execution_count": 139,
     "metadata": {},
     "output_type": "execute_result"
    }
   ],
   "source": [
    "df_madrid['Security_Deposit'].value_counts()"
   ]
  },
  {
   "cell_type": "code",
   "execution_count": 140,
   "metadata": {},
   "outputs": [],
   "source": [
    "df_madrid.drop(columns = ['Security Deposit Category', 'Security Deposit'], inplace = True)\n"
   ]
  },
  {
   "cell_type": "markdown",
   "metadata": {},
   "source": [
    "### Cleaning Fee"
   ]
  },
  {
   "cell_type": "code",
   "execution_count": 141,
   "metadata": {},
   "outputs": [
    {
     "data": {
      "text/plain": [
       "Cleaning Fee\n",
       "4.0        1\n",
       "5.0      289\n",
       "6.0       35\n",
       "7.0       32\n",
       "8.0       76\n",
       "        ... \n",
       "250.0      9\n",
       "300.0      4\n",
       "350.0      2\n",
       "375.0      1\n",
       "500.0      1\n",
       "Name: count, Length: 86, dtype: int64"
      ]
     },
     "execution_count": 141,
     "metadata": {},
     "output_type": "execute_result"
    }
   ],
   "source": [
    "df_madrid[\"Cleaning Fee\"].value_counts().sort_index()   "
   ]
  },
  {
   "cell_type": "markdown",
   "metadata": {},
   "source": [
    "Atendiendo al Boxplot, se observa que hay valores atípicos en la variable **Cleaning Fee**. Por lo tanto, se procederá a eliminar los valores atípicos consideran estos aquellos por encima de 100$."
   ]
  },
  {
   "cell_type": "code",
   "execution_count": 142,
   "metadata": {},
   "outputs": [],
   "source": [
    "df_madrid = df_madrid.drop(df_madrid[df_madrid['Cleaning Fee'] > 100].index)"
   ]
  },
  {
   "cell_type": "markdown",
   "metadata": {},
   "source": [
    "Como la distribución de **Cleaning Fee** presenta concentración en valores proximos a (5, 10, 15, 20, 25, 30, 40, 50, etc.), podemos clasificarla en tres grupos según su magnitud. Esto nos permitirá simplificar el análisis y facilitar la interpretación de los datos."
   ]
  },
  {
   "cell_type": "code",
   "execution_count": 143,
   "metadata": {},
   "outputs": [
    {
     "name": "stdout",
     "output_type": "stream",
     "text": [
      "Cleaning Fee Category\n",
      "Alta tarifa de limpieza     4785\n",
      "Tarifa media de limpieza    2899\n",
      "Baja tarifa de limpieza     2782\n",
      "Name: count, dtype: int64\n"
     ]
    }
   ],
   "source": [
    "def categorize_cleaning_fee(value):\n",
    "    if value <= 20:\n",
    "        return \"Baja tarifa de limpieza\"\n",
    "    elif 21 <= value <= 50:\n",
    "        return \"Tarifa media de limpieza\"\n",
    "    else:\n",
    "        return \"Alta tarifa de limpieza\"\n",
    "\n",
    "# Aplicar la función a la columna 'Security Deposit'\n",
    "df_madrid['Cleaning Fee Category'] = df_madrid['Cleaning Fee'].apply(categorize_cleaning_fee)\n",
    "\n",
    "# Ver la distribución de las categorías\n",
    "print(df_madrid['Cleaning Fee Category'].value_counts())"
   ]
  },
  {
   "cell_type": "markdown",
   "metadata": {},
   "source": [
    "La variable **Cleaning Fee Category** es ordinal y se puede codificar de la siguiente manera:"
   ]
  },
  {
   "cell_type": "code",
   "execution_count": 144,
   "metadata": {},
   "outputs": [],
   "source": [
    "# Crear un diccionario para mapear las categorías a números\n",
    "ordinal_mapping = {\n",
    "    \"Baja tarifa de limpieza\": 0,\n",
    "    \"Tarifa media de limpieza\": 1,\n",
    "    \"Alta tarifa de limpieza\": 2\n",
    "}\n",
    "# Aplicar el mapeo\n",
    "df_madrid['Cleaning_Fee'] = df_madrid['Cleaning Fee Category'].map(ordinal_mapping)"
   ]
  },
  {
   "cell_type": "code",
   "execution_count": 145,
   "metadata": {},
   "outputs": [
    {
     "data": {
      "text/plain": [
       "Cleaning_Fee\n",
       "2    4785\n",
       "1    2899\n",
       "0    2782\n",
       "Name: count, dtype: int64"
      ]
     },
     "execution_count": 145,
     "metadata": {},
     "output_type": "execute_result"
    }
   ],
   "source": [
    "df_madrid['Cleaning_Fee'].value_counts()"
   ]
  },
  {
   "cell_type": "code",
   "execution_count": 146,
   "metadata": {},
   "outputs": [],
   "source": [
    "df_madrid.drop(columns = ['Cleaning Fee Category', 'Cleaning Fee'], inplace = True)"
   ]
  },
  {
   "cell_type": "markdown",
   "metadata": {},
   "source": [
    "### Guests Included"
   ]
  },
  {
   "cell_type": "code",
   "execution_count": 147,
   "metadata": {},
   "outputs": [
    {
     "data": {
      "image/png": "[encoded data removed]",
      "text/plain": [
       "<Figure size 640x480 with 1 Axes>"
      ]
     },
     "metadata": {},
     "output_type": "display_data"
    }
   ],
   "source": [
    "sns.boxplot(x=df_madrid['Guests Included'], color='lightblue', width=0.4, showfliers=True)  # showfliers=False para no mostrar los outliers\n",
    "plt.title('Boxplot de Guest Included', fontsize=14)\n",
    "plt.xlabel('Guest Included')\n",
    "plt.show()"
   ]
  },
  {
   "cell_type": "code",
   "execution_count": 148,
   "metadata": {},
   "outputs": [
    {
     "data": {
      "text/plain": [
       "Guests Included\n",
       "False              10249\n",
       "True                 217\n",
       "Name: count, dtype: int64"
      ]
     },
     "execution_count": 148,
     "metadata": {},
     "output_type": "execute_result"
    }
   ],
   "source": [
    "(df_madrid[[\"Guests Included\"]] > 4).value_counts()"
   ]
  },
  {
   "cell_type": "markdown",
   "metadata": {},
   "source": [
    "Atendiendo al Boxplot, se observa que hay valores atípicos en la variable **Guests Included**. Por lo tanto, se procederá a eliminar los valores atípicos consideran estos aquellos por encima de 4."
   ]
  },
  {
   "cell_type": "code",
   "execution_count": 149,
   "metadata": {},
   "outputs": [],
   "source": [
    "df_madrid = df_madrid.drop(df_madrid[df_madrid['Guests Included'] > 4].index)"
   ]
  },
  {
   "cell_type": "code",
   "execution_count": 150,
   "metadata": {},
   "outputs": [
    {
     "data": {
      "text/plain": [
       "Guests Included\n",
       "1    6882\n",
       "2    2503\n",
       "4     530\n",
       "3     334\n",
       "Name: count, dtype: int64"
      ]
     },
     "execution_count": 150,
     "metadata": {},
     "output_type": "execute_result"
    }
   ],
   "source": [
    "df_madrid['Guests Included'].value_counts()"
   ]
  },
  {
   "cell_type": "markdown",
   "metadata": {},
   "source": [
    "Nos decantamos por Label Encoding porque la variable **Guests Included** tiene valores discretos y ordinales, donde el orden de los valores tiene sentido y no se beneficiaría de una representación binaria como la que proporciona One-Hot Encoding."
   ]
  },
  {
   "cell_type": "code",
   "execution_count": 151,
   "metadata": {},
   "outputs": [],
   "source": [
    "from sklearn.preprocessing import LabelEncoder\n",
    "le = LabelEncoder()\n",
    "df_madrid['Guests Included'] = le.fit_transform(df_madrid['Guests Included'])\n"
   ]
  },
  {
   "cell_type": "code",
   "execution_count": 152,
   "metadata": {},
   "outputs": [
    {
     "data": {
      "text/plain": [
       "Guests Included\n",
       "0    6882\n",
       "1    2503\n",
       "2     334\n",
       "3     530\n",
       "Name: count, dtype: int64"
      ]
     },
     "execution_count": 152,
     "metadata": {},
     "output_type": "execute_result"
    }
   ],
   "source": [
    "df_madrid['Guests Included'].value_counts().sort_index()"
   ]
  },
  {
   "cell_type": "markdown",
   "metadata": {},
   "source": [
    "### Extra People"
   ]
  },
  {
   "cell_type": "markdown",
   "metadata": {},
   "source": [
    "Atendiendo al Boxplot, se observa que hay valores atípicos en la variable **Extra People**. Por lo tanto, se procederá a eliminar los valores atípicos consideran estos aquellos iguales o por encima de 100."
   ]
  },
  {
   "cell_type": "code",
   "execution_count": 153,
   "metadata": {},
   "outputs": [],
   "source": [
    "df_madrid = df_madrid.drop(df_madrid[df_madrid['Extra People'] >= 100].index)"
   ]
  },
  {
   "cell_type": "code",
   "execution_count": 154,
   "metadata": {},
   "outputs": [
    {
     "data": {
      "text/plain": [
       "Extra People\n",
       "0     5224\n",
       "4        1\n",
       "5      421\n",
       "6       60\n",
       "7       87\n",
       "8      150\n",
       "9       48\n",
       "10    1467\n",
       "11      67\n",
       "12     197\n",
       "13      37\n",
       "14      32\n",
       "15    1082\n",
       "16      27\n",
       "17      68\n",
       "18      89\n",
       "19      40\n",
       "20     609\n",
       "21       8\n",
       "22      21\n",
       "23      11\n",
       "24      11\n",
       "25     196\n",
       "26       6\n",
       "27       6\n",
       "28      23\n",
       "29       4\n",
       "30     120\n",
       "31       3\n",
       "32       3\n",
       "33       1\n",
       "35      41\n",
       "36       3\n",
       "37       1\n",
       "38       1\n",
       "39       2\n",
       "40      24\n",
       "45      17\n",
       "50      21\n",
       "55       2\n",
       "60       5\n",
       "65       1\n",
       "70       2\n",
       "75       2\n",
       "80       1\n",
       "Name: count, dtype: int64"
      ]
     },
     "execution_count": 154,
     "metadata": {},
     "output_type": "execute_result"
    }
   ],
   "source": [
    "df_madrid['Extra People'].value_counts().sort_index()"
   ]
  },
  {
   "cell_type": "markdown",
   "metadata": {},
   "source": [
    "Agrupamos la variable **Extra People** en tres categorías: sin coste adicional (0), coste bajo (1-10), y coste alto (más de 10), para reflejar el impacto del excedente de personas sobre el coste adicional."
   ]
  },
  {
   "cell_type": "code",
   "execution_count": 155,
   "metadata": {},
   "outputs": [],
   "source": [
    "def categorizar_coste_extra(valor):\n",
    "    if valor < 1:\n",
    "        return 'sin coste adicional'\n",
    "    elif 1 <= valor <= 10:\n",
    "        return 'coste bajo'\n",
    "    else:\n",
    "        return 'coste alto'\n",
    "\n",
    "# Aplicar la función\n",
    "df_madrid['coste_exceso_aforo'] = df_madrid['Extra People'].map(lambda x: categorizar_coste_extra(x))"
   ]
  },
  {
   "cell_type": "code",
   "execution_count": 156,
   "metadata": {},
   "outputs": [
    {
     "data": {
      "text/plain": [
       "coste_exceso_aforo\n",
       "coste alto             2784\n",
       "coste bajo             2234\n",
       "sin coste adicional    5224\n",
       "Name: count, dtype: int64"
      ]
     },
     "execution_count": 156,
     "metadata": {},
     "output_type": "execute_result"
    }
   ],
   "source": [
    "df_madrid['coste_exceso_aforo'].value_counts().sort_index()"
   ]
  },
  {
   "cell_type": "code",
   "execution_count": 157,
   "metadata": {},
   "outputs": [],
   "source": [
    "# Crear un diccionario para mapear las categorías a números\n",
    "ordinal_mapping = {\n",
    "    \"sin coste adicional\": 0,\n",
    "    \"coste bajo\": 1,\n",
    "    \"coste alto\": 2\n",
    "}\n",
    "\n",
    "# Aplicar el mapeo\n",
    "df_madrid['Extra_People'] = df_madrid['coste_exceso_aforo'].map(ordinal_mapping)"
   ]
  },
  {
   "cell_type": "code",
   "execution_count": 158,
   "metadata": {},
   "outputs": [
    {
     "data": {
      "text/plain": [
       "Extra_People\n",
       "0    5224\n",
       "1    2234\n",
       "2    2784\n",
       "Name: count, dtype: int64"
      ]
     },
     "execution_count": 158,
     "metadata": {},
     "output_type": "execute_result"
    }
   ],
   "source": [
    "df_madrid['Extra_People'].value_counts().sort_index()"
   ]
  },
  {
   "cell_type": "code",
   "execution_count": 159,
   "metadata": {},
   "outputs": [],
   "source": [
    "df_madrid.drop(columns = ['coste_exceso_aforo', 'Extra People'], inplace = True)"
   ]
  },
  {
   "cell_type": "markdown",
   "metadata": {},
   "source": [
    "### Minimum Nights"
   ]
  },
  {
   "cell_type": "markdown",
   "metadata": {},
   "source": [
    "Voy a realizar un estudio de outliers valiendome de un análisis de IQR para las variables **Minimum Nights**."
   ]
  },
  {
   "cell_type": "code",
   "execution_count": 160,
   "metadata": {},
   "outputs": [
    {
     "name": "stdout",
     "output_type": "stream",
     "text": [
      "count    10242.000000\n",
      "mean         2.929799\n",
      "std         14.096604\n",
      "min          1.000000\n",
      "25%          1.000000\n",
      "50%          2.000000\n",
      "75%          3.000000\n",
      "max       1125.000000\n",
      "Name: Minimum Nights, dtype: float64\n",
      "6.0\n",
      "Outliers identificados por IQR: 572\n"
     ]
    }
   ],
   "source": [
    "print(df_madrid['Minimum Nights'].describe())\n",
    "\n",
    "# Paso 2: Análisis con IQR\n",
    "Q1 = df_madrid['Minimum Nights'].quantile(0.25)\n",
    "Q3 = df_madrid['Minimum Nights'].quantile(0.75)\n",
    "IQR = Q3 - Q1\n",
    "\n",
    "upper_limit = Q3 + 1.5 * IQR\n",
    "\n",
    "outliers_iqr = df_madrid[(df_madrid['Minimum Nights'] > upper_limit)]\n",
    "print(upper_limit)\n",
    "print(f\"Outliers identificados por IQR: {outliers_iqr.shape[0]}\")"
   ]
  },
  {
   "cell_type": "code",
   "execution_count": 161,
   "metadata": {},
   "outputs": [
    {
     "data": {
      "text/plain": [
       "Minimum Nights\n",
       "False    9670\n",
       "True      572\n",
       "Name: count, dtype: int64"
      ]
     },
     "execution_count": 161,
     "metadata": {},
     "output_type": "execute_result"
    }
   ],
   "source": [
    "(df_madrid['Minimum Nights'] > 6).value_counts()"
   ]
  },
  {
   "cell_type": "code",
   "execution_count": 162,
   "metadata": {},
   "outputs": [
    {
     "data": {
      "image/png": "[encoded data removed]",
      "text/plain": [
       "<Figure size 1200x600 with 1 Axes>"
      ]
     },
     "metadata": {},
     "output_type": "display_data"
    }
   ],
   "source": [
    "plt.figure(figsize=(12, 6))  # Aumentar tamaño del gráfico (ancho=12, alto=6)\n",
    "\n",
    "sns.boxplot(x=df_madrid['Minimum Nights'], color='lightblue', width=0.4, showfliers=True)  \n",
    "\n",
    "plt.title('Boxplot de Minimum Nights', fontsize=14)\n",
    "plt.xlabel('Minimum Nights')\n",
    "plt.xticks(range(0, 1500, 50))  # Escalar eje X de 50 en 50\n",
    "\n",
    "plt.show()"
   ]
  },
  {
   "cell_type": "markdown",
   "metadata": {},
   "source": [
    "En lugar de eliminar aquellas filas cuyo valor de la variable **Minimum Nights** excede 6 voy a agrupar la variable en cuatro grupos he incluire en el cuarto grupo todas aquellas observaciones que exigen para la reserva un minimo superior a tres dias."
   ]
  },
  {
   "cell_type": "code",
   "execution_count": 163,
   "metadata": {},
   "outputs": [],
   "source": [
    "df_madrid['Minimum_Nights_Grouped'] = pd.cut(df_madrid['Minimum Nights'], \n",
    "                                             bins=[0, 1, 2, 3, float('inf')], \n",
    "                                             labels=['una noche', 'dos noches', 'tres noches ', 'Más de 3 noches'])"
   ]
  },
  {
   "cell_type": "code",
   "execution_count": 164,
   "metadata": {},
   "outputs": [
    {
     "data": {
      "text/plain": [
       "Minimum_Nights_Grouped\n",
       "una noche          3599\n",
       "dos noches         3646\n",
       "tres noches        1625\n",
       "Más de 3 noches    1372\n",
       "Name: count, dtype: int64"
      ]
     },
     "execution_count": 164,
     "metadata": {},
     "output_type": "execute_result"
    }
   ],
   "source": [
    "df_madrid[\"Minimum_Nights_Grouped\"].value_counts().sort_index()"
   ]
  },
  {
   "cell_type": "markdown",
   "metadata": {},
   "source": [
    "Finalmente la transformo en una dummie."
   ]
  },
  {
   "cell_type": "code",
   "execution_count": 165,
   "metadata": {},
   "outputs": [],
   "source": [
    "df_madrid = pd.get_dummies(df_madrid, columns=['Minimum_Nights_Grouped'], drop_first=True)"
   ]
  },
  {
   "cell_type": "code",
   "execution_count": 166,
   "metadata": {},
   "outputs": [],
   "source": [
    "df_madrid.drop(columns = ['Minimum Nights'], inplace = True)"
   ]
  },
  {
   "cell_type": "markdown",
   "metadata": {},
   "source": [
    "### Maximum Nights"
   ]
  },
  {
   "cell_type": "code",
   "execution_count": 167,
   "metadata": {},
   "outputs": [
    {
     "data": {
      "text/plain": [
       "Maximum Nights\n",
       "1         10\n",
       "2         25\n",
       "3         80\n",
       "4         64\n",
       "5         92\n",
       "          ..\n",
       "10000      5\n",
       "11111      2\n",
       "30000      1\n",
       "99999      2\n",
       "100000     1\n",
       "Name: count, Length: 148, dtype: int64"
      ]
     },
     "execution_count": 167,
     "metadata": {},
     "output_type": "execute_result"
    }
   ],
   "source": [
    "df_madrid[\"Maximum Nights\"].value_counts().sort_index()"
   ]
  },
  {
   "cell_type": "markdown",
   "metadata": {},
   "source": [
    "Atendiendo a la distribución de la variable, los valores  no parece tener ningun sentido o por lo menos da la sensación que mantener la variable únicamente va a generar ruido en el modelo."
   ]
  },
  {
   "cell_type": "code",
   "execution_count": 168,
   "metadata": {},
   "outputs": [],
   "source": [
    "df_madrid = df_madrid.drop('Maximum Nights', axis=1)"
   ]
  },
  {
   "cell_type": "markdown",
   "metadata": {},
   "source": [
    "### Availability 60"
   ]
  },
  {
   "cell_type": "code",
   "execution_count": 169,
   "metadata": {},
   "outputs": [
    {
     "data": {
      "text/plain": [
       "Availability 60\n",
       "0     2009\n",
       "1      149\n",
       "2      139\n",
       "3      122\n",
       "4      148\n",
       "      ... \n",
       "56      56\n",
       "57      77\n",
       "58     124\n",
       "59     221\n",
       "60     461\n",
       "Name: count, Length: 61, dtype: int64"
      ]
     },
     "execution_count": 169,
     "metadata": {},
     "output_type": "execute_result"
    }
   ],
   "source": [
    "df_madrid[\"Availability 60\"].value_counts().sort_index()"
   ]
  },
  {
   "cell_type": "markdown",
   "metadata": {},
   "source": [
    "Para la variable **Availability 60**, vamos a crear una nueva variable categórica que indique si la disponibilidad es baja, media o alta. De esta forma evitamos los problemas de la alta cardinalidad."
   ]
  },
  {
   "cell_type": "code",
   "execution_count": 170,
   "metadata": {},
   "outputs": [],
   "source": [
    "# Definir los intervalos\n",
    "bins = [0, 15, 30, 60]  # 0-15, 16-30, 31-60 días\n",
    "labels = ['Baja Disponibilidad', 'Disponibilidad Moderada', 'Alta Disponibilidad']\n",
    "\n",
    "# Crear la nueva columna categórica\n",
    "df_madrid['Availability 60 Grouped'] = pd.cut(df_madrid['Availability 60'], bins=bins, labels=labels, right=True)"
   ]
  },
  {
   "cell_type": "code",
   "execution_count": 171,
   "metadata": {},
   "outputs": [
    {
     "data": {
      "text/plain": [
       "Availability 60 Grouped\n",
       "Alta Disponibilidad        3573\n",
       "Baja Disponibilidad        2449\n",
       "Disponibilidad Moderada    2211\n",
       "Name: count, dtype: int64"
      ]
     },
     "execution_count": 171,
     "metadata": {},
     "output_type": "execute_result"
    }
   ],
   "source": [
    "df_madrid['Availability 60 Grouped'].value_counts()"
   ]
  },
  {
   "cell_type": "code",
   "execution_count": 172,
   "metadata": {},
   "outputs": [],
   "source": [
    "ordinal_mapping = {\n",
    "    \"Baja Disponibilidad\": 0,\n",
    "    \"Disponibilidad Moderada\": 1,\n",
    "    \"Alta Disponibilidad\": 2\n",
    "}\n",
    "# Aplicar el mapeo\n",
    "df_madrid['Availavility60'] = df_madrid['Availability 60 Grouped'].map(ordinal_mapping)"
   ]
  },
  {
   "cell_type": "code",
   "execution_count": 173,
   "metadata": {},
   "outputs": [
    {
     "data": {
      "text/plain": [
       "Availavility60\n",
       "0    2449\n",
       "1    2211\n",
       "2    3573\n",
       "Name: count, dtype: int64"
      ]
     },
     "execution_count": 173,
     "metadata": {},
     "output_type": "execute_result"
    }
   ],
   "source": [
    "df_madrid['Availavility60'].value_counts().sort_index()"
   ]
  },
  {
   "cell_type": "code",
   "execution_count": 174,
   "metadata": {},
   "outputs": [],
   "source": [
    "df_madrid.drop(columns = [ 'Availability 60', 'Availability 60 Grouped'], inplace = True)"
   ]
  },
  {
   "cell_type": "markdown",
   "metadata": {},
   "source": [
    "### Review Scores Rating"
   ]
  },
  {
   "cell_type": "code",
   "execution_count": 175,
   "metadata": {},
   "outputs": [
    {
     "data": {
      "text/plain": [
       "Review Scores Rating\n",
       "20.0       15\n",
       "26.0        1\n",
       "30.0        2\n",
       "33.0        1\n",
       "40.0       22\n",
       "47.0        4\n",
       "50.0       11\n",
       "53.0        5\n",
       "57.0        2\n",
       "58.0        1\n",
       "60.0       78\n",
       "62.0        1\n",
       "63.0        2\n",
       "64.0        5\n",
       "65.0       11\n",
       "66.0        4\n",
       "67.0       21\n",
       "68.0        7\n",
       "69.0        3\n",
       "70.0       42\n",
       "71.0       11\n",
       "72.0       14\n",
       "73.0       38\n",
       "74.0       14\n",
       "75.0       33\n",
       "76.0       25\n",
       "77.0       35\n",
       "78.0       43\n",
       "79.0       26\n",
       "80.0      436\n",
       "81.0       41\n",
       "82.0       65\n",
       "83.0      115\n",
       "84.0      120\n",
       "85.0      168\n",
       "86.0      117\n",
       "87.0      255\n",
       "88.0      243\n",
       "89.0      250\n",
       "90.0      461\n",
       "91.0      317\n",
       "92.0      364\n",
       "93.0      562\n",
       "94.0      436\n",
       "95.0      519\n",
       "96.0      567\n",
       "97.0      451\n",
       "98.0      440\n",
       "99.0      212\n",
       "100.0    1434\n",
       "Name: count, dtype: int64"
      ]
     },
     "execution_count": 175,
     "metadata": {},
     "output_type": "execute_result"
    }
   ],
   "source": [
    "df_madrid[\"Review Scores Rating\"].value_counts().sort_index()"
   ]
  },
  {
   "cell_type": "code",
   "execution_count": 176,
   "metadata": {},
   "outputs": [],
   "source": [
    "def asignar_grupo_intervalos(rating):\n",
    "    if rating <= 60:\n",
    "        return 'Baja puntuación'\n",
    "    elif rating <= 80:\n",
    "        return 'Puntuación media'\n",
    "    else:\n",
    "        return 'Alta puntuación'\n",
    "\n",
    "# Aplicar la función para asignar la clasificación\n",
    "df_madrid['Review Group'] = df_madrid['Review Scores Rating'].apply(asignar_grupo_intervalos)"
   ]
  },
  {
   "cell_type": "code",
   "execution_count": 177,
   "metadata": {},
   "outputs": [
    {
     "name": "stdout",
     "output_type": "stream",
     "text": [
      "Review Group\n",
      "Alta puntuación     9329\n",
      "Puntuación media     771\n",
      "Baja puntuación      142\n",
      "Name: count, dtype: int64\n"
     ]
    }
   ],
   "source": [
    "print(df_madrid['Review Group'].value_counts())"
   ]
  },
  {
   "cell_type": "code",
   "execution_count": 178,
   "metadata": {},
   "outputs": [],
   "source": [
    "ordinal_mapping = {\n",
    "    \"Baja puntuación\": 0,\n",
    "    \"Puntuación media\": 1,\n",
    "    \"Alta puntuación\": 2\n",
    "}\n",
    "# Aplicar el mapeo\n",
    "df_madrid['Review_Scores_Rating'] = df_madrid['Review Group'].map(ordinal_mapping)"
   ]
  },
  {
   "cell_type": "code",
   "execution_count": 179,
   "metadata": {},
   "outputs": [
    {
     "data": {
      "text/plain": [
       "Review_Scores_Rating\n",
       "2    9329\n",
       "1     771\n",
       "0     142\n",
       "Name: count, dtype: int64"
      ]
     },
     "execution_count": 179,
     "metadata": {},
     "output_type": "execute_result"
    }
   ],
   "source": [
    "df_madrid['Review_Scores_Rating'].value_counts()"
   ]
  },
  {
   "cell_type": "code",
   "execution_count": 180,
   "metadata": {},
   "outputs": [],
   "source": [
    "df_madrid.drop(columns =['Review Group', 'Review Scores Rating'], inplace = True)"
   ]
  },
  {
   "cell_type": "markdown",
   "metadata": {},
   "source": [
    "### Review Scores Accuracy"
   ]
  },
  {
   "cell_type": "code",
   "execution_count": 181,
   "metadata": {},
   "outputs": [
    {
     "data": {
      "text/plain": [
       "Review Scores Accuracy\n",
       "10.0    4640\n",
       "9.0     2552\n",
       "8.0      582\n",
       "7.0      127\n",
       "6.0       74\n",
       "4.0       25\n",
       "2.0       21\n",
       "5.0       13\n",
       "3.0        2\n",
       "Name: count, dtype: int64"
      ]
     },
     "execution_count": 181,
     "metadata": {},
     "output_type": "execute_result"
    }
   ],
   "source": [
    "df_madrid[\"Review Scores Accuracy\"].value_counts()"
   ]
  },
  {
   "cell_type": "code",
   "execution_count": 182,
   "metadata": {},
   "outputs": [],
   "source": [
    "percentiles = df_madrid['Review Scores Accuracy'].quantile([0.33, 0.66])\n",
    "def asignar_grupo_intervalos(rating):\n",
    "    if rating <= percentiles[0.33]:\n",
    "        return 'Baja puntuación'\n",
    "    elif rating <= percentiles[0.66]:\n",
    "        return 'Puntuación media'\n",
    "    else:\n",
    "        return 'Alta puntuación'\n",
    "\n",
    "# Aplicar la función para asignar la clasificación\n",
    "df_madrid['Review Scores Accuracy Group'] = df_madrid['Review Scores Accuracy'].apply(asignar_grupo_intervalos)"
   ]
  },
  {
   "cell_type": "code",
   "execution_count": 183,
   "metadata": {},
   "outputs": [
    {
     "name": "stdout",
     "output_type": "stream",
     "text": [
      "Review Scores Accuracy Group\n",
      "Puntuación media    4640\n",
      "Baja puntuación     3396\n",
      "Alta puntuación     2206\n",
      "Name: count, dtype: int64\n"
     ]
    }
   ],
   "source": [
    "print(df_madrid['Review Scores Accuracy Group'].value_counts())"
   ]
  },
  {
   "cell_type": "code",
   "execution_count": 184,
   "metadata": {},
   "outputs": [],
   "source": [
    "ordinal_mapping = {\n",
    "    \"Baja puntuación\": 0,\n",
    "    \"Puntuación media\": 1,\n",
    "    \"Alta puntuación\": 2\n",
    "}\n",
    "# Aplicar el mapeo\n",
    "df_madrid['Review_Scores_Accuracy'] = df_madrid['Review Scores Accuracy Group'].map(ordinal_mapping)"
   ]
  },
  {
   "cell_type": "code",
   "execution_count": 185,
   "metadata": {},
   "outputs": [
    {
     "data": {
      "text/plain": [
       "Review_Scores_Accuracy\n",
       "1    4640\n",
       "0    3396\n",
       "2    2206\n",
       "Name: count, dtype: int64"
      ]
     },
     "execution_count": 185,
     "metadata": {},
     "output_type": "execute_result"
    }
   ],
   "source": [
    "df_madrid['Review_Scores_Accuracy'].value_counts()"
   ]
  },
  {
   "cell_type": "code",
   "execution_count": 186,
   "metadata": {},
   "outputs": [],
   "source": [
    "df_madrid.drop(columns  = ['Review Scores Accuracy', 'Review Scores Accuracy Group'], inplace=True)"
   ]
  },
  {
   "cell_type": "markdown",
   "metadata": {},
   "source": [
    "### Review Scores Cleanliness"
   ]
  },
  {
   "cell_type": "code",
   "execution_count": 187,
   "metadata": {},
   "outputs": [
    {
     "data": {
      "text/plain": [
       "Review Scores Cleanliness\n",
       "10.0    4394\n",
       "9.0     2502\n",
       "8.0      778\n",
       "7.0      185\n",
       "6.0      116\n",
       "4.0       23\n",
       "2.0       20\n",
       "5.0       17\n",
       "3.0        6\n",
       "Name: count, dtype: int64"
      ]
     },
     "execution_count": 187,
     "metadata": {},
     "output_type": "execute_result"
    }
   ],
   "source": [
    "df_madrid[\"Review Scores Cleanliness\"].value_counts()"
   ]
  },
  {
   "cell_type": "code",
   "execution_count": 188,
   "metadata": {},
   "outputs": [],
   "source": [
    "percentiles = df_madrid['Review Scores Cleanliness'].quantile([0.33, 0.66])\n",
    "def asignar_grupo_intervalos(rating):\n",
    "    if rating <= percentiles[0.33]:\n",
    "        return 'Baja puntuación'\n",
    "    elif rating <= percentiles[0.66]:\n",
    "        return 'Puntuación media'\n",
    "    else:\n",
    "        return 'Alta puntuación'\n",
    "\n",
    "# Aplicar la función para asignar la clasificación\n",
    "df_madrid['Review Scores Cleanliness Group'] = df_madrid['Review Scores Cleanliness'].apply(asignar_grupo_intervalos)"
   ]
  },
  {
   "cell_type": "code",
   "execution_count": 189,
   "metadata": {},
   "outputs": [
    {
     "name": "stdout",
     "output_type": "stream",
     "text": [
      "Review Scores Cleanliness Group\n",
      "Puntuación media    4394\n",
      "Baja puntuación     3647\n",
      "Alta puntuación     2201\n",
      "Name: count, dtype: int64\n"
     ]
    }
   ],
   "source": [
    "print(df_madrid['Review Scores Cleanliness Group'].value_counts())"
   ]
  },
  {
   "cell_type": "code",
   "execution_count": 190,
   "metadata": {},
   "outputs": [],
   "source": [
    "ordinal_mapping = {\n",
    "    \"Baja puntuación\": 0,\n",
    "    \"Puntuación media\": 1,\n",
    "    \"Alta puntuación\": 2\n",
    "}\n",
    "# Aplicar el mapeo\n",
    "df_madrid['Review_Scores_Cleanliness'] = df_madrid['Review Scores Cleanliness Group'].map(ordinal_mapping)"
   ]
  },
  {
   "cell_type": "code",
   "execution_count": 191,
   "metadata": {},
   "outputs": [
    {
     "data": {
      "text/plain": [
       "Review_Scores_Cleanliness\n",
       "1    4394\n",
       "0    3647\n",
       "2    2201\n",
       "Name: count, dtype: int64"
      ]
     },
     "execution_count": 191,
     "metadata": {},
     "output_type": "execute_result"
    }
   ],
   "source": [
    "df_madrid['Review_Scores_Cleanliness'].value_counts()"
   ]
  },
  {
   "cell_type": "code",
   "execution_count": 192,
   "metadata": {},
   "outputs": [],
   "source": [
    "df_madrid.drop(columns = ['Review Scores Cleanliness', 'Review Scores Cleanliness Group'], inplace=True)"
   ]
  },
  {
   "cell_type": "markdown",
   "metadata": {},
   "source": [
    "### Review Scores Checkin"
   ]
  },
  {
   "cell_type": "code",
   "execution_count": 193,
   "metadata": {},
   "outputs": [
    {
     "data": {
      "text/plain": [
       "Review Scores Checkin\n",
       "10.0    5794\n",
       "9.0     1753\n",
       "8.0      332\n",
       "7.0       57\n",
       "6.0       51\n",
       "4.0       13\n",
       "2.0       13\n",
       "5.0       12\n",
       "3.0        2\n",
       "Name: count, dtype: int64"
      ]
     },
     "execution_count": 193,
     "metadata": {},
     "output_type": "execute_result"
    }
   ],
   "source": [
    "df_madrid[\"Review Scores Checkin\"].value_counts()"
   ]
  },
  {
   "cell_type": "code",
   "execution_count": 194,
   "metadata": {},
   "outputs": [],
   "source": [
    "percentiles = df_madrid['Review Scores Checkin'].quantile([0.33, 0.66])\n",
    "def asignar_grupo_intervalos(rating):\n",
    "    if rating <= percentiles[0.33]:\n",
    "        return 'Baja puntuación'\n",
    "    elif rating <= percentiles[0.66]:\n",
    "        return 'Puntuación media'\n",
    "    else:\n",
    "        return 'Alta puntuación'\n",
    "\n",
    "# Aplicar la función para asignar la clasificación\n",
    "df_madrid['Review Scores Checkin Group'] = df_madrid['Review Scores Checkin'].apply(asignar_grupo_intervalos)"
   ]
  },
  {
   "cell_type": "code",
   "execution_count": 195,
   "metadata": {},
   "outputs": [
    {
     "name": "stdout",
     "output_type": "stream",
     "text": [
      "Review Scores Checkin Group\n",
      "Baja puntuación    8027\n",
      "Alta puntuación    2215\n",
      "Name: count, dtype: int64\n"
     ]
    }
   ],
   "source": [
    "print(df_madrid['Review Scores Checkin Group'].value_counts())"
   ]
  },
  {
   "cell_type": "code",
   "execution_count": 196,
   "metadata": {},
   "outputs": [],
   "source": [
    "ordinal_mapping = {\n",
    "    \"Baja puntuación\": 0,\n",
    "    \"Puntuación media\": 1,\n",
    "    \"Alta puntuación\": 2\n",
    "}\n",
    "# Aplicar el mapeo\n",
    "df_madrid['Review_Scores_Checkin'] = df_madrid['Review Scores Checkin Group'].map(ordinal_mapping)"
   ]
  },
  {
   "cell_type": "code",
   "execution_count": 197,
   "metadata": {},
   "outputs": [
    {
     "data": {
      "text/plain": [
       "Review_Scores_Checkin\n",
       "0    8027\n",
       "2    2215\n",
       "Name: count, dtype: int64"
      ]
     },
     "execution_count": 197,
     "metadata": {},
     "output_type": "execute_result"
    }
   ],
   "source": [
    "df_madrid['Review_Scores_Checkin'].value_counts()"
   ]
  },
  {
   "cell_type": "code",
   "execution_count": 198,
   "metadata": {},
   "outputs": [],
   "source": [
    "df_madrid.drop(columns = ['Review Scores Checkin', 'Review Scores Checkin Group'], inplace = True)"
   ]
  },
  {
   "cell_type": "markdown",
   "metadata": {},
   "source": [
    "### Review Scores Communication "
   ]
  },
  {
   "cell_type": "code",
   "execution_count": 199,
   "metadata": {},
   "outputs": [
    {
     "data": {
      "text/plain": [
       "Review Scores Communication\n",
       "10.0    5914\n",
       "9.0     1671\n",
       "8.0      312\n",
       "7.0       65\n",
       "6.0       44\n",
       "2.0       14\n",
       "4.0       11\n",
       "5.0        9\n",
       "Name: count, dtype: int64"
      ]
     },
     "execution_count": 199,
     "metadata": {},
     "output_type": "execute_result"
    }
   ],
   "source": [
    "df_madrid[\"Review Scores Communication\"].value_counts()"
   ]
  },
  {
   "cell_type": "code",
   "execution_count": 200,
   "metadata": {},
   "outputs": [],
   "source": [
    "percentiles = df_madrid['Review Scores Communication'].quantile([0.33, 0.66])\n",
    "def asignar_grupo_intervalos(rating):\n",
    "    if rating <= percentiles[0.33]:\n",
    "        return 'Baja puntuación'\n",
    "    elif rating <= percentiles[0.66]:\n",
    "        return 'Puntuación media'\n",
    "    else:\n",
    "        return 'Alta puntuación'\n",
    "\n",
    "# Aplicar la función para asignar la clasificación\n",
    "df_madrid['Review Scores Communication Group'] = df_madrid['Review Scores Communication'].apply(asignar_grupo_intervalos)"
   ]
  },
  {
   "cell_type": "code",
   "execution_count": 201,
   "metadata": {},
   "outputs": [
    {
     "name": "stdout",
     "output_type": "stream",
     "text": [
      "Review Scores Communication Group\n",
      "Baja puntuación    8040\n",
      "Alta puntuación    2202\n",
      "Name: count, dtype: int64\n"
     ]
    }
   ],
   "source": [
    "print(df_madrid['Review Scores Communication Group'].value_counts())"
   ]
  },
  {
   "cell_type": "code",
   "execution_count": 202,
   "metadata": {},
   "outputs": [],
   "source": [
    "ordinal_mapping = {\n",
    "    \"Baja puntuación\": 0,\n",
    "    \"Puntuación media\": 1,\n",
    "    \"Alta puntuación\": 2\n",
    "}\n",
    "# Aplicar el mapeo\n",
    "df_madrid['Review_Scores_Communication'] = df_madrid['Review Scores Communication Group'].map(ordinal_mapping)"
   ]
  },
  {
   "cell_type": "code",
   "execution_count": 203,
   "metadata": {},
   "outputs": [
    {
     "data": {
      "text/plain": [
       "Review_Scores_Communication\n",
       "0    8040\n",
       "2    2202\n",
       "Name: count, dtype: int64"
      ]
     },
     "execution_count": 203,
     "metadata": {},
     "output_type": "execute_result"
    }
   ],
   "source": [
    "df_madrid['Review_Scores_Communication'].value_counts()"
   ]
  },
  {
   "cell_type": "code",
   "execution_count": 204,
   "metadata": {},
   "outputs": [],
   "source": [
    "df_madrid.drop(columns = [ 'Review Scores Communication', 'Review Scores Communication Group'], inplace = True)"
   ]
  },
  {
   "cell_type": "markdown",
   "metadata": {},
   "source": [
    "### Review Scores Location"
   ]
  },
  {
   "cell_type": "code",
   "execution_count": 205,
   "metadata": {},
   "outputs": [
    {
     "data": {
      "text/plain": [
       "Review Scores Location\n",
       "10.0    5245\n",
       "9.0     2108\n",
       "8.0      527\n",
       "7.0       74\n",
       "6.0       49\n",
       "5.0        9\n",
       "2.0        7\n",
       "4.0        6\n",
       "Name: count, dtype: int64"
      ]
     },
     "execution_count": 205,
     "metadata": {},
     "output_type": "execute_result"
    }
   ],
   "source": [
    "df_madrid[\"Review Scores Location\"].value_counts()"
   ]
  },
  {
   "cell_type": "code",
   "execution_count": 206,
   "metadata": {},
   "outputs": [],
   "source": [
    "percentiles = df_madrid['Review Scores Location'].quantile([0.33, 0.66])\n",
    "def asignar_grupo_intervalos(rating):\n",
    "    if rating <= percentiles[0.33]:\n",
    "        return 'Baja puntuación'\n",
    "    elif rating <= percentiles[0.66]:\n",
    "        return 'Puntuación media'\n",
    "    else:\n",
    "        return 'Alta puntuación'\n",
    "\n",
    "# Aplicar la función para asignar la clasificación\n",
    "df_madrid['Review Scores Location Group'] = df_madrid['Review Scores Location'].apply(asignar_grupo_intervalos)"
   ]
  },
  {
   "cell_type": "code",
   "execution_count": 207,
   "metadata": {},
   "outputs": [
    {
     "name": "stdout",
     "output_type": "stream",
     "text": [
      "Review Scores Location Group\n",
      "Puntuación media    5245\n",
      "Baja puntuación     2780\n",
      "Alta puntuación     2217\n",
      "Name: count, dtype: int64\n"
     ]
    }
   ],
   "source": [
    "print(df_madrid['Review Scores Location Group'].value_counts())"
   ]
  },
  {
   "cell_type": "code",
   "execution_count": 208,
   "metadata": {},
   "outputs": [],
   "source": [
    "ordinal_mapping = {\n",
    "    \"Baja puntuación\": 0,\n",
    "    \"Puntuación media\": 1,\n",
    "    \"Alta puntuación\": 2\n",
    "}\n",
    "# Aplicar el mapeo\n",
    "df_madrid['Review_Scores_Location'] = df_madrid['Review Scores Location Group'].map(ordinal_mapping)"
   ]
  },
  {
   "cell_type": "code",
   "execution_count": 209,
   "metadata": {},
   "outputs": [
    {
     "data": {
      "text/plain": [
       "Review_Scores_Location\n",
       "1    5245\n",
       "0    2780\n",
       "2    2217\n",
       "Name: count, dtype: int64"
      ]
     },
     "execution_count": 209,
     "metadata": {},
     "output_type": "execute_result"
    }
   ],
   "source": [
    "df_madrid['Review_Scores_Location'].value_counts()"
   ]
  },
  {
   "cell_type": "code",
   "execution_count": 210,
   "metadata": {},
   "outputs": [],
   "source": [
    "df_madrid.drop(columns = ['Review Scores Location', 'Review Scores Location Group'], inplace = True)"
   ]
  },
  {
   "cell_type": "markdown",
   "metadata": {},
   "source": [
    "### Review Scores Value"
   ]
  },
  {
   "cell_type": "code",
   "execution_count": 211,
   "metadata": {},
   "outputs": [
    {
     "data": {
      "text/plain": [
       "Review Scores Value\n",
       "10.0    3503\n",
       "9.0     3366\n",
       "8.0      835\n",
       "7.0      156\n",
       "6.0      101\n",
       "4.0       27\n",
       "5.0       18\n",
       "2.0       16\n",
       "3.0        4\n",
       "Name: count, dtype: int64"
      ]
     },
     "execution_count": 211,
     "metadata": {},
     "output_type": "execute_result"
    }
   ],
   "source": [
    "df_madrid[\"Review Scores Value\"].value_counts()"
   ]
  },
  {
   "cell_type": "code",
   "execution_count": 212,
   "metadata": {},
   "outputs": [],
   "source": [
    "percentiles = df_madrid['Review Scores Value'].quantile([0.33, 0.66])\n",
    "def asignar_grupo_intervalos(rating):\n",
    "    if rating <= percentiles[0.33]:\n",
    "        return 'Baja puntuación'\n",
    "    elif rating <= percentiles[0.66]:\n",
    "        return 'Puntuación media'\n",
    "    else:\n",
    "        return 'Alta puntuación'\n",
    "\n",
    "# Aplicar la función para asignar la clasificación\n",
    "df_madrid['Review Scores Value Group'] = df_madrid['Review Scores Value'].apply(asignar_grupo_intervalos)"
   ]
  },
  {
   "cell_type": "code",
   "execution_count": 213,
   "metadata": {},
   "outputs": [
    {
     "name": "stdout",
     "output_type": "stream",
     "text": [
      "Review Scores Value Group\n",
      "Baja puntuación     4523\n",
      "Puntuación media    3503\n",
      "Alta puntuación     2216\n",
      "Name: count, dtype: int64\n"
     ]
    }
   ],
   "source": [
    "print(df_madrid['Review Scores Value Group'].value_counts())"
   ]
  },
  {
   "cell_type": "code",
   "execution_count": 214,
   "metadata": {},
   "outputs": [],
   "source": [
    "ordinal_mapping = {\n",
    "    \"Baja puntuación\": 0,\n",
    "    \"Puntuación media\": 1,\n",
    "    \"Alta puntuación\": 2\n",
    "}\n",
    "# Aplicar el mapeo\n",
    "df_madrid['Review_Scores_Value'] = df_madrid['Review Scores Value Group'].map(ordinal_mapping)"
   ]
  },
  {
   "cell_type": "code",
   "execution_count": 215,
   "metadata": {},
   "outputs": [
    {
     "data": {
      "text/plain": [
       "Review_Scores_Value\n",
       "0    4523\n",
       "1    3503\n",
       "2    2216\n",
       "Name: count, dtype: int64"
      ]
     },
     "execution_count": 215,
     "metadata": {},
     "output_type": "execute_result"
    }
   ],
   "source": [
    "df_madrid['Review_Scores_Value'].value_counts()"
   ]
  },
  {
   "cell_type": "code",
   "execution_count": 216,
   "metadata": {},
   "outputs": [],
   "source": [
    "df_madrid.drop(columns = ['Review Scores Value', 'Review Scores Value Group'], inplace=True)"
   ]
  },
  {
   "cell_type": "markdown",
   "metadata": {},
   "source": [
    "\n",
    "### Cancellation Policy"
   ]
  },
  {
   "cell_type": "code",
   "execution_count": 217,
   "metadata": {},
   "outputs": [
    {
     "data": {
      "text/plain": [
       "Cancellation Policy\n",
       "strict             3794\n",
       "flexible           3365\n",
       "moderate           3078\n",
       "super_strict_60       3\n",
       "super_strict_30       2\n",
       "Name: count, dtype: int64"
      ]
     },
     "execution_count": 217,
     "metadata": {},
     "output_type": "execute_result"
    }
   ],
   "source": [
    "df_madrid[\"Cancellation Policy\"].value_counts()"
   ]
  },
  {
   "cell_type": "markdown",
   "metadata": {},
   "source": [
    "Procedo a visualizar las filas que tienen por valor en la columna \"Cancellation Policy\" \"super_strict_60\" y \"super_strict_30\". "
   ]
  },
  {
   "cell_type": "code",
   "execution_count": 218,
   "metadata": {},
   "outputs": [
    {
     "name": "stdout",
     "output_type": "stream",
     "text": [
      "         Price  Guests Included Cancellation Policy                                                                        Features  Host Type_Propietario Particular host_years_grouped_Encoded  Host Response Time Encoded Host Response Rate Encoded  Host_Experience_Level_Principiante  Host_Experience_Level_Intermedio  Host_Experience_Level_Experimentado  Host_Experience_Level_Empresas grandes  Security Level  Price Level  Property Type Group_Alojamientos poco convencionales  Property Type Group_Apartamentos  Property Type Group_Casas  Room Type_Entire home/apt  Room Type_Private room  Room Type_Shared room  Accommodates Category_Medio  Accommodates Category_Alto  N Bathrooms_Medio  N Bathrooms_Alto  N Bathrooms_Muy elevado N_Bedrooms_Ordinal Beds per Bedrooms  Bed_type  comfort Level  Security_Deposit  Cleaning_Fee  Extra_People  Minimum_Nights_Grouped_dos noches  Minimum_Nights_Grouped_tres noches   Minimum_Nights_Grouped_Más de 3 noches Availavility60  Review_Scores_Rating  \\\n",
      "3701  4.430817                0     super_strict_30                          Host Has Profile Pic,Requires License,Instant Bookable                              True                          0                         2.0                          2                               False                             False                                 True                                   False               1          NaN                                                 False                              True                      False                       True                   False                  False                         True                       False               True             False                    False                  1                 1       1.0              0                 3             2             0                               True                                False                                   False              1                     2   \n",
      "5972  5.099866                0     super_strict_60  Host Has Profile Pic,Host Identity Verified,Is Location Exact,Requires License                              True                          0                         1.0                          2                               False                             False                                False                                    True               2          NaN                                                 False                              True                      False                       True                   False                  False                         True                       False               True             False                    False                  1                 1       1.0              0                 3             2             0                              False                                 True                                   False              2                     2   \n",
      "6043  4.330733                0     super_strict_60  Host Has Profile Pic,Host Identity Verified,Is Location Exact,Requires License                              True                          0                         0.0                          1                               False                              True                                False                                   False               2          1.0                                                 False                              True                      False                       True                   False                  False                         True                       False               True             False                    False                  1                 1       1.0              0                 3             2             0                              False                                False                                   False              2                     2   \n",
      "7067  4.615121                0     super_strict_60  Host Has Profile Pic,Host Identity Verified,Is Location Exact,Requires License                              True                          0                         1.0                          2                               False                             False                                False                                    True               2          2.0                                                 False                              True                      False                      False                    True                  False                        False                       False               True             False                    False                  1                 1       NaN              0                 3             2             0                              False                                 True                                   False            NaN                     2   \n",
      "9802  4.510860                0     super_strict_30                          Host Has Profile Pic,Requires License,Instant Bookable                              True                          0                         2.0                          2                               False                             False                                 True                                   False               1          NaN                                                 False                              True                      False                       True                   False                  False                         True                       False               True             False                    False                  1                 1       1.0              0                 3             2             0                               True                                False                                   False              2                     2   \n",
      "\n",
      "      Review_Scores_Accuracy  Review_Scores_Cleanliness  Review_Scores_Checkin  Review_Scores_Communication  Review_Scores_Location  Review_Scores_Value  \n",
      "3701                       2                          2                      2                            2                       2                    2  \n",
      "5972                       2                          2                      2                            2                       2                    2  \n",
      "6043                       2                          2                      2                            2                       2                    2  \n",
      "7067                       2                          2                      2                            2                       2                    2  \n",
      "9802                       2                          2                      2                            2                       2                    2  \n"
     ]
    }
   ],
   "source": [
    "print(df_madrid[df_madrid[\"Cancellation Policy\"].isin([\"super_strict_60\", \"super_strict_30\"])])"
   ]
  },
  {
   "cell_type": "markdown",
   "metadata": {},
   "source": [
    "A priori no parecen corresponder a un tipo de vivienda muy concreto o a un tipo de anfitrión en particular, por lo que se pueden considerar como valores atípicos y eliminar"
   ]
  },
  {
   "cell_type": "code",
   "execution_count": 219,
   "metadata": {},
   "outputs": [],
   "source": [
    "df_madrid = df_madrid[~df_madrid[\"Cancellation Policy\"].isin([\"super_strict_60\", \"super_strict_30\"])]"
   ]
  },
  {
   "cell_type": "markdown",
   "metadata": {},
   "source": [
    "Considero que la variable **Cancellation Policy** es del tipo categorico ordinal, por lo que voy a aplicar un mapeo a números."
   ]
  },
  {
   "cell_type": "code",
   "execution_count": 220,
   "metadata": {},
   "outputs": [],
   "source": [
    "# Crear un diccionario para mapear las categorías a números\n",
    "ordinal_mapping = {\n",
    "    \"strict\": 2,\n",
    "    \"moderate\": 1,\n",
    "    \"flexible \": 0\n",
    "}\n",
    "\n",
    "# Aplicar el mapeo\n",
    "df_madrid['Cancel_Poly'] = df_madrid['Cancellation Policy'].map(ordinal_mapping)"
   ]
  },
  {
   "cell_type": "code",
   "execution_count": 221,
   "metadata": {},
   "outputs": [
    {
     "data": {
      "text/plain": [
       "Cancel_Poly\n",
       "2.0    3794\n",
       "1.0    3078\n",
       "Name: count, dtype: int64"
      ]
     },
     "execution_count": 221,
     "metadata": {},
     "output_type": "execute_result"
    }
   ],
   "source": [
    "df_madrid['Cancel_Poly'].value_counts()"
   ]
  },
  {
   "cell_type": "code",
   "execution_count": 222,
   "metadata": {},
   "outputs": [],
   "source": [
    "df_madrid.drop(columns = ['Cancellation Policy'], inplace = True)   "
   ]
  },
  {
   "cell_type": "markdown",
   "metadata": {},
   "source": [
    "\n",
    "### Features"
   ]
  },
  {
   "cell_type": "code",
   "execution_count": 223,
   "metadata": {},
   "outputs": [
    {
     "data": {
      "text/plain": [
       "Features\n",
       "Host Has Profile Pic,Host Identity Verified,Is Location Exact,Requires License                                                                                                      1807\n",
       "Host Has Profile Pic,Is Location Exact,Requires License                                                                                                                             1592\n",
       "Host Has Profile Pic,Host Identity Verified,Is Location Exact,Requires License,Instant Bookable                                                                                     1259\n",
       "Host Has Profile Pic,Host Identity Verified,Requires License                                                                                                                        1072\n",
       "Host Has Profile Pic,Requires License                                                                                                                                               1037\n",
       "Host Has Profile Pic,Is Location Exact,Requires License,Instant Bookable                                                                                                             875\n",
       "Host Has Profile Pic,Host Identity Verified,Requires License,Instant Bookable                                                                                                        606\n",
       "Host Has Profile Pic,Requires License,Instant Bookable                                                                                                                               472\n",
       "Host Is Superhost,Host Has Profile Pic,Host Identity Verified,Is Location Exact,Requires License                                                                                     330\n",
       "Host Is Superhost,Host Has Profile Pic,Host Identity Verified,Is Location Exact,Requires License,Instant Bookable                                                                    215\n",
       "Host Is Superhost,Host Has Profile Pic,Host Identity Verified,Requires License                                                                                                       143\n",
       "Host Is Superhost,Host Has Profile Pic,Is Location Exact,Requires License                                                                                                            133\n",
       "Host Is Superhost,Host Has Profile Pic,Host Identity Verified,Requires License,Instant Bookable                                                                                       92\n",
       "Host Is Superhost,Host Has Profile Pic,Requires License                                                                                                                               81\n",
       "Host Is Superhost,Host Has Profile Pic,Is Location Exact,Requires License,Instant Bookable                                                                                            79\n",
       "Host Has Profile Pic,Host Identity Verified,Is Location Exact,Requires License,Instant Bookable,Require Guest Phone Verification                                                      73\n",
       "Host Has Profile Pic,Host Identity Verified,Is Location Exact,Requires License,Require Guest Profile Picture,Require Guest Phone Verification                                         58\n",
       "Host Is Superhost,Host Has Profile Pic,Requires License,Instant Bookable                                                                                                              54\n",
       "Host Has Profile Pic,Host Identity Verified,Is Location Exact,Requires License,Instant Bookable,Require Guest Profile Picture,Require Guest Phone Verification                        27\n",
       "Host Has Profile Pic,Host Identity Verified,Is Location Exact,Requires License,Require Guest Phone Verification                                                                       24\n",
       "Host Has Profile Pic,Is Location Exact,Requires License,Require Guest Profile Picture,Require Guest Phone Verification                                                                20\n",
       "Host Has Profile Pic,Is Location Exact,Requires License,Require Guest Phone Verification                                                                                              19\n",
       "Host Is Superhost,Host Has Profile Pic,Host Identity Verified,Is Location Exact,Requires License,Require Guest Profile Picture,Require Guest Phone Verification                       18\n",
       "Is Location Exact,Requires License                                                                                                                                                    17\n",
       "Host Is Superhost,Host Has Profile Pic,Host Identity Verified,Is Location Exact,Requires License,Instant Bookable,Require Guest Profile Picture,Require Guest Phone Verification      12\n",
       "Host Has Profile Pic,Host Identity Verified,Is Location Exact,Requires License,Instant Bookable,Require Guest Profile Picture                                                         11\n",
       "Requires License                                                                                                                                                                      11\n",
       "Host Is Superhost,Host Has Profile Pic,Host Identity Verified,Is Location Exact,Requires License,Require Guest Phone Verification                                                     10\n",
       "Host Has Profile Pic,Host Identity Verified,Requires License,Instant Bookable,Require Guest Phone Verification                                                                        10\n",
       "Host Has Profile Pic,Host Identity Verified,Requires License,Require Guest Profile Picture,Require Guest Phone Verification                                                           10\n",
       "Host Is Superhost,Host Has Profile Pic,Host Identity Verified,Requires License,Require Guest Profile Picture,Require Guest Phone Verification                                          5\n",
       "Requires License,Instant Bookable                                                                                                                                                      5\n",
       "Host Has Profile Pic,Host Identity Verified,Requires License,Instant Bookable,Require Guest Profile Picture,Require Guest Phone Verification                                           4\n",
       "Host Has Profile Pic,Requires License,Require Guest Profile Picture,Require Guest Phone Verification                                                                                   4\n",
       "Host Is Superhost,Host Has Profile Pic,Host Identity Verified,Is Location Exact,Requires License,Instant Bookable,Require Guest Phone Verification                                     4\n",
       "Host Has Profile Pic,Is Location Exact,Requires License,Require Guest Profile Picture                                                                                                  4\n",
       "Host Has Profile Pic,Is Location Exact,Requires License,Instant Bookable,Require Guest Profile Picture,Require Guest Phone Verification                                                4\n",
       "Is Location Exact,Requires License,Instant Bookable                                                                                                                                    3\n",
       "Host Has Profile Pic,Host Identity Verified,Is Location Exact,Requires License,Require Guest Profile Picture                                                                           3\n",
       "Host Is Superhost,Host Has Profile Pic,Is Location Exact,Requires License,Require Guest Phone Verification                                                                             3\n",
       "Host Is Superhost,Host Has Profile Pic,Host Identity Verified,Is Location Exact,Requires License,Require Guest Profile Picture                                                         3\n",
       "Host Has Profile Pic,Is Location Exact,Requires License,Instant Bookable,Require Guest Profile Picture                                                                                 2\n",
       "Host Has Profile Pic,Requires License,Require Guest Phone Verification                                                                                                                 2\n",
       "Host Has Profile Pic,Is Location Exact,Requires License,Instant Bookable,Require Guest Phone Verification                                                                              2\n",
       "Host Is Superhost,Host Has Profile Pic,Host Identity Verified,Requires License,Require Guest Profile Picture                                                                           2\n",
       "Host Has Profile Pic,Host Identity Verified,Requires License,Require Guest Phone Verification                                                                                          2\n",
       "Host Has Profile Pic,Host Identity Verified,Requires License,Require Guest Profile Picture                                                                                             2\n",
       "Host Is Superhost,Host Has Profile Pic,Is Location Exact,Requires License,Require Guest Profile Picture,Require Guest Phone Verification                                               2\n",
       "Host Is Superhost,Host Has Profile Pic,Host Identity Verified,Requires License,Require Guest Phone Verification                                                                        2\n",
       "Host Is Superhost,Host Has Profile Pic,Host Identity Verified,Requires License,Instant Bookable,Require Guest Profile Picture,Require Guest Phone Verification                         2\n",
       "Host Has Profile Pic,Requires License,Instant Bookable,Require Guest Phone Verification                                                                                                1\n",
       "Host Is Superhost,Host Has Profile Pic,Requires License,Require Guest Profile Picture,Require Guest Phone Verification                                                                 1\n",
       "Host Has Profile Pic,Requires License,Instant Bookable,Require Guest Profile Picture,Require Guest Phone Verification                                                                  1\n",
       "Host Is Superhost,Host Has Profile Pic,Is Location Exact,Requires License,Instant Bookable,Require Guest Profile Picture                                                               1\n",
       "Host Is Superhost,Host Has Profile Pic,Is Location Exact,Requires License,Instant Bookable,Require Guest Phone Verification                                                            1\n",
       "Host Has Profile Pic,Host Identity Verified,Requires License,Instant Bookable,Require Guest Profile Picture                                                                            1\n",
       "Host Has Profile Pic,Requires License,Require Guest Profile Picture                                                                                                                    1\n",
       "Host Is Superhost,Host Has Profile Pic,Host Identity Verified,Requires License,Instant Bookable,Require Guest Profile Picture                                                          1\n",
       "Host Is Superhost,Host Has Profile Pic,Is Location Exact,Requires License,Instant Bookable,Require Guest Profile Picture,Require Guest Phone Verification                              1\n",
       "Host Is Superhost,Host Has Profile Pic,Host Identity Verified,Is Location Exact,Requires License,Instant Bookable,Require Guest Profile Picture                                        1\n",
       "Name: count, dtype: int64"
      ]
     },
     "execution_count": 223,
     "metadata": {},
     "output_type": "execute_result"
    }
   ],
   "source": [
    "df_madrid[\"Features\"].value_counts()"
   ]
  },
  {
   "cell_type": "code",
   "execution_count": 224,
   "metadata": {},
   "outputs": [
    {
     "name": "stdout",
     "output_type": "stream",
     "text": [
      "['Require Guest Phone Verification', 'Requires License', 'Host Identity Verified', 'Host Has Profile Pic', 'Require Guest Profile Picture', 'Instant Bookable', 'Is Location Exact', 'Host Is Superhost']\n"
     ]
    }
   ],
   "source": [
    "# Paso 1: Extraer todas las características únicas\n",
    "all_features = df_madrid['Features'].fillna('').apply(lambda x: x.split(','))\n",
    "# Paso 2: Aplanar todas las listas en una sola lista\n",
    "flattened_features = [item for sublist in all_features for item in sublist]\n",
    "# Paso 3: Obtener características únicas\n",
    "unique_features = list(set(flattened_features))\n",
    "print(unique_features)"
   ]
  },
  {
   "cell_type": "code",
   "execution_count": 225,
   "metadata": {},
   "outputs": [],
   "source": [
    "features_mapping = {\n",
    "    \"Is Location Exact\": 7,\n",
    "    \"Require Guest Phone Verification\": 3,\n",
    "    \"Requires License\": 4,\n",
    "    \"Host Identity Verified\": 6,\n",
    "    \"Host Is Superhost\": 10,\n",
    "    \"Host Has Profile Pic\": 5,\n",
    "    \"Require Guest Profile Picture\": 3,\n",
    "    \"Instant Bookable\": 8\n",
    "}"
   ]
  },
  {
   "cell_type": "code",
   "execution_count": 226,
   "metadata": {},
   "outputs": [],
   "source": [
    "# Función para calcular el valor de las características\n",
    "def calculate_features_value(row, features_mapping):\n",
    "    # Verificar si el valor es una cadena y no está vacío\n",
    "    if isinstance(row, str) and row.strip():\n",
    "        # Obtener las verificaciones presentes en la observación\n",
    "        verifications = row.split(',')\n",
    "        \n",
    "        # Obtener las puntuaciones de seguridad para cada verificación presente\n",
    "        scores = [features_mapping.get(verification.strip(), 0) for verification in verifications]\n",
    "        \n",
    "        # Sumar las puntuaciones de los distintos amenities, devolver el máximo\n",
    "        return max(scores) if scores else 0\n",
    "    else:\n",
    "        # Si la fila es nula o no es una cadena, asignar 0\n",
    "        return 0\n",
    "\n",
    "# Aplicar la función a la columna 'Features'\n",
    "df_madrid['Features_value'] = df_madrid['Features'].apply(calculate_features_value, args=(features_mapping,))"
   ]
  },
  {
   "cell_type": "code",
   "execution_count": 227,
   "metadata": {},
   "outputs": [],
   "source": [
    "# Calcular los percentiles de la distribución de 'Features_value'\n",
    "percentiles = df_madrid['Features_value'].quantile([0.33, 0.66])\n",
    "\n",
    "# Función para asignar grupos según los percentiles\n",
    "def asignar_valor(valor):\n",
    "    if valor <= percentiles[0.33]:\n",
    "        return 'Baja relevancia'\n",
    "    elif valor <= percentiles[0.66]:\n",
    "        return 'Relevancia media'\n",
    "    else:\n",
    "        return 'Alta relevancia'\n",
    "\n",
    "# Aplicar la función\n",
    "df_madrid['Feature_importance'] = df_madrid['Features_value'].apply(asignar_valor)\n"
   ]
  },
  {
   "cell_type": "code",
   "execution_count": 228,
   "metadata": {},
   "outputs": [
    {
     "data": {
      "text/plain": [
       "Feature_importance\n",
       "Baja relevancia     5685\n",
       "Relevancia media    3356\n",
       "Alta relevancia     1196\n",
       "Name: count, dtype: int64"
      ]
     },
     "execution_count": 228,
     "metadata": {},
     "output_type": "execute_result"
    }
   ],
   "source": [
    "# Ver la distribución resultante\n",
    "df_madrid['Feature_importance'].value_counts()"
   ]
  },
  {
   "cell_type": "code",
   "execution_count": 229,
   "metadata": {},
   "outputs": [],
   "source": [
    "# Crear un diccionario para mapear las categorías a números\n",
    "ordinal_mapping = {\n",
    "    \"Alta relevancia\": 2,\n",
    "    \"Relevancia media\": 1,\n",
    "    \"Baja relevancia\": 0\n",
    "}\n",
    "\n",
    "# Aplicar el mapeo\n",
    "df_madrid['Feature_Level'] = df_madrid['Feature_importance'].map(ordinal_mapping)"
   ]
  },
  {
   "cell_type": "code",
   "execution_count": 230,
   "metadata": {},
   "outputs": [
    {
     "data": {
      "text/plain": [
       "Feature_Level\n",
       "0    5685\n",
       "1    3356\n",
       "2    1196\n",
       "Name: count, dtype: int64"
      ]
     },
     "execution_count": 230,
     "metadata": {},
     "output_type": "execute_result"
    }
   ],
   "source": [
    "df_madrid['Feature_Level'].value_counts()"
   ]
  },
  {
   "cell_type": "code",
   "execution_count": 231,
   "metadata": {},
   "outputs": [],
   "source": [
    "df_madrid.drop(columns = ['Features', 'Features_value', 'Feature_importance'], inplace = True)"
   ]
  },
  {
   "cell_type": "markdown",
   "metadata": {},
   "source": [
    "Y ahora aplicamos a test:"
   ]
  },
  {
   "cell_type": "code",
   "execution_count": 232,
   "metadata": {},
   "outputs": [],
   "source": [
    "df_madrid_test = test.copy()"
   ]
  },
  {
   "cell_type": "markdown",
   "metadata": {},
   "source": [
    "Aplicamos los mismos cambios sobre el ***test***"
   ]
  },
  {
   "cell_type": "code",
   "execution_count": 233,
   "metadata": {},
   "outputs": [
    {
     "name": "stdout",
     "output_type": "stream",
     "text": [
      "['Require Guest Phone Verification', 'Requires License', 'Host Identity Verified', 'Host Has Profile Pic', 'Require Guest Profile Picture', 'Instant Bookable', 'Is Location Exact', 'Host Is Superhost']\n"
     ]
    }
   ],
   "source": [
    "var_descriptivas_test = df_madrid_test[['Summary', 'Space', 'Description', 'Neighborhood Overview', 'Notes',\n",
    "                                        'Transit', 'Access', 'Interaction', 'House Rules', 'Host About']].copy()\n",
    "\n",
    "df_madrid_test.drop(columns = ['Summary', 'Space', 'Description', 'Neighborhood Overview', 'Notes',\n",
    "                                        'Transit', 'Access', 'Interaction', 'House Rules', 'Host About'], inplace = True)\n",
    "\n",
    "#  Price\n",
    "\n",
    "df_madrid_test['Price'] = np.log1p(df_madrid_test['Price'])\n",
    "#df_madrid_test.drop(columns = ['Price'], inplace = True)\n",
    "\n",
    "\n",
    "#  Host ID \n",
    "\n",
    "\n",
    "\n",
    "df_madrid_test['Host Type'] = df_madrid_test.groupby('Host ID')['Host ID'].transform(lambda x: 'Empresa' if len(x) > 2 else 'Propietario Particular')\n",
    "\n",
    "df_madrid_test = pd.get_dummies(df_madrid_test, columns=['Host Type'], drop_first=True)\n",
    "\n",
    "df_madrid_test.drop(columns = ['Host ID'], inplace = True)\n",
    "\n",
    "\n",
    "\n",
    "#  Host Since  \n",
    "\n",
    "\n",
    "from datetime import datetime\n",
    "fecha_fija = datetime.strptime('2017-04-08', '%Y-%m-%d')\n",
    "df_madrid_test['Host Since'] = pd.to_datetime(df_madrid_test['Host Since'])  # Convertir a formato fecha\n",
    "df_madrid_test['host_years_active'] = fecha_fija.year - df_madrid_test['Host Since'].dt.year\n",
    "\n",
    "df_madrid_test['host_years_grouped'] = pd.cut(df_madrid_test['host_years_active'], \n",
    "                                  bins=[-1, 1, 3, 5, 8], \n",
    "                                  labels=['Nuevo', \n",
    "                                          'Principiante', \n",
    "                                          'Intermedio', \n",
    "                                          'Experimentado'])\n",
    "\n",
    "\n",
    "# Crear un diccionario para mapear las categorías a números\n",
    "ordinal_mapping = {\n",
    "    \"Nuevo\": 0,\n",
    "    \"Principiante\": 1,\n",
    "    \"Intermedio\": 2,\n",
    "    \"Experimentado\": 3\n",
    "}\n",
    "\n",
    "# Aplicar el mapeo\n",
    "df_madrid_test['host_years_grouped_Encoded'] = df_madrid_test['host_years_grouped'].map(ordinal_mapping)\n",
    "\n",
    "df_madrid_test.drop(columns = ['Host Since', 'host_years_active', 'host_years_grouped'], inplace = True)\n",
    "\n",
    "\n",
    "\n",
    "#  Host Response Time\n",
    "\n",
    "\n",
    "\n",
    "\n",
    "# Crear un diccionario para mapear las categorías a números\n",
    "ordinal_mapping = {\n",
    "    \"a few days or more\": 0,\n",
    "    \"within a day\": 1,\n",
    "    \"within a few hours\": 2,\n",
    "    \"within an hour\": 3\n",
    "}\n",
    "\n",
    "# Aplicar el mapeo\n",
    "df_madrid_test['Host Response Time Encoded'] = df_madrid_test['Host Response Time'].map(ordinal_mapping)\n",
    "\n",
    "df_madrid_test.drop(columns = ['Host Response Time'], inplace = True)\n",
    "\n",
    "\n",
    "\n",
    "\n",
    "#  Host Response Rate\n",
    "\n",
    "\n",
    "\n",
    "\n",
    "# Definir los bins y las etiquetas\n",
    "bins = [-1, 0, 50, 75, 90, 100]\n",
    "labels = [\"No response\", \"Low\", \"Medium\", \"High\", \"Very high\"]\n",
    "\n",
    "# Crear la nueva variable categórica ordinal\n",
    "df_madrid_test['Host Response Rate Grouped'] = pd.cut(df_madrid_test['Host Response Rate'], bins=bins, labels=labels, include_lowest=True)\n",
    "\n",
    "# Crear un diccionario para mapear las categorías a números\n",
    "ordinal_mapping = {\n",
    "    \"No response\": 0,\n",
    "    \"Low\": 1,\n",
    "    \"Medium\": 2,\n",
    "    \"High\": 3,\n",
    "    \"Very high\": 4\n",
    "}\n",
    "\n",
    "# Aplicar el mapeo\n",
    "df_madrid_test['Host Response Rate Encoded'] = df_madrid_test['Host Response Rate Grouped'].map(ordinal_mapping)\n",
    "\n",
    "df_madrid_test.drop(columns = ['Host Response Rate', 'Host Response Rate Grouped'], inplace = True)\n",
    "\n",
    "\n",
    "\n",
    "\n",
    "# Host Listings Count\n",
    "\n",
    "\n",
    "\n",
    "# Paso 2: Análisis con IQR\n",
    "Q1 = df_madrid_test['Host Listings Count'].quantile(0.25)\n",
    "Q3 = df_madrid_test['Host Listings Count'].quantile(0.75)\n",
    "IQR = Q3 - Q1\n",
    "\n",
    "upper_limit = Q3 + 1.5 * IQR\n",
    "\n",
    "outliers_iqr = df_madrid_test[(df_madrid_test['Host Listings Count'] > upper_limit)]\n",
    "\n",
    "\n",
    "percentiles = df_madrid_test['Host Listings Count'].quantile([0.5, 0.9])  # Mediana (50%) y percentil 90\n",
    "\n",
    "# Definir los límites de los grupos\n",
    "bins = [df_madrid_test['Host Listings Count'].min(),  # Valor mínimo\n",
    "        percentiles[0.5],  # Mediana (punto de corte para \"Principiante\")\n",
    "        percentiles[0.9],  # Percentil 90 (punto de corte para \"Intermedio\")\n",
    "        70,  #Umbral para \"Experimentado\" (más de 70 propiedades)\n",
    "        df_madrid_test['Host Listings Count'].max()]  # Valor máximo\n",
    "\n",
    "# Etiquetas para los grupos\n",
    "labels = ['Principiante', 'Intermedio', 'Experimentado', 'Empresas grandes']\n",
    "\n",
    "# Crear la nueva variable agrupada\n",
    "df_madrid_test['Host_Experience_Level'] = pd.cut(df_madrid_test['Host Listings Count'], bins=bins, labels=labels, include_lowest=True)\n",
    "\n",
    "df_madrid_test = pd.get_dummies(df_madrid_test, columns=['Host_Experience_Level'])\n",
    "\n",
    "df_madrid_test.drop(columns = ['Host Listings Count'], inplace = True)\n",
    "\n",
    "\n",
    "\n",
    "#  Host Verifications\n",
    "\n",
    "\n",
    "\n",
    "# Paso 1: Extraer todas las características únicas\n",
    "all_host_verifications = madrid_df['Host Verifications'].fillna('').apply(lambda x: x.split(','))\n",
    "# Paso 2: Aplanar todas las listas en una sola lista\n",
    "flattened_features = [item for sublist in all_host_verifications for item in sublist]\n",
    "# Paso 3: Obtener características únicas\n",
    "host_verifications = list(set(flattened_features))\n",
    "\n",
    "security_dict = {\n",
    "    'amex': 8,  # Método de pago, Alta seguridad\n",
    "    'google': 7,  # Verificación de Google, Moderada\n",
    "    'kba': 5,  # Preguntas de seguridad (Baja seguridad)\n",
    "    'government_id': 10,  # Alta seguridad\n",
    "    'manual_online': 3,  # Baja seguridad\n",
    "    'sent_id': 2,  # Baja seguridad\n",
    "    'work_email': 7,  # Moderada\n",
    "    'selfie': 6,  # Moderada\n",
    "    'weibo': 1,  # Baja seguridad\n",
    "    'offline_government_id': 10,  # Alta seguridad\n",
    "    'identity_manual': 10,  # Alta seguridad\n",
    "    'jumio': 9,  # Alta seguridad\n",
    "    'linkedin': 7,  # Moderada\n",
    "    'facebook': 6,  # Moderada\n",
    "    'manual_offline': 4,  # Baja seguridad\n",
    "    'phone': 5,  # Moderada\n",
    "    'email': 6,  # Moderada\n",
    "    'photographer': 3,  # Baja seguridad\n",
    "    'reviews': 4  # Moderada\n",
    "}\n",
    "\n",
    "def calculate_security_level(row, security_dict):\n",
    "    # Verificar si el valor es una cadena y no está vacío\n",
    "    if isinstance(row, str) and row.strip():\n",
    "        # Obtener las verificaciones presentes en la observación\n",
    "        verifications = row.split(',')\n",
    "        \n",
    "        # Obtener las puntuaciones de seguridad para cada verificación presente\n",
    "        scores = [security_dict.get(verification.strip(), 0) for verification in verifications]\n",
    "        \n",
    "        # Tomar el máximo valor de las puntuaciones (no promedio)\n",
    "        return max(scores) if scores else 0\n",
    "    else:\n",
    "        # Si la fila es nula o no es una cadena, asignar 0\n",
    "        return 0\n",
    "\n",
    "# Aplicar la función a la columna 'Host Verifications'\n",
    "df_madrid_test['Security_Level'] = df_madrid_test['Host Verifications'].apply(calculate_security_level, args=(security_dict,))\n",
    "\n",
    "\n",
    "# Crear una variable de seguridad agrupada (Alta, Media, Baja)\n",
    "def categorize_security_level(score):\n",
    "    if score >= 8:\n",
    "        return 'Alta seguridad'\n",
    "    elif score >= 5:\n",
    "        return 'Seguridad media'\n",
    "    else:\n",
    "        return 'Baja seguridad'\n",
    "\n",
    "# Aplicar la categorización\n",
    "df_madrid_test['Security_Category'] = df_madrid_test['Security_Level'].apply(categorize_security_level)\n",
    "\n",
    "# Crear un diccionario para mapear las categorías a números\n",
    "ordinal_mapping = {\n",
    "    \"Alta seguridad\": 2,\n",
    "    \"Seguridad media\": 1,\n",
    "    \"Baja seguridad\": 0\n",
    "}\n",
    "\n",
    "# Aplicar el mapeo\n",
    "df_madrid_test['Security Level'] = df_madrid_test['Security_Category'].map(ordinal_mapping)\n",
    "\n",
    "df_madrid_test.drop(columns = ['Host Verifications', 'Security_Level', 'Security_Category'], inplace = True)\n",
    "\n",
    "\n",
    "\n",
    "#  Neighbourhood Cleansed\n",
    "\n",
    "\n",
    "\n",
    "optimal_k = 3  # Elegimos el número adecuado según la gráfica\n",
    "kmeans = KMeans(n_clusters=optimal_k, random_state=42, n_init=10)\n",
    "barrio_precios['Price_Category'] = kmeans.fit_predict(barrio_precios[['Avg_Price']])\n",
    "\n",
    "# Mapear los clusters a etiquetas más interpretables con 4 grupos\n",
    "quantiles = barrio_precios['Price_Category'].quantile([0.25, 0.50, 0.75])\n",
    "\n",
    "mapping = {\n",
    "    barrio_precios['Price_Category'].min(): 'Barato',\n",
    "    barrio_precios['Price_Category'].median(): 'Precio Medio',\n",
    "    barrio_precios['Price_Category'].max(): 'caro'\n",
    "}\n",
    "barrio_precios['Price_Category'] = barrio_precios['Price_Category'].map(mapping)\n",
    "barrio_precios = barrio_precios.dropna(subset=['Price_Category'])\n",
    "\n",
    "df_madrid_test = df_madrid_test.merge(barrio_precios[['Neighbourhood', 'Price_Category']], left_on='Neighbourhood Cleansed', right_on='Neighbourhood', how='left')\n",
    "\n",
    "# Crear un diccionario para mapear las categorías a números\n",
    "ordinal_mapping = {\n",
    "    \"caro\": 2,\n",
    "    \"Precio Medio\": 1\n",
    "}\n",
    "\n",
    "# Aplicar el mapeo\n",
    "df_madrid_test['Price Level'] = df_madrid_test['Price_Category'].map(ordinal_mapping)\n",
    "\n",
    "df_madrid_test.drop(columns = ['Neighbourhood Cleansed','Neighbourhood','Price_Category'], inplace = True)\n",
    "\n",
    "\n",
    "\n",
    "#  Property Type\n",
    "\n",
    "\n",
    "\n",
    "\n",
    "agrupaciones = {\n",
    "    'Apartamentos': ['Apartment', 'Condominium', 'Loft', 'Serviced apartment'],\n",
    "    'Casas': ['House', 'Villa', 'Townhouse', 'Earth House', 'Bungalow', 'Chalet', 'Guest suite', 'Casa particular'],\n",
    "    'Alojamientos compartidos': ['Bed & Breakfast', 'Hostel', 'Dorm', 'Guesthouse', 'Boutique hotel'],\n",
    "    'Alojamientos poco convencionales': ['Camper/RV', 'Boat', 'Tent', 'Timeshare', 'Other']\n",
    "}\n",
    "\n",
    "# Función para asignar grupo\n",
    "def asignar_grupo(propiedad):\n",
    "    for grupo, tipos in agrupaciones.items():\n",
    "        if propiedad in tipos:\n",
    "            return grupo\n",
    "    return 'Otros'  # Si no encuentra coincidencia\n",
    "\n",
    "# Aplicar la función\n",
    "df_madrid_test['Property Type Group'] = df_madrid_test['Property Type'].apply(asignar_grupo)\n",
    "\n",
    "# Convertir a variables dummy\n",
    "df_madrid_test = pd.get_dummies(df_madrid_test, columns=['Property Type Group'], drop_first=True)\n",
    "\n",
    "df_madrid_test.drop(columns = ['Property Type'], inplace = True)\n",
    "\n",
    "\n",
    "#  Room Type\n",
    "\n",
    "\n",
    "\n",
    "# Aplicar One-Hot Encoding a la columna 'Room Type'\n",
    "room_type_dummies = pd.get_dummies(df_madrid_test['Room Type'], prefix='Room Type')\n",
    "\n",
    "# Concatenar las columnas de One-Hot Encoding al DataFrame original (opcional)\n",
    "df_madrid_test = pd.concat([df_madrid_test, room_type_dummies], axis=1)\n",
    "\n",
    "df_madrid_test.drop(columns = ['Room Type'], inplace = True)\n",
    "\n",
    "\n",
    "\n",
    "\n",
    "#  Accommodates\n",
    "\n",
    "\n",
    "\n",
    "df_madrid_test['Accommodates Category'] = pd.cut(df_madrid_test['Accommodates'],\n",
    "                                             bins=[0, 4, 7, float('inf')],\n",
    "                                             labels=['Bajo', 'Medio', 'Alto'],\n",
    "                                             right=False)\n",
    "\n",
    "df_madrid_test = pd.get_dummies(df_madrid_test, columns=['Accommodates Category'], drop_first=True)\n",
    "\n",
    "\n",
    "df_madrid_test.drop(columns = ['Accommodates'], inplace = True)\n",
    "\n",
    "\n",
    "\n",
    "\n",
    "#Bathrooms\n",
    "\n",
    "\n",
    "\n",
    "df_madrid_test['N Bathrooms'] = pd.cut(df_madrid_test['Bathrooms'],\n",
    "                                             bins=[0, 1, 2, 4, float('inf')],\n",
    "                                             labels=['Bajo', 'Medio', 'Alto', 'Muy elevado'],\n",
    "                                             right=False)\n",
    "\n",
    "df_madrid_test = pd.get_dummies(df_madrid_test, columns=['N Bathrooms'], drop_first= True)\n",
    "\n",
    "df_madrid_test.drop(columns = ['Bathrooms'], inplace = True)\n",
    "\n",
    "\n",
    "\n",
    "\n",
    "#  Bedrooms\n",
    "\n",
    "\n",
    "\n",
    "\n",
    "df_madrid_test['N Bedrooms'] = pd.cut(df_madrid_test['Bedrooms'],\n",
    "                                             bins=[0, 1, 3, 4, float('inf')],\n",
    "                                             labels=['Bajo', 'Medio', 'Alto', 'Muy elevado'],\n",
    "                                             right=False)\n",
    "\n",
    "\n",
    "\n",
    "\n",
    "ordinal_mapping = {\n",
    "    \"Bajo\": 0,\n",
    "    \"Medio\": 1,\n",
    "    \"Alto\": 2,\n",
    "    \"Muy elevado\": 3\n",
    "}\n",
    "\n",
    "df_madrid_test['N_Bedrooms_Ordinal'] = df_madrid_test['N Bedrooms'].map(ordinal_mapping)\n",
    "\n",
    "\n",
    "df_madrid_test.drop(columns = ['N Bedrooms'], inplace = True)\n",
    "\n",
    "\n",
    "\n",
    "#  Relación Bedrooms-Beds\n",
    "\n",
    "\n",
    "\n",
    "\n",
    "df_madrid_test['beds_per_bedroom'] = df_madrid_test['Beds'] / df_madrid_test['Bedrooms']\n",
    "\n",
    "bins = [0, 1.5, 2.5, 5.0, float('inf')]\n",
    "labels = ['Bajo', 'Medio', 'Alto', 'Muy elevado']\n",
    "\n",
    "# Agrupar la variable \"beds_per_bedroom\"\n",
    "df_madrid_test['Beds per Bedroom Group'] = pd.cut(df_madrid_test['beds_per_bedroom'], bins=bins, labels=labels, right=False)\n",
    "\n",
    "ordinal_mapping = {\n",
    "    \"Bajo\": 0,\n",
    "    \"Medio\": 1,\n",
    "    \"Alto\": 2,\n",
    "    \"Muy elevado\": 3\n",
    "}\n",
    "\n",
    "df_madrid_test['Beds per Bedrooms'] = df_madrid_test['Beds per Bedroom Group'].map(ordinal_mapping)\n",
    "\n",
    "\n",
    "df_madrid_test.drop(columns = ['Bedrooms', 'Beds', 'Beds per Bedroom Group', 'beds_per_bedroom'], inplace = True)\n",
    "\n",
    "\n",
    "\n",
    "#   Bed Type\n",
    "\n",
    "\n",
    "\n",
    "df_madrid_test['Real_Bed'] = madrid_df['Bed Type'].apply(lambda x: 'Real Bed' if x == 'Real Bed' else 'Other')\n",
    "\n",
    "# Crear un diccionario para mapear las categorías a números\n",
    "ordinal_mapping = {\n",
    "    \"Real Bed\": 1,\n",
    "    \"Other\": 0\n",
    "}\n",
    "\n",
    "# Aplicar el mapeo\n",
    "df_madrid_test['Bed_type'] = df_madrid_test['Real_Bed'].map(ordinal_mapping)\n",
    "\n",
    "df_madrid_test.drop(columns = ['Bed Type','Real_Bed'], inplace = True)\n",
    "\n",
    "\n",
    "\n",
    "#  Amenities\n",
    "\n",
    "\n",
    "\n",
    "\n",
    "# Paso 1: Extraer todas las características únicas\n",
    "Amenities = madrid_df['Amenities'].fillna('').apply(lambda x: x.split(','))\n",
    "# Paso 2: Aplanar todas las listas en una sola lista\n",
    "flattened_features = [item for sublist in Amenities for item in sublist]\n",
    "# Paso 3: Obtener características únicas\n",
    "Amenities = list(set(flattened_features))\n",
    "\n",
    "amenities_dict = {\n",
    "    'Hair dryer': 7,\n",
    "    'Stair gates': 4,\n",
    "    'Babysitter recommendations': 6,\n",
    "    'translation missing: en.hosting_amenity_49': 2,\n",
    "    '24-hour check-in': 8,\n",
    "    'Pool': 9,\n",
    "    'Safety card': 3,\n",
    "    'Changing table': 5,\n",
    "    'Lockbox': 7,\n",
    "    'Laptop friendly workspace': 8,\n",
    "    \"Children’s dinnerware\": 5,\n",
    "    'Hangers': 6,\n",
    "    'Lock on bedroom door': 6,\n",
    "    'Room-darkening shades': 7,\n",
    "    'Baby bath': 5,\n",
    "    'Private living room': 8,\n",
    "    'Shampoo': 7,\n",
    "    'Kitchen': 10,\n",
    "    'Smoking allowed': 3,\n",
    "    'Smartlock': 7,\n",
    "    'Dog(s)': 6,\n",
    "    'Hot tub': 9,\n",
    "    'Crib': 5,\n",
    "    'Pets allowed': 7,\n",
    "    'Suitable for events': 6,\n",
    "    'High chair': 5,\n",
    "    'Smoke detector': 9,\n",
    "    'Outlet covers': 4,\n",
    "    \"Children’s books and toys\": 4,\n",
    "    'Wireless Internet': 10,\n",
    "    'Air conditioning': 9,\n",
    "    'Wheelchair accessible': 7,\n",
    "    'Window guards': 5,\n",
    "    'Indoor fireplace': 8,\n",
    "    'Breakfast': 7,\n",
    "    'Washer': 8,\n",
    "    'Other pet(s)': 6,\n",
    "    'Heating': 8,\n",
    "    'Free parking on premises': 9,\n",
    "    'Washer / Dryer': 8,\n",
    "    'Essentials': 9,\n",
    "    'Elevator in building': 7,\n",
    "    'Bathtub': 7,\n",
    "    'Game console': 6,\n",
    "    'Pets live on this property': 6,\n",
    "    'Iron': 7,\n",
    "    'Free parking on street': 8,\n",
    "    'First aid kit': 7,\n",
    "    'Keypad': 7,\n",
    "    'Gym': 8,\n",
    "    'Private entrance': 8,\n",
    "    'Self Check-In': 8,\n",
    "    'translation missing: en.hosting_amenity_50': 2,\n",
    "    'Cable TV': 7,\n",
    "    'Carbon monoxide detector': 9,\n",
    "    'TV': 7,\n",
    "    'Doorman Entry': 6,\n",
    "    'Dryer': 8,\n",
    "    'Family/kid friendly': 8,\n",
    "    'Fire extinguisher': 9,\n",
    "    'Cat(s)': 6,\n",
    "    'Table corner guards': 4,\n",
    "    \"Pack ’n Play/travel crib\": 5,\n",
    "    'Buzzer/wireless intercom': 6,\n",
    "    'Doorman': 7,\n",
    "    'Paid parking off premises': 6,\n",
    "    'Internet': 10\n",
    "}\n",
    "\n",
    "\n",
    "def calculate_amenity_utility(row, amenities_dict):\n",
    "    # Verificar si el valor es una cadena y no está vacío\n",
    "    if isinstance(row, str) and row.strip():\n",
    "        # Obtener los amenities presentes en la observación\n",
    "        verifications = row.split(',')\n",
    "        \n",
    "        # Obtener las puntuaciones de utilidad para cada amenitie presente\n",
    "        scores = [amenities_dict.get(verification.strip(), 0) for verification in verifications]\n",
    "        \n",
    "        # sumar las puntuaciones de los distintos amaneities\n",
    "        return sum(scores) if scores else 0\n",
    "    else:\n",
    "        # Si la fila es nula o no es una cadena, asignar 0\n",
    "        return 0\n",
    "\n",
    "# Aplicar la función a la columna 'Amenities'\n",
    "df_madrid_test['Amenity Utility'] = df_madrid_test['Amenities'].apply(calculate_amenity_utility, args=(security_dict,))\n",
    "\n",
    "# Calcular los percentiles de la distribución\n",
    "percentiles = df_madrid_test['Amenity Utility'].value_counts().quantile([0.33, 0.66])\n",
    "\n",
    "# Agrupar según los percentiles\n",
    "def asignar_comodidad(valor):\n",
    "    if valor <= percentiles[0.33]:\n",
    "        return 'Baja comodidad'\n",
    "    elif valor <= percentiles[0.66]:\n",
    "        return 'Comodidad media'\n",
    "    else:\n",
    "        return 'Alta comodidad'\n",
    "\n",
    "# Aplicar la función\n",
    "df_madrid_test['Comodidad'] = df_madrid_test['Amenity Utility'].map(lambda x: asignar_comodidad(x))\n",
    "\n",
    "# Crear un diccionario para mapear las categorías a números\n",
    "ordinal_mapping = {\n",
    "    \"Alta comodidad\": 2,\n",
    "    \"Comodidad media\": 1,\n",
    "    \"Baja comodidad\": 0\n",
    "}\n",
    "\n",
    "# Aplicar el mapeo\n",
    "df_madrid_test['comfort Level'] = df_madrid_test['Comodidad'].map(ordinal_mapping)\n",
    "\n",
    "df_madrid_test.drop(columns = ['Amenity Utility','Comodidad','Amenities'], inplace = True)\n",
    "\n",
    "\n",
    "\n",
    "\n",
    "#   Weekly Price y Monthly Price\n",
    "\n",
    "\n",
    "df_madrid_test.drop(columns=['Weekly Price', 'Monthly Price'], inplace = True)\n",
    "\n",
    "\n",
    "\n",
    "#   Security Deposit\n",
    "\n",
    "\n",
    "\n",
    "df_madrid_test = df_madrid_test.drop(df_madrid_test[df_madrid_test['Security Deposit'] > 600 ].index)\n",
    "\n",
    "\n",
    "def categorize_security_deposit(value):\n",
    "    if value <= 100:\n",
    "        return \"Low Deposit\"\n",
    "    elif 101 <= value <= 300:\n",
    "        return \"Medium Deposit\"\n",
    "    else:\n",
    "        return \"High Deposit\"\n",
    "\n",
    "# Aplicar la función a la columna 'Security Deposit'\n",
    "df_madrid_test['Security Deposit Category'] = df_madrid_test['Security Deposit'].apply(categorize_security_deposit)\n",
    "\n",
    "\n",
    "# Crear un diccionario para mapear las categorías a números\n",
    "ordinal_mapping = {\n",
    "    \"Low Deposit\": 1,\n",
    "    \"Medium Deposit\": 2,\n",
    "    \"High Deposit\": 3\n",
    "}\n",
    "# Aplicar el mapeo\n",
    "df_madrid_test['Security_Deposit'] = df_madrid_test['Security Deposit Category'].map(ordinal_mapping)\n",
    "\n",
    "df_madrid_test.drop(columns = ['Security Deposit Category', 'Security Deposit'], inplace = True)\n",
    "\n",
    "\n",
    "\n",
    "\n",
    "#   Cleaning Fee\n",
    "\n",
    "\n",
    "df_madrid_test = df_madrid_test.drop(df_madrid_test[df_madrid_test['Cleaning Fee'] > 100].index)\n",
    "\n",
    "def categorize_cleaning_fee(value):\n",
    "    if value <= 20:\n",
    "        return \"Baja tarifa de limpieza\"\n",
    "    elif 21 <= value <= 50:\n",
    "        return \"Tarifa media de limpieza\"\n",
    "    else:\n",
    "        return \"Alta tarifa de limpieza\"\n",
    "\n",
    "# Aplicar la función a la columna 'Security Deposit'\n",
    "df_madrid_test['Cleaning Fee Category'] = df_madrid_test['Cleaning Fee'].apply(categorize_cleaning_fee)\n",
    "\n",
    "# Crear un diccionario para mapear las categorías a números\n",
    "ordinal_mapping = {\n",
    "    \"Baja tarifa de limpieza\": 0,\n",
    "    \"Tarifa media de limpieza\": 1,\n",
    "    \"Alta tarifa de limpieza\": 2\n",
    "}\n",
    "# Aplicar el mapeo\n",
    "df_madrid_test['Cleaning_Fee'] = df_madrid_test['Cleaning Fee Category'].map(ordinal_mapping)\n",
    "\n",
    "df_madrid_test.drop(columns = ['Cleaning Fee Category', 'Cleaning Fee'], inplace = True)\n",
    "\n",
    "\n",
    "\n",
    "# Guests Included\n",
    "\n",
    "\n",
    "\n",
    "df_madrid_test = df_madrid_test.drop(df_madrid_test[df_madrid_test['Guests Included'] > 4].index)\n",
    "\n",
    "from sklearn.preprocessing import LabelEncoder\n",
    "le = LabelEncoder()\n",
    "df_madrid_test['Guests Included'] = le.fit_transform(df_madrid_test['Guests Included'])\n",
    "\n",
    "\n",
    "\n",
    "\n",
    "# Extra People\n",
    "\n",
    "\n",
    "\n",
    "def categorizar_coste_extra(valor):\n",
    "    if valor < 1:\n",
    "        return 'sin coste adicional'\n",
    "    elif 1 <= valor <= 10:\n",
    "        return 'coste bajo'\n",
    "    else:\n",
    "        return 'coste alto'\n",
    "\n",
    "# Aplicar la función\n",
    "df_madrid_test['coste_exceso_aforo'] = df_madrid_test['Extra People'].map(lambda x: categorizar_coste_extra(x))\n",
    "\n",
    "\n",
    "# Crear un diccionario para mapear las categorías a números\n",
    "ordinal_mapping = {\n",
    "    \"sin coste adicional\": 0,\n",
    "    \"coste bajo\": 1,\n",
    "    \"coste alto\": 2\n",
    "}\n",
    "\n",
    "# Aplicar el mapeo\n",
    "df_madrid_test['Extra_People'] = df_madrid_test['coste_exceso_aforo'].map(ordinal_mapping)\n",
    "\n",
    "\n",
    "df_madrid_test.drop(columns = ['coste_exceso_aforo', 'Extra People'], inplace = True)\n",
    "\n",
    "\n",
    "\n",
    "#   Minimum Nights\n",
    "\n",
    "\n",
    "df_madrid_test['Minimum_Nights_Grouped'] = pd.cut(df_madrid_test['Minimum Nights'], \n",
    "                                             bins=[0, 1, 2, 3, float('inf')], \n",
    "                                             labels=['una noche', 'dos noches', 'tres noches ', 'Más de 3 noches'])\n",
    "\n",
    "\n",
    "df_madrid_test = pd.get_dummies(df_madrid_test, columns=['Minimum_Nights_Grouped'], drop_first=True)\n",
    "\n",
    "df_madrid_test.drop(columns = ['Minimum Nights'], inplace = True)\n",
    "\n",
    "\n",
    "\n",
    "#   Maximum Nights\n",
    "\n",
    "\n",
    "\n",
    "df_madrid_test.drop(columns = ['Maximum Nights'], inplace = True)\n",
    "\n",
    "\n",
    "\n",
    "#   Availability 60\n",
    "\n",
    "\n",
    "# Definir los intervalos\n",
    "bins = [0, 15, 30, 60]  # 0-15, 16-30, 31-60 días\n",
    "labels = ['Baja Disponibilidad', 'Disponibilidad Moderada', 'Alta Disponibilidad']\n",
    "\n",
    "# Crear la nueva columna categórica\n",
    "df_madrid_test['Availability 60 Grouped'] = pd.cut(df_madrid_test['Availability 60'], bins=bins, labels=labels, right=True)\n",
    "\n",
    "ordinal_mapping = {\n",
    "    \"Baja Disponibilidad\": 0,\n",
    "    \"Disponibilidad Moderada\": 1,\n",
    "    \"Alta Disponibilidad\": 2\n",
    "}\n",
    "# Aplicar el mapeo\n",
    "df_madrid_test['Availavility60'] = df_madrid_test['Availability 60 Grouped'].map(ordinal_mapping)\n",
    "\n",
    "df_madrid_test.drop(columns = [ 'Availability 60', 'Availability 60 Grouped'], inplace = True)\n",
    "\n",
    "\n",
    "\n",
    "#   Review Scores Rating\n",
    "\n",
    "\n",
    "def asignar_grupo_intervalos(rating):\n",
    "    if rating <= 60:\n",
    "        return 'Baja puntuación'\n",
    "    elif rating <= 80:\n",
    "        return 'Puntuación media'\n",
    "    else:\n",
    "        return 'Alta puntuación'\n",
    "\n",
    "# Aplicar la función para asignar la clasificación\n",
    "df_madrid_test['Review Group'] = df_madrid_test['Review Scores Rating'].apply(asignar_grupo_intervalos)\n",
    "\n",
    "ordinal_mapping = {\n",
    "    \"Baja puntuación\": 0,\n",
    "    \"Puntuación media\": 1,\n",
    "    \"Alta puntuación\": 2\n",
    "}\n",
    "# Aplicar el mapeo\n",
    "df_madrid_test['Review_Scores_Rating'] = df_madrid_test['Review Group'].map(ordinal_mapping)\n",
    "\n",
    "df_madrid_test.drop(columns =['Review Group', 'Review Scores Rating'], inplace = True)\n",
    "\n",
    "\n",
    "\n",
    "#  Review Scores Accuracy\n",
    "\n",
    "\n",
    "\n",
    "\n",
    "percentiles = df_madrid_test['Review Scores Accuracy'].quantile([0.33, 0.66])\n",
    "def asignar_grupo_intervalos(rating):\n",
    "    if rating <= percentiles[0.33]:\n",
    "        return 'Baja puntuación'\n",
    "    elif rating <= percentiles[0.66]:\n",
    "        return 'Puntuación media'\n",
    "    else:\n",
    "        return 'Alta puntuación'\n",
    "\n",
    "# Aplicar la función para asignar la clasificación\n",
    "df_madrid_test['Review Scores Accuracy Group'] = df_madrid_test['Review Scores Accuracy'].apply(asignar_grupo_intervalos)\n",
    "\n",
    "ordinal_mapping = {\n",
    "    \"Baja puntuación\": 0,\n",
    "    \"Puntuación media\": 1,\n",
    "    \"Alta puntuación\": 2\n",
    "}\n",
    "# Aplicar el mapeo\n",
    "df_madrid_test['Review_Scores_Accuracy'] = df_madrid_test['Review Scores Accuracy Group'].map(ordinal_mapping)\n",
    "\n",
    "df_madrid_test.drop(columns  = ['Review Scores Accuracy', 'Review Scores Accuracy Group'], inplace=True)\n",
    "\n",
    "\n",
    "\n",
    "#   Review Scores Cleanliness\n",
    "\n",
    "\n",
    "percentiles = df_madrid_test['Review Scores Cleanliness'].quantile([0.33, 0.66])\n",
    "def asignar_grupo_intervalos(rating):\n",
    "    if rating <= percentiles[0.33]:\n",
    "        return 'Baja puntuación'\n",
    "    elif rating <= percentiles[0.66]:\n",
    "        return 'Puntuación media'\n",
    "    else:\n",
    "        return 'Alta puntuación'\n",
    "\n",
    "# Aplicar la función para asignar la clasificación\n",
    "df_madrid_test['Review Scores Cleanliness Group'] = df_madrid_test['Review Scores Cleanliness'].apply(asignar_grupo_intervalos)\n",
    "\n",
    "ordinal_mapping = {\n",
    "    \"Baja puntuación\": 0,\n",
    "    \"Puntuación media\": 1,\n",
    "    \"Alta puntuación\": 2\n",
    "}\n",
    "# Aplicar el mapeo\n",
    "df_madrid_test['Review_Scores_Cleanliness'] = df_madrid_test['Review Scores Cleanliness Group'].map(ordinal_mapping)\n",
    "\n",
    "df_madrid_test.drop(columns = ['Review Scores Cleanliness', 'Review Scores Cleanliness Group'], inplace=True)\n",
    "\n",
    "\n",
    "\n",
    "#    Review Scores Checkin\n",
    "\n",
    "\n",
    "\n",
    "percentiles = df_madrid_test['Review Scores Checkin'].quantile([0.33, 0.66])\n",
    "def asignar_grupo_intervalos(rating):\n",
    "    if rating <= percentiles[0.33]:\n",
    "        return 'Baja puntuación'\n",
    "    elif rating <= percentiles[0.66]:\n",
    "        return 'Puntuación media'\n",
    "    else:\n",
    "        return 'Alta puntuación'\n",
    "\n",
    "# Aplicar la función para asignar la clasificación\n",
    "df_madrid_test['Review Scores Checkin Group'] = df_madrid_test['Review Scores Checkin'].apply(asignar_grupo_intervalos)\n",
    "\n",
    "ordinal_mapping = {\n",
    "    \"Baja puntuación\": 0,\n",
    "    \"Puntuación media\": 1,\n",
    "    \"Alta puntuación\": 2\n",
    "}\n",
    "# Aplicar el mapeo\n",
    "df_madrid_test['Review_Scores_Checkin'] = df_madrid_test['Review Scores Checkin Group'].map(ordinal_mapping)\n",
    "\n",
    "df_madrid_test.drop(columns = ['Review Scores Checkin', 'Review Scores Checkin Group'], inplace = True)\n",
    "\n",
    "\n",
    "\n",
    "#   Review Scores Communication \n",
    "\n",
    "\n",
    "\n",
    "percentiles = df_madrid_test['Review Scores Communication'].quantile([0.33, 0.66])\n",
    "def asignar_grupo_intervalos(rating):\n",
    "    if rating <= percentiles[0.33]:\n",
    "        return 'Baja puntuación'\n",
    "    elif rating <= percentiles[0.66]:\n",
    "        return 'Puntuación media'\n",
    "    else:\n",
    "        return 'Alta puntuación'\n",
    "\n",
    "# Aplicar la función para asignar la clasificación\n",
    "df_madrid_test['Review Scores Communication Group'] = df_madrid_test['Review Scores Communication'].apply(asignar_grupo_intervalos)\n",
    "\n",
    "ordinal_mapping = {\n",
    "    \"Baja puntuación\": 0,\n",
    "    \"Puntuación media\": 1,\n",
    "    \"Alta puntuación\": 2\n",
    "}\n",
    "# Aplicar el mapeo\n",
    "df_madrid_test['Review_Scores_Communication'] = df_madrid_test['Review Scores Communication Group'].map(ordinal_mapping)\n",
    "\n",
    "df_madrid_test.drop(columns = [ 'Review Scores Communication', 'Review Scores Communication Group'], inplace = True)\n",
    "\n",
    "\n",
    "\n",
    "#Review Scores Location\n",
    "\n",
    "\n",
    "\n",
    "percentiles = df_madrid_test['Review Scores Location'].quantile([0.33, 0.66])\n",
    "def asignar_grupo_intervalos(rating):\n",
    "    if rating <= percentiles[0.33]:\n",
    "        return 'Baja puntuación'\n",
    "    elif rating <= percentiles[0.66]:\n",
    "        return 'Puntuación media'\n",
    "    else:\n",
    "        return 'Alta puntuación'\n",
    "\n",
    "# Aplicar la función para asignar la clasificación\n",
    "df_madrid_test['Review Scores Location Group'] = df_madrid_test['Review Scores Location'].apply(asignar_grupo_intervalos)\n",
    "\n",
    "ordinal_mapping = {\n",
    "    \"Baja puntuación\": 0,\n",
    "    \"Puntuación media\": 1,\n",
    "    \"Alta puntuación\": 2\n",
    "}\n",
    "# Aplicar el mapeo\n",
    "df_madrid_test['Review_Scores_Location'] = df_madrid_test['Review Scores Location Group'].map(ordinal_mapping)\n",
    "\n",
    "df_madrid_test.drop(columns = ['Review Scores Location', 'Review Scores Location Group'], inplace = True)\n",
    "\n",
    "\n",
    "\n",
    "\n",
    "#   Review Scores Value\n",
    "\n",
    "\n",
    "\n",
    "percentiles = df_madrid_test['Review Scores Value'].quantile([0.33, 0.66])\n",
    "def asignar_grupo_intervalos(rating):\n",
    "    if rating <= percentiles[0.33]:\n",
    "        return 'Baja puntuación'\n",
    "    elif rating <= percentiles[0.66]:\n",
    "        return 'Puntuación media'\n",
    "    else:\n",
    "        return 'Alta puntuación'\n",
    "\n",
    "# Aplicar la función para asignar la clasificación\n",
    "df_madrid_test['Review Scores Value Group'] = df_madrid_test['Review Scores Value'].apply(asignar_grupo_intervalos)\n",
    "\n",
    "ordinal_mapping = {\n",
    "    \"Baja puntuación\": 0,\n",
    "    \"Puntuación media\": 1,\n",
    "    \"Alta puntuación\": 2\n",
    "}\n",
    "# Aplicar el mapeo\n",
    "df_madrid_test['Review_Scores_Value'] = df_madrid_test['Review Scores Value Group'].map(ordinal_mapping)\n",
    "\n",
    "df_madrid_test.drop(columns = ['Review Scores Value', 'Review Scores Value Group'], inplace=True)\n",
    "\n",
    "\n",
    "\n",
    "\n",
    "#   Cancellation Policy\n",
    "\n",
    "\n",
    "\n",
    "\n",
    "df_madrid_test = df_madrid_test[~df_madrid_test[\"Cancellation Policy\"].isin([\"super_strict_60\", \"super_strict_30\"])]\n",
    "\n",
    "\n",
    "# Crear un diccionario para mapear las categorías a números\n",
    "ordinal_mapping = {\n",
    "    \"strict\": 2,\n",
    "    \"moderate\": 1,\n",
    "    \"flexible \": 0\n",
    "}\n",
    "\n",
    "# Aplicar el mapeo\n",
    "df_madrid_test['Cancel_Poly'] = df_madrid_test['Cancellation Policy'].map(ordinal_mapping)\n",
    "\n",
    "df_madrid_test.drop(columns = ['Cancellation Policy'], inplace = True)   \n",
    "\n",
    "\n",
    "\n",
    "\n",
    "#  Features\n",
    "\n",
    "\n",
    "\n",
    "\n",
    "# Paso 1: Extraer todas las características únicas\n",
    "all_features = df_madrid_test['Features'].fillna('').apply(lambda x: x.split(','))\n",
    "# Paso 2: Aplanar todas las listas en una sola lista\n",
    "flattened_features = [item for sublist in all_features for item in sublist]\n",
    "# Paso 3: Obtener características únicas\n",
    "unique_features = list(set(flattened_features))\n",
    "print(unique_features)\n",
    "\n",
    "features_mapping = {\n",
    "    \"Is Location Exact\": 7,\n",
    "    \"Require Guest Phone Verification\": 3,\n",
    "    \"Requires License\": 4,\n",
    "    \"Host Identity Verified\": 6,\n",
    "    \"Host Is Superhost\": 10,\n",
    "    \"Host Has Profile Pic\": 5,\n",
    "    \"Require Guest Profile Picture\": 3,\n",
    "    \"Instant Bookable\": 8\n",
    "}\n",
    "\n",
    "# Función para calcular el valor de las características\n",
    "def calculate_features_value(row, features_mapping):\n",
    "    # Verificar si el valor es una cadena y no está vacío\n",
    "    if isinstance(row, str) and row.strip():\n",
    "        # Obtener las verificaciones presentes en la observación\n",
    "        verifications = row.split(',')\n",
    "        \n",
    "        # Obtener las puntuaciones de seguridad para cada verificación presente\n",
    "        scores = [features_mapping.get(verification.strip(), 0) for verification in verifications]\n",
    "        \n",
    "        # Sumar las puntuaciones de los distintos amenities, devolver el máximo\n",
    "        return max(scores) if scores else 0\n",
    "    else:\n",
    "        # Si la fila es nula o no es una cadena, asignar 0\n",
    "        return 0\n",
    "\n",
    "# Aplicar la función a la columna 'Features'\n",
    "df_madrid_test['Features_value'] = df_madrid_test['Features'].apply(calculate_features_value, args=(features_mapping,))\n",
    "\n",
    "\n",
    "# Calcular los percentiles de la distribución de 'Features_value'\n",
    "percentiles = df_madrid_test['Features_value'].quantile([0.33, 0.66])\n",
    "\n",
    "# Función para asignar grupos según los percentiles\n",
    "def asignar_valor(valor):\n",
    "    if valor <= percentiles[0.33]:\n",
    "        return 'Baja relevancia'\n",
    "    elif valor <= percentiles[0.66]:\n",
    "        return 'Relevancia media'\n",
    "    else:\n",
    "        return 'Alta relevancia'\n",
    "\n",
    "# Aplicar la función\n",
    "df_madrid_test['Feature_importance'] = df_madrid_test['Features_value'].apply(asignar_valor)\n",
    "\n",
    "# Crear un diccionario para mapear las categorías a números\n",
    "ordinal_mapping = {\n",
    "    \"Alta relevancia\": 2,\n",
    "    \"Relevancia media\": 1,\n",
    "    \"Baja relevancia\": 0\n",
    "}\n",
    "\n",
    "# Aplicar el mapeo\n",
    "df_madrid_test['Feature_Level'] = df_madrid_test['Feature_importance'].map(ordinal_mapping)\n",
    "\n",
    "df_madrid_test.drop(columns = ['Features', 'Features_value', 'Feature_importance'], inplace = True)\n"
   ]
  },
  {
   "cell_type": "markdown",
   "metadata": {},
   "source": [
    "### Imputación de valores nulos"
   ]
  },
  {
   "cell_type": "markdown",
   "metadata": {},
   "source": [
    "Realizo la imputación de valores nulos con ***KNNImputer*** y un ***n_neighbors*** de 5 "
   ]
  },
  {
   "cell_type": "code",
   "execution_count": 234,
   "metadata": {},
   "outputs": [],
   "source": [
    "from sklearn.impute import KNNImputer\n",
    "\n",
    "# Creo el imputador KNN\n",
    "imputer = KNNImputer(n_neighbors=5)\n",
    "\n",
    "# Ajusto el imputador SOLO en el conjunto de entrenamiento\n",
    "imputer.fit(df_madrid)  # Ajustar en train\n",
    "\n",
    "# Aplico la imputación al conjunto de entrenamiento\n",
    "train_imputed = imputer.transform(df_madrid)\n",
    "train_imputed = pd.DataFrame(train_imputed, columns=df_madrid.columns)\n",
    "\n",
    "# Aplico la imputación al conjunto de prueba (usando el mismo imputador ajustado)\n",
    "test_imputed = imputer.transform(df_madrid_test)\n",
    "test_imputed = pd.DataFrame(test_imputed, columns=df_madrid_test.columns)\n"
   ]
  },
  {
   "cell_type": "markdown",
   "metadata": {},
   "source": [
    "Ahora podemos preparar los datos para sklearn:"
   ]
  },
  {
   "cell_type": "code",
   "execution_count": 235,
   "metadata": {},
   "outputs": [],
   "source": [
    "from sklearn import preprocessing\n",
    "\n",
    "# Dataset de train\n",
    "data_train = train_imputed.values\n",
    "#y_train = (data_train[:,0:1])     # nos quedamos con la 1ª columna, price \n",
    "y_train = data_train[:, 0]\n",
    "X_train = data_train[:,1:]      # nos quedamos con el resto\n",
    "\n",
    "# Dataset de test\n",
    "data_test = test_imputed.values\n",
    "y_test = (data_test[:,0:1])     # nos quedamos con la 1ª columna, price \n",
    "X_test = data_test[:,1:]      # nos quedamos con el resto"
   ]
  },
  {
   "cell_type": "markdown",
   "metadata": {},
   "source": [
    "Y si queremos, podemos normalizar, pero con los datos de train!"
   ]
  },
  {
   "cell_type": "code",
   "execution_count": 236,
   "metadata": {},
   "outputs": [],
   "source": [
    "# Escalamos (con los datos de train)\n",
    "scaler = preprocessing.StandardScaler().fit(X_train)\n",
    "XtrainScaled = scaler.transform(X_train)\n",
    "\n",
    "# recordad que esta normalización/escalado la realizo con el scaler anterior, basado en los datos de training!\n",
    "XtestScaled = scaler.transform(X_test) "
   ]
  },
  {
   "cell_type": "code",
   "execution_count": 237,
   "metadata": {},
   "outputs": [
    {
     "name": "stdout",
     "output_type": "stream",
     "text": [
      "Datos entrenamiento:  (10237, 42)\n",
      "Datos test:  (2549, 42)\n"
     ]
    }
   ],
   "source": [
    "print('Datos entrenamiento: ', XtrainScaled.shape)\n",
    "print('Datos test: ', XtestScaled.shape)"
   ]
  },
  {
   "cell_type": "code",
   "execution_count": 238,
   "metadata": {},
   "outputs": [
    {
     "data": {
      "text/plain": [
       "['y_test.pkl']"
      ]
     },
     "execution_count": 238,
     "metadata": {},
     "output_type": "execute_result"
    }
   ],
   "source": [
    "import joblib\n",
    "\n",
    "# Guardar las variables\n",
    "joblib.dump(XtrainScaled, \"XtrainScaled.pkl\")\n",
    "joblib.dump(y_train, \"y_train.pkl\")\n",
    "joblib.dump(XtestScaled, \"XtestScaled.pkl\")\n",
    "joblib.dump(y_test, \"y_test.pkl\")"
   ]
  },
  {
   "cell_type": "markdown",
   "metadata": {},
   "source": [
    "## Selección del Modelo Óptimo para Predicción de Precios"
   ]
  },
  {
   "cell_type": "markdown",
   "metadata": {},
   "source": [
    "Para abordar el problema de predicción de precios, he decidido evaluar una variedad de modelos de regresión que van desde enfoques más simples hasta métodos más complejos. Comencé con modelos lineales como la regresión lineal con regularización Lasso y Ridge, que permiten controlar el sobreajuste penalizando los coeficientes. Luego incorporé un modelo basado en árboles de decisión, que captura relaciones no lineales entre variables. Finalmente, apliqué técnicas de ensamblado como BaggingRegressor, RandomForestRegressor y XGBoost, que combinan múltiples modelos base para mejorar la precisión y la robustez de las predicciones. Para optimizar el rendimiento de cada modelo y asegurar una comparación justa, utilicé GridSearchCV, lo cual me permitió explorar de forma sistemática un espacio de hiperparámetros y seleccionar la mejor combinación a través de validación cruzada. Este enfoque garantiza una evaluación más rigurosa del desempeño de cada técnica y facilita la selección del modelo más adecuado para el problema."
   ]
  },
  {
   "cell_type": "code",
   "execution_count": 240,
   "metadata": {},
   "outputs": [
    {
     "name": "stdout",
     "output_type": "stream",
     "text": [
      "Collecting xgboost\n",
      "  Downloading xgboost-3.0.2-py3-none-macosx_12_0_arm64.whl.metadata (2.1 kB)\n",
      "Requirement already satisfied: numpy in /opt/homebrew/anaconda3/envs/bd14-despliegue-algo/lib/python3.11/site-packages (from xgboost) (2.1.3)\n",
      "Requirement already satisfied: scipy in /opt/homebrew/anaconda3/envs/bd14-despliegue-algo/lib/python3.11/site-packages (from xgboost) (1.15.3)\n",
      "Downloading xgboost-3.0.2-py3-none-macosx_12_0_arm64.whl (2.0 MB)\n",
      "\u001b[2K   \u001b[90m━━━━━━━━━━━━━━━━━━━━━━━━━━━━━━━━━━━━━━━━\u001b[0m \u001b[32m2.0/2.0 MB\u001b[0m \u001b[31m5.3 MB/s\u001b[0m eta \u001b[36m0:00:00\u001b[0ma \u001b[36m0:00:01\u001b[0m\n",
      "\u001b[?25hInstalling collected packages: xgboost\n",
      "Successfully installed xgboost-3.0.2\n"
     ]
    }
   ],
   "source": [
    "!pip install xgboost\n"
   ]
  },
  {
   "cell_type": "code",
   "execution_count": 241,
   "metadata": {},
   "outputs": [
    {
     "name": "stderr",
     "output_type": "stream",
     "text": [
      "/opt/homebrew/anaconda3/envs/bd14-despliegue-algo/lib/python3.11/site-packages/joblib/externals/loky/process_executor.py:782: UserWarning: A worker stopped while some jobs were given to the executor. This can be caused by a too short worker timeout or by a memory leak.\n",
      "  warnings.warn(\n"
     ]
    },
    {
     "name": "stdout",
     "output_type": "stream",
     "text": [
      "         Modelo  MSE_Train  RMSE_Train  R²_Train  MAPE_Train  MSE_Test  RMSE_Test   R²_Test  MAPE_Test                                               Mejores parámetros\n",
      "4       Bagging   0.016211    0.127322  0.958936    0.023899  0.106493   0.326333  0.714480   0.062001  {'max_features': 0.8, 'max_samples': 1.0, 'n_estimators': 1000}\n",
      "5       XGBoost   0.081089    0.284761  0.794593    0.054832  0.107483   0.327846  0.711827   0.062077                             {'max_depth': 5, 'n_estimators': 50}\n",
      "3  RandomForest   0.094207    0.306932  0.761364    0.059483  0.115515   0.339875  0.690292   0.064824                            {'max_depth': 9, 'n_estimators': 500}\n",
      "0         Lasso   0.134577    0.366848  0.659102    0.071344  0.132128   0.363495  0.645750   0.069932                                {'alpha': 0.00018329807108324357}\n",
      "1         Ridge   0.134570    0.366838  0.659120    0.071347  0.132209   0.363605  0.645534   0.069983                                                  {'alpha': 10.0}\n",
      "2  DecisionTree   0.138804    0.372564  0.648395    0.071950  0.138424   0.372054  0.628870   0.071459                                                 {'max_depth': 5}\n"
     ]
    }
   ],
   "source": [
    "from sklearn.model_selection import GridSearchCV\n",
    "from sklearn.linear_model import Lasso, Ridge\n",
    "from sklearn.tree import DecisionTreeRegressor\n",
    "from sklearn.ensemble import RandomForestRegressor, BaggingRegressor\n",
    "from xgboost import XGBRegressor\n",
    "from sklearn.metrics import mean_squared_error, r2_score, mean_absolute_percentage_error\n",
    "import numpy as np\n",
    "import pandas as pd\n",
    "\n",
    "# Asumiendo que ya tienes: XtrainScaled, y_train, XtestScaled, y_test\n",
    "\n",
    "modelos_con_grid = {\n",
    "    'Lasso': (Lasso(max_iter=30000), {'alpha': np.logspace(-5, 1, 20)}),\n",
    "    'Ridge': (Ridge(), {'alpha': np.logspace(-5, 1, 20)}),\n",
    "    'DecisionTree': (DecisionTreeRegressor(random_state=42), {'max_depth': [3, 5, 10, 20]}),\n",
    "    'RandomForest': (RandomForestRegressor(random_state=42), {'n_estimators': [50, 100, 500, 1000], 'max_depth': range(3,10)}),\n",
    "    'Bagging': (BaggingRegressor(random_state=42), {'n_estimators': [50, 100, 500, 1000], 'max_samples': [0.6, 0.8, 1.0],  'max_features': [0.6, 0.8, 1.0] }),\n",
    "    'XGBoost': (XGBRegressor(random_state=42, verbosity=0), {'n_estimators': [50, 100, 500, 1000], 'max_depth': range(3, 10)})\n",
    "}\n",
    "\n",
    "resultados = []\n",
    "\n",
    "for nombre, (modelo, params) in modelos_con_grid.items():\n",
    "    grid = GridSearchCV(modelo, param_grid=params, scoring='neg_mean_squared_error', cv=5, n_jobs=-1)\n",
    "    grid.fit(XtrainScaled, y_train)\n",
    "    mejor_modelo = grid.best_estimator_\n",
    "\n",
    "    # Predicciones en train\n",
    "    y_pred_train = mejor_modelo.predict(XtrainScaled)\n",
    "    mse_train = mean_squared_error(y_train, y_pred_train)\n",
    "    rmse_train = np.sqrt(mse_train)\n",
    "    r2_train = r2_score(y_train, y_pred_train)\n",
    "    mape_train = mean_absolute_percentage_error(y_train, y_pred_train)\n",
    "\n",
    "    # Predicciones en test\n",
    "    y_pred_test = mejor_modelo.predict(XtestScaled)\n",
    "    mse_test = mean_squared_error(y_test, y_pred_test)\n",
    "    rmse_test = np.sqrt(mse_test)\n",
    "    r2_test = r2_score(y_test, y_pred_test)\n",
    "    mape_test = mean_absolute_percentage_error(y_test, y_pred_test)\n",
    "\n",
    "\n",
    "    resultados.append([\n",
    "        nombre,\n",
    "        mse_train, rmse_train, r2_train, mape_train,\n",
    "        mse_test, rmse_test, r2_test, mape_test,\n",
    "        grid.best_params_\n",
    "    ])\n",
    "\n",
    "# Crear el DataFrame con métricas para entrenamiento y test\n",
    "df_resultados = pd.DataFrame(resultados, columns=[\n",
    "    'Modelo',\n",
    "    'MSE_Train', 'RMSE_Train', 'R²_Train', 'MAPE_Train',\n",
    "    'MSE_Test',  'RMSE_Test',  'R²_Test',  'MAPE_Test',\n",
    "    'Mejores parámetros'\n",
    "])\n",
    "\n",
    "# Ordenar por RMSE del conjunto de test\n",
    "df_resultados.sort_values(by='RMSE_Test', inplace=True)\n",
    "print(df_resultados)"
   ]
  },
  {
   "cell_type": "markdown",
   "metadata": {},
   "source": [
    "### Conclusión sobre el modelo seleccionado\n",
    "\n",
    "Tras evaluar diversos modelos de regresión —incluyendo regresión lineal regularizada (Lasso y Ridge), árboles de decisión, y modelos de ensamble como RandomForest, Bagging y XGBoost—, el modelo que ofrece el mejor equilibrio entre rendimiento y generalización es **XGBoost**.\n",
    "\n",
    "Aunque el modelo **Bagging** alcanza el mejor rendimiento en entrenamiento (R² ≈ 0.96), la diferencia respecto al conjunto de test (R² ≈ 0.71) es notable, lo que indica un posible **sobreajuste**. Este comportamiento es habitual en modelos de alta capacidad como Bagging, especialmente con un número elevado de estimadores.\n",
    "\n",
    "En cambio, **XGBoost** presenta:\n",
    "\n",
    "- Un **R² en test** de aproximadamente **0.71**, muy similar al de Bagging.\n",
    "- Un **RMSE** y **MAPE** en test prácticamente iguales a los de Bagging.\n",
    "- Una diferencia mucho menor entre el rendimiento en entrenamiento (R² ≈ 0.79) y test, lo que indica **mejor capacidad de generalización**.\n",
    "\n",
    "Por lo tanto, se considera que **XGBoost es el modelo más adecuado**, ya que logra un rendimiento competitivo en test sin mostrar signos significativos de sobreajuste.\n",
    "\n",
    "Los modelos lineales (**Lasso** y **Ridge**) y el **árbol de decisión** presentan rendimientos inferiores tanto en entrenamiento como en test, lo que indica que no son capaces de capturar adecuadamente la complejidad del problema."
   ]
  }
 ],
 "metadata": {
  "kernelspec": {
   "display_name": "bd14-despliegue-algo",
   "language": "python",
   "name": "python3"
  },
  "language_info": {
   "codemirror_mode": {
    "name": "ipython",
    "version": 3
   },
   "file_extension": ".py",
   "mimetype": "text/x-python",
   "name": "python",
   "nbconvert_exporter": "python",
   "pygments_lexer": "ipython3",
   "version": "3.11.0"
  }
 },
 "nbformat": 4,
 "nbformat_minor": 2
}
